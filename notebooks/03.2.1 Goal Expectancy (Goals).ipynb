{
 "cells": [
  {
   "cell_type": "markdown",
   "metadata": {},
   "source": [
    "# 03.2.1 Goal Expectancy (Goals)"
   ]
  },
  {
   "cell_type": "markdown",
   "metadata": {},
   "source": [
    "## Now moved to src!"
   ]
  },
  {
   "cell_type": "code",
   "execution_count": 1,
   "metadata": {},
   "outputs": [],
   "source": [
    "% matplotlib inline\n",
    "\n",
    "import os\n",
    "import sys\n",
    "\n",
    "import pandas as pd\n",
    "import xarray as xr\n",
    "\n",
    "test_dir = '../data/test/'\n",
    "datacube_path = test_dir + 'XArrayDataSet_1.nc'\n",
    "team_list_path = test_dir + 'team_list.pickle'\n",
    "\n",
    "pd.set_option(\"display.width\",100)\n",
    "pd.options.display.float_format = '{:,.2f}'.format\n",
    "\n",
    "# add the 'src' directory to path to import modules\n",
    "src_dir = os.path.join(os.getcwd(), os.pardir, 'src')\n",
    "sys.path.append(src_dir)\n",
    "\n",
    "from utilities.utilities import get_fixture_list, get_team_list"
   ]
  },
  {
   "cell_type": "markdown",
   "metadata": {},
   "source": [
    "## Set Up"
   ]
  },
  {
   "cell_type": "code",
   "execution_count": 2,
   "metadata": {},
   "outputs": [
    {
     "name": "stdout",
     "output_type": "stream",
     "text": [
      "                     h_team             a_team\n",
      "0                   Arsenal     Leicester City\n",
      "1  Brighton and Hove Albion    Manchester City\n",
      "2                   Chelsea            Burnley\n",
      "3            Crystal Palace  Huddersfield Town\n",
      "4                   Everton         Stoke City\n",
      "(170, 2) \n",
      "\n",
      "['Arsenal', 'Bournemouth', 'Brighton and Hove Albion', 'Burnley', 'Chelsea', 'Crystal Palace', 'Everton', 'Huddersfield Town', 'Leicester City', 'Liverpool', 'Manchester City', 'Manchester United', 'Newcastle United', 'Southampton', 'Stoke City', 'Swansea City', 'Tottenham Hotspur', 'Watford', 'West Bromwich Albion', 'West Ham United']\n",
      "20 \n",
      "\n",
      "             h_team             a_team\n",
      "50          Burnley  Huddersfield Town\n",
      "51          Everton        Bournemouth\n",
      "52   Leicester City          Liverpool\n",
      "53  Manchester City     Crystal Palace\n",
      "54      Southampton  Manchester United\n",
      "55       Stoke City            Chelsea\n"
     ]
    }
   ],
   "source": [
    "fixtures = get_fixture_list(datacube_path)\n",
    "print(fixtures.head())\n",
    "print(fixtures.shape, '\\n')\n",
    "\n",
    "team_list= get_team_list(team_list_path)\n",
    "print(team_list)\n",
    "print(len(team_list), '\\n')\n",
    "\n",
    "ds = xr.open_dataset(datacube_path)\n",
    "\n",
    "print(fixtures.iloc[50:56,:])"
   ]
  },
  {
   "cell_type": "markdown",
   "metadata": {},
   "source": [
    "## Goal Expectancy Extractor"
   ]
  },
  {
   "cell_type": "code",
   "execution_count": 3,
   "metadata": {
    "scrolled": false
   },
   "outputs": [
    {
     "name": "stdout",
     "output_type": "stream",
     "text": [
      "\n",
      "                      h_team                a_team  h_GE  a_GE\n",
      "50                   Burnley     Huddersfield Town  0.65  0.75\n",
      "51                   Everton           Bournemouth  0.67  0.66\n",
      "52            Leicester City             Liverpool  2.56  2.13\n",
      "53           Manchester City        Crystal Palace  4.41  0.00\n",
      "54               Southampton     Manchester United  0.30  1.73\n",
      "55                Stoke City               Chelsea  0.94  1.49\n",
      "56              Swansea City               Watford  0.53  1.59\n",
      "57           West Ham United     Tottenham Hotspur  0.58  1.45\n",
      "58  Brighton and Hove Albion      Newcastle United  0.60  1.12\n",
      "59                   Arsenal  West Bromwich Albion  1.25  1.02\n"
     ]
    }
   ],
   "source": [
    "from sklearn.base import BaseEstimator, TransformerMixin\n",
    "from ibex import FrameMixin\n",
    "\n",
    "class GoalExpectancyExtractor(BaseEstimator, TransformerMixin, FrameMixin):\n",
    "    \"\"\"\n",
    "    Accepts a Fixture list, a team list, and a DataSet\n",
    "    Calculates Goal Expectancy for each team in the fixture list    \n",
    "    \"\"\"\n",
    "    \n",
    "    def __init__(self,fixture_batch, dataset, team_list):\n",
    "        self.fixture_batch = fixture_batch\n",
    "        self.dataset = dataset\n",
    "        self.team_list = team_list\n",
    "\n",
    "        \n",
    "    def get_league_history(self,fixture_batch, ds):\n",
    "        \"\"\"\n",
    "        \"\"\"\n",
    "        lowest_index = min(fixture_batch.index)\n",
    "        league_history_ds = ds.where(ds['Idx'] < lowest_index, drop=True)\n",
    "        league_history_df = league_history_ds.to_dataframe().dropna(subset=['Idx']).sort_values('Idx')\n",
    "        league_history_df.reset_index(inplace=True)\n",
    "        league_history_df.set_index('Idx', inplace=True)\n",
    "        return league_history_df\n",
    "\n",
    "    \n",
    "    def get_prev_games_subset_df(self, prev_games_df):\n",
    "        \"\"\"\n",
    "        \"\"\"\n",
    "        some_strs= ['goal']\n",
    "        relevant_cols = [col for col in prev_games_df.columns for some_str in some_strs if some_str in col]\n",
    "        relevant_cols = relevant_cols + ['h_team', 'a_team']\n",
    "        return prev_games_df[relevant_cols]    \n",
    "\n",
    "    \n",
    "    def calc_summary_stats(self, prev_games_subset_df):\n",
    "        h_tot_games_played = a_tot_games_played = len(prev_games_subset_df.index)\n",
    "\n",
    "        h_tot_GF = prev_games_subset_df['h_goals'].sum() ; a_tot_GF = prev_games_subset_df['a_goals'].sum()\n",
    "\n",
    "        self.h_GF_mean_per_game = h_tot_GF/h_tot_games_played ; self.a_GF_mean_per_game = a_tot_GF/a_tot_games_played\n",
    "\n",
    "        self.G_mean_per_game = (h_tot_GF + a_tot_GF)/(h_tot_games_played + a_tot_games_played)\n",
    "\n",
    "        self.h_GF_mean_per_team_to_date = prev_games_subset_df['h_goals'].mean()\n",
    "        self.h_GA_mean_per_team_to_date = prev_games_subset_df['a_goals'].mean()\n",
    "        self.a_GF_mean_per_team_to_date = prev_games_subset_df['a_goals'].mean()\n",
    "        self.a_GA_mean_per_team_to_date = prev_games_subset_df['h_goals'].mean()\n",
    "\n",
    "        \n",
    "    def get_ref_df(self, pdf, team_list):\n",
    "\n",
    "        df_ref = pd.DataFrame(index = team_list)\n",
    "\n",
    "        for team in df_ref.index:\n",
    "            df_ref.loc[team,'h_GF'] = pdf[pdf['h_team'] == team]['h_goals'].mean()#pdf.loc[team, 'h_xGF'].mean()\n",
    "            df_ref.loc[team, 'h_GA'] = pdf[pdf['h_team'] == team]['a_goals'].mean()\n",
    "            df_ref.loc[team, 'a_GF'] = pdf[pdf['a_team'] == team]['a_goals'].mean()\n",
    "            df_ref.loc[team, 'a_GA'] = pdf[pdf['a_team'] == team]['h_goals'].mean()\n",
    "\n",
    "        df_ref = df_ref.assign(Attack_Strength = (df_ref['h_GF']/self.h_GF_mean_per_team_to_date + \\\n",
    "                                                  df_ref['a_GF']/self.a_GF_mean_per_team_to_date)/2)\n",
    "\n",
    "\n",
    "        df_ref = df_ref.assign(Defence_Weakness = (df_ref['h_GA']/self.h_GA_mean_per_team_to_date + \\\n",
    "                                                   df_ref['a_GA']/self.a_GA_mean_per_team_to_date)/2)\n",
    "        df_ref = df_ref.assign(Supremacy = (df_ref['Attack_Strength'] - df_ref['Defence_Weakness'])*self.G_mean_per_game)\n",
    "        #print(df_ref.head(21))\n",
    "        return df_ref\n",
    "\n",
    "    \n",
    "    def get_raw_features(self, fb):\n",
    "        fb = fb.assign(h_attack_strength = self.df_ref.loc[fb['h_team'], 'Attack_Strength'].values)\n",
    "        fb = fb.assign(h_defence_weakness = self.df_ref.loc[fb['h_team'], 'Defence_Weakness'].values)\n",
    "        fb = fb.assign(h_GF_mean_per_game = self.h_GF_mean_per_game)\n",
    "        fb = fb.assign(a_attack_strength = self.df_ref.loc[fb['a_team'], 'Attack_Strength'].values)\n",
    "        fb = fb.assign(a_defence_weakness = self.df_ref.loc[fb['a_team'], 'Defence_Weakness'].values)\n",
    "        fb = fb.assign(a_GF_mean_per_game = self.a_GF_mean_per_game)\n",
    "        fb['dependancy'] = 0.0\n",
    "        return fb\n",
    "    \n",
    "    def get_goal_expectancies(self, rfdf):\n",
    "        feat_df = pd.DataFrame()\n",
    "        feat_df['h_team'] = rfdf['h_team']\n",
    "        feat_df['a_team'] = rfdf['a_team']\n",
    "        feat_df['h_GE'] = rfdf['h_attack_strength'] * rfdf['a_defence_weakness'] * rfdf['h_GF_mean_per_game'] \n",
    "        feat_df['a_GE'] = rfdf['a_attack_strength'] * rfdf['h_defence_weakness'] * rfdf['a_GF_mean_per_game']\n",
    "\n",
    "        return feat_df\n",
    "    \n",
    "    def fit(self, X, y=None):\n",
    "        return self\n",
    "    \n",
    "    \n",
    "    def transform(self, X, y=None):\n",
    "        league_history_df = self.get_league_history(self.fixture_batch, self.dataset)\n",
    "        prev_games_subset_df = self.get_prev_games_subset_df(league_history_df)\n",
    "        self.calc_summary_stats(prev_games_subset_df)\n",
    "        self.df_ref = self.get_ref_df(prev_games_subset_df, self.team_list)\n",
    "        raw_features = self.get_raw_features(self.fixture_batch)\n",
    "        transformed_X = self.get_goal_expectancies(raw_features)\n",
    "        return transformed_X\n",
    "\n",
    "\n",
    "fixture_batch = fixtures.iloc[50:60,:]\n",
    "gee = GoalExpectancyExtractor(fixture_batch, ds, team_list)\n",
    "gee.fit(fixture_batch)\n",
    "feat = gee.transform(fixture_batch)\n",
    "print()\n",
    "print(feat.head(20))"
   ]
  },
  {
   "cell_type": "code",
   "execution_count": null,
   "metadata": {},
   "outputs": [],
   "source": []
  },
  {
   "cell_type": "code",
   "execution_count": null,
   "metadata": {},
   "outputs": [],
   "source": []
  },
  {
   "cell_type": "code",
   "execution_count": null,
   "metadata": {},
   "outputs": [],
   "source": []
  },
  {
   "cell_type": "code",
   "execution_count": null,
   "metadata": {},
   "outputs": [],
   "source": []
  },
  {
   "cell_type": "code",
   "execution_count": null,
   "metadata": {},
   "outputs": [],
   "source": []
  },
  {
   "cell_type": "code",
   "execution_count": null,
   "metadata": {},
   "outputs": [],
   "source": []
  },
  {
   "cell_type": "code",
   "execution_count": null,
   "metadata": {},
   "outputs": [],
   "source": []
  },
  {
   "cell_type": "code",
   "execution_count": null,
   "metadata": {},
   "outputs": [],
   "source": []
  },
  {
   "cell_type": "code",
   "execution_count": null,
   "metadata": {},
   "outputs": [],
   "source": []
  }
 ],
 "metadata": {
  "anaconda-cloud": {},
  "kernelspec": {
   "display_name": "Python 3",
   "language": "python",
   "name": "python3"
  },
  "language_info": {
   "codemirror_mode": {
    "name": "ipython",
    "version": 3
   },
   "file_extension": ".py",
   "mimetype": "text/x-python",
   "name": "python",
   "nbconvert_exporter": "python",
   "pygments_lexer": "ipython3",
   "version": "3.7.3"
  }
 },
 "nbformat": 4,
 "nbformat_minor": 2
}
