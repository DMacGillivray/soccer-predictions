{
 "cells": [
  {
   "cell_type": "markdown",
   "metadata": {},
   "source": [
    "# 04.0 Starter Model"
   ]
  },
  {
   "cell_type": "markdown",
   "metadata": {},
   "source": [
    "## Purpose: \n",
    "\n",
    "Develop a quick and dirty working model:\n",
    "- Is the custom cross validation splitter working correctly within the sklearn framework?\n",
    "- What is the estimated time to run a full dataset through thr model?\n",
    "- Are custom transformers working within a sklearn pipeline?\n",
    "- How to get better visibility of the data processing pipeline? - Play with `ibex`\n",
    "- Set up Feature Union\n",
    "- Set up Model Ensembles\n",
    "\n",
    "### Structure\n",
    "This is for testing workflows, so structure is fluid "
   ]
  },
  {
   "cell_type": "markdown",
   "metadata": {},
   "source": [
    "### Standard Imports"
   ]
  },
  {
   "cell_type": "code",
   "execution_count": 1,
   "metadata": {},
   "outputs": [],
   "source": [
    "% matplotlib inline\n",
    "\n",
    "import os\n",
    "import sys\n",
    "\n",
    "import pandas as pd\n",
    "import numpy as np\n",
    "#import xarray as xr\n",
    "\n",
    "pd.set_option(\"display.width\",100)\n",
    "pd.options.display.float_format = '{:,.2f}'.format\n",
    "\n",
    "# add the 'src' directory to path to import modules\n",
    "src_dir = os.path.join(os.getcwd(), os.pardir, 'src')\n",
    "sys.path.append(src_dir)"
   ]
  },
  {
   "cell_type": "markdown",
   "metadata": {},
   "source": [
    "### Import Custom Tools"
   ]
  },
  {
   "cell_type": "code",
   "execution_count": 2,
   "metadata": {},
   "outputs": [],
   "source": [
    "from utilities.utilities import get_fixture_list, get_team_list, get_dataset\n",
    "from cross_val.LeagueKFold import LeagueKFold"
   ]
  },
  {
   "cell_type": "markdown",
   "metadata": {},
   "source": [
    "### Import Custom Transformers"
   ]
  },
  {
   "cell_type": "code",
   "execution_count": 3,
   "metadata": {},
   "outputs": [],
   "source": [
    "from features.GoalExpectancyExtractor import GoalExpectancyExtractor"
   ]
  },
  {
   "cell_type": "markdown",
   "metadata": {},
   "source": [
    "### Import Sklearn Tools"
   ]
  },
  {
   "cell_type": "code",
   "execution_count": 4,
   "metadata": {},
   "outputs": [],
   "source": [
    "from sklearn.pipeline import Pipeline\n",
    "from sklearn.model_selection import cross_val_score, cross_val_predict, cross_validate"
   ]
  },
  {
   "cell_type": "markdown",
   "metadata": {},
   "source": [
    "### Import Sklearn Transformers wrapped with Ibex"
   ]
  },
  {
   "cell_type": "code",
   "execution_count": 5,
   "metadata": {},
   "outputs": [],
   "source": [
    "from ibex.sklearn.preprocessing import StandardScaler\n",
    "from ibex.sklearn.naive_bayes import GaussianNB"
   ]
  },
  {
   "cell_type": "markdown",
   "metadata": {},
   "source": [
    "### Set up Data & Objects"
   ]
  },
  {
   "cell_type": "code",
   "execution_count": 6,
   "metadata": {},
   "outputs": [],
   "source": [
    "test_dir = '../data/test/'\n",
    "datacube_path = test_dir + 'XArrayDataSet_1.nc'\n",
    "team_list_path = test_dir + 'team_list.pickle'\n",
    "\n",
    "fixture_list = get_fixture_list(datacube_path)\n",
    "#fixture_results = np.ones(len(fixture_list))\n",
    "\n",
    "team_list = get_team_list(team_list_path)\n",
    "dataset = get_dataset(datacube_path)"
   ]
  },
  {
   "cell_type": "code",
   "execution_count": 7,
   "metadata": {
    "scrolled": false
   },
   "outputs": [
    {
     "name": "stdout",
     "output_type": "stream",
     "text": [
      "                     h_team             a_team\n",
      "0                   Arsenal     Leicester City\n",
      "1  Brighton and Hove Albion    Manchester City\n",
      "2                   Chelsea            Burnley\n",
      "3            Crystal Palace  Huddersfield Town\n",
      "4                   Everton         Stoke City\n",
      "(170, 2)\n",
      "\n",
      "0    2\n",
      "1    0\n",
      "2    0\n",
      "3    0\n",
      "4    2\n",
      "Name: coded_result, dtype: int64\n",
      "(170,)\n"
     ]
    }
   ],
   "source": [
    "import xarray as xr\n",
    "def get_fixture_results(full_path):\n",
    "    \"\"\"\n",
    "    Opens a Datacube at the specified path\n",
    "    Looks into the DataCube, and gets all played fixtures home and away teams,\n",
    "    sorted on index value (set at Data Processing)\n",
    "    Returns a 2 column sequential integer indexed DataFrame of strings |h_team | a_team |\n",
    "    where h_team represents home team, and away team reps away team\n",
    "    Integer Index represents sequence of games played. Earliest (lowest) to most recent (highest)\n",
    "    \"\"\"\n",
    "    ds = xr.open_dataset(full_path)\n",
    "    fixture_results = ds[['Idx', 'coded_result']].to_dataframe().dropna()\\\n",
    "                    .sort_values('Idx').reset_index().drop('Idx', axis=1)\n",
    "\n",
    "    return fixture_results\n",
    "\n",
    "fixture_results = get_fixture_results(datacube_path)\n",
    "X = fixture_results[['h_team', 'a_team']]\n",
    "y = fixture_results['coded_result'].astype('int')\n",
    "print(X.head())\n",
    "print(X.shape)\n",
    "print()\n",
    "print(y.head())\n",
    "print(y.shape)"
   ]
  },
  {
   "cell_type": "markdown",
   "metadata": {},
   "source": [
    "### Set up Transformers"
   ]
  },
  {
   "cell_type": "code",
   "execution_count": 8,
   "metadata": {},
   "outputs": [],
   "source": [
    "goalexpectancyextractor = GoalExpectancyExtractor(dataset, team_list)\n",
    "standardscaler = StandardScaler()\n",
    "gaussiannb = GaussianNB(priors = np.array([0.6,0.1, 0.3]))"
   ]
  },
  {
   "cell_type": "markdown",
   "metadata": {},
   "source": [
    "### Set up Pipeline"
   ]
  },
  {
   "cell_type": "code",
   "execution_count": 9,
   "metadata": {},
   "outputs": [],
   "source": [
    "pipe = Pipeline([('goalexpectancyextractor',goalexpectancyextractor),\n",
    "                 ('standardscaler', standardscaler),\n",
    "                 ('gaussiannb',gaussiannb)])"
   ]
  },
  {
   "cell_type": "markdown",
   "metadata": {},
   "source": [
    "### Set up Cross Validation "
   ]
  },
  {
   "cell_type": "code",
   "execution_count": 10,
   "metadata": {},
   "outputs": [
    {
     "name": "stdout",
     "output_type": "stream",
     "text": [
      "train [50 51 52 53 54 55 56 57 58 59] *TEST* [60 61 62 63 64 65 66 67 68 69] \n",
      "\n"
     ]
    }
   ],
   "source": [
    "lkf = LeagueKFold(X, team_list, pretrained=False)\n",
    "cv = lkf.split(X)\n",
    "for train, test in cv:\n",
    "    print('train', train, '*TEST*', test, '\\n')\n",
    "    break"
   ]
  },
  {
   "cell_type": "code",
   "execution_count": 11,
   "metadata": {},
   "outputs": [],
   "source": [
    "leaguekfold = LeagueKFold(X,team_list, False)"
   ]
  },
  {
   "cell_type": "markdown",
   "metadata": {},
   "source": [
    "### Cross Val Pipeline"
   ]
  },
  {
   "cell_type": "code",
   "execution_count": 12,
   "metadata": {
    "scrolled": false
   },
   "outputs": [
    {
     "name": "stdout",
     "output_type": "stream",
     "text": [
      "{'fit_time': array([ 0.12700748,  0.12133193,  0.12164426,  0.12294245,  0.12059069,\n",
      "        0.12053657,  0.12129998,  0.12265182,  0.12164259,  0.12049365,\n",
      "        0.12100196]), 'score_time': array([ 0.11932707,  0.12011957,  0.11892581,  0.11934638,  0.1207993 ,\n",
      "        0.11922932,  0.11938381,  0.11930919,  0.12113118,  0.11940742,\n",
      "        0.12005281]), 'test_score': array([ 0.6,  0.2,  0.7,  0.5,  0.5,  0.3,  0.4,  0.6,  0.4,  0.3,  0.7]), 'train_score': array([ 1.        ,  0.7       ,  0.56666667,  0.55      ,  0.56      ,\n",
      "        0.51666667,  0.45714286,  0.45      ,  0.44444444,  0.43      ,\n",
      "        0.40909091])}\n"
     ]
    }
   ],
   "source": [
    "cross_val_data = cross_validate(pipe, X, y, cv=leaguekfold)\n",
    "print(cross_val_data)"
   ]
  },
  {
   "cell_type": "code",
   "execution_count": 13,
   "metadata": {},
   "outputs": [
    {
     "name": "stdout",
     "output_type": "stream",
     "text": [
      "[ 0.6  0.2  0.7  0.5  0.5  0.3  0.4  0.6  0.4  0.3  0.7]\n"
     ]
    }
   ],
   "source": [
    "leaguekfold = LeagueKFold(X,team_list, False)\n",
    "cross_val_scores = cross_val_score(pipe, X, y, cv=leaguekfold)\n",
    "print(cross_val_scores)"
   ]
  },
  {
   "cell_type": "markdown",
   "metadata": {},
   "source": [
    "### Set up custom train_test_split function "
   ]
  },
  {
   "cell_type": "code",
   "execution_count": 14,
   "metadata": {
    "scrolled": false
   },
   "outputs": [
    {
     "name": "stdout",
     "output_type": "stream",
     "text": [
      "             h_team             a_team\n",
      "50          Burnley  Huddersfield Town\n",
      "51          Everton        Bournemouth\n",
      "52   Leicester City          Liverpool\n",
      "53  Manchester City     Crystal Palace\n",
      "54      Southampton  Manchester United (110, 2)\n",
      "                h_team                a_team\n",
      "160            Burnley            Stoke City\n",
      "161     Crystal Palace               Watford\n",
      "162  Huddersfield Town               Chelsea\n",
      "163          Liverpool  West Bromwich Albion\n",
      "164  Manchester United           Bournemouth (10, 2)\n",
      "50    1\n",
      "51    2\n",
      "52    0\n",
      "53    2\n",
      "54    0\n",
      "Name: coded_result, dtype: int64 (110,)\n",
      "160    2\n",
      "161    2\n",
      "162    0\n",
      "163    1\n",
      "164    2\n",
      "Name: coded_result, dtype: int64 (10,)\n"
     ]
    }
   ],
   "source": [
    "def lkf_train_test_split(X,y, team_list):\n",
    "    num_splits = 1\n",
    "    lkf = LeagueKFold(X,team_list, False)\n",
    "    cv_inds = list(lkf.split(X))[-num_splits:]\n",
    "    cv_vals = [(X.iloc[train], X.iloc[test],y.iloc[train], y.iloc[test]) for train, test in cv_inds]\n",
    "    return cv_vals[0][0], cv_vals[0][1], cv_vals[0][2], cv_vals[0][3]\n",
    "\n",
    "X_train, X_test, y_train, y_test = lkf_train_test_split(X, y, team_list)\n",
    "print(X_train[0:5], X_train.shape)\n",
    "print(X_test[0:5], X_test.shape)\n",
    "print(y_train[0:5], y_train.shape)\n",
    "print(y_test[0:5], y_test.shape)"
   ]
  },
  {
   "cell_type": "markdown",
   "metadata": {},
   "source": [
    "### Set up readable results "
   ]
  },
  {
   "cell_type": "code",
   "execution_count": 15,
   "metadata": {},
   "outputs": [
    {
     "name": "stdout",
     "output_type": "stream",
     "text": [
      "                h_team                    a_team    0    1    2  coded_result  pred_result\n",
      "160            Burnley                Stoke City 0.35 0.09 0.56             2            2\n",
      "161     Crystal Palace                   Watford 0.82 0.09 0.09             2            0\n",
      "162  Huddersfield Town                   Chelsea 0.81 0.10 0.09             0            0\n",
      "163          Liverpool      West Bromwich Albion 0.06 0.02 0.92             1            2\n",
      "164  Manchester United               Bournemouth 0.15 0.05 0.80             2            2\n",
      "165   Newcastle United                   Everton 0.59 0.10 0.31             0            0\n",
      "166        Southampton            Leicester City 0.65 0.11 0.24             0            0\n",
      "167       Swansea City           Manchester City 0.88 0.08 0.04             0            0\n",
      "168  Tottenham Hotspur  Brighton and Hove Albion 0.24 0.07 0.69             2            2\n",
      "169    West Ham United                   Arsenal 0.89 0.08 0.04             1            0\n"
     ]
    }
   ],
   "source": [
    "pipe.fit(X_train,y_train)\n",
    "probas = pipe.predict_proba(X_test) # Using ibex we are getting a dataframe out of the estimator! :)\n",
    "readable_probas = pd.concat([X_test, probas, y_test], axis=1)\n",
    "readable_probas['pred_result'] = probas.idxmax(axis=1) # or use idxmax() on probas instead of full pipeline\n",
    "#print(type(probas))\n",
    "print(readable_probas)"
   ]
  },
  {
   "cell_type": "code",
   "execution_count": null,
   "metadata": {},
   "outputs": [],
   "source": []
  },
  {
   "cell_type": "code",
   "execution_count": null,
   "metadata": {},
   "outputs": [],
   "source": []
  },
  {
   "cell_type": "code",
   "execution_count": null,
   "metadata": {},
   "outputs": [],
   "source": []
  },
  {
   "cell_type": "code",
   "execution_count": null,
   "metadata": {},
   "outputs": [],
   "source": []
  },
  {
   "cell_type": "code",
   "execution_count": null,
   "metadata": {},
   "outputs": [],
   "source": []
  },
  {
   "cell_type": "code",
   "execution_count": null,
   "metadata": {},
   "outputs": [],
   "source": []
  },
  {
   "cell_type": "code",
   "execution_count": null,
   "metadata": {},
   "outputs": [],
   "source": []
  },
  {
   "cell_type": "code",
   "execution_count": null,
   "metadata": {},
   "outputs": [],
   "source": []
  },
  {
   "cell_type": "code",
   "execution_count": null,
   "metadata": {},
   "outputs": [],
   "source": []
  },
  {
   "cell_type": "code",
   "execution_count": null,
   "metadata": {},
   "outputs": [],
   "source": []
  },
  {
   "cell_type": "code",
   "execution_count": null,
   "metadata": {},
   "outputs": [],
   "source": []
  },
  {
   "cell_type": "code",
   "execution_count": null,
   "metadata": {},
   "outputs": [],
   "source": []
  },
  {
   "cell_type": "code",
   "execution_count": null,
   "metadata": {},
   "outputs": [],
   "source": []
  },
  {
   "cell_type": "code",
   "execution_count": null,
   "metadata": {},
   "outputs": [],
   "source": []
  },
  {
   "cell_type": "code",
   "execution_count": null,
   "metadata": {},
   "outputs": [],
   "source": []
  },
  {
   "cell_type": "code",
   "execution_count": null,
   "metadata": {},
   "outputs": [],
   "source": []
  },
  {
   "cell_type": "code",
   "execution_count": null,
   "metadata": {},
   "outputs": [],
   "source": []
  },
  {
   "cell_type": "code",
   "execution_count": null,
   "metadata": {},
   "outputs": [],
   "source": []
  },
  {
   "cell_type": "code",
   "execution_count": null,
   "metadata": {},
   "outputs": [],
   "source": []
  },
  {
   "cell_type": "code",
   "execution_count": null,
   "metadata": {},
   "outputs": [],
   "source": []
  },
  {
   "cell_type": "code",
   "execution_count": null,
   "metadata": {},
   "outputs": [],
   "source": []
  },
  {
   "cell_type": "code",
   "execution_count": null,
   "metadata": {},
   "outputs": [],
   "source": []
  },
  {
   "cell_type": "code",
   "execution_count": null,
   "metadata": {},
   "outputs": [],
   "source": []
  }
 ],
 "metadata": {
  "anaconda-cloud": {},
  "kernelspec": {
   "display_name": "Python 3",
   "language": "python",
   "name": "python3"
  },
  "language_info": {
   "codemirror_mode": {
    "name": "ipython",
    "version": 3
   },
   "file_extension": ".py",
   "mimetype": "text/x-python",
   "name": "python",
   "nbconvert_exporter": "python",
   "pygments_lexer": "ipython3",
   "version": "3.7.3"
  }
 },
 "nbformat": 4,
 "nbformat_minor": 2
}
