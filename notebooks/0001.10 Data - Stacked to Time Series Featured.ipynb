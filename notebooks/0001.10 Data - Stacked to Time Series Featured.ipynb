{
 "cells": [
  {
   "cell_type": "markdown",
   "metadata": {},
   "source": [
    "# Stacked to Time Series Featured"
   ]
  },
  {
   "cell_type": "code",
   "execution_count": 1,
   "metadata": {},
   "outputs": [],
   "source": [
    "import pathlib\n",
    "import sys\n",
    "import pickle\n",
    "\n",
    "from typing import List\n",
    "\n",
    "import numpy as np\n",
    "import pandas as pd\n",
    "\n",
    "# Load the \"autoreload\" extension\n",
    "%load_ext autoreload\n",
    "# always reload modules marked with \"%aimport\"\n",
    "%autoreload 1\n",
    "# add the 'src' directory to path to import modules\n",
    "src_dir = pathlib.Path().cwd().resolve().parent / 'src'\n",
    "#src_dir = os.path.join(os.getcwd(), os.pardir, 'src')\n",
    "sys.path.append(str(src_dir))\n",
    "# import my class code from the source\n",
    "# %aimport src-dir.filename\n",
    "\n",
    "from data.pfuncs import (get_filepaths,\n",
    "                         read_csvs_to_dfs,\n",
    "                         write_dfs_to_filepaths,\n",
    "                         make_filepaths_from_dfs,\n",
    "                         get_matching_filepaths,\n",
    "                         copy_files,\n",
    "                         make_equiv_image_dest_fps)\n",
    "\n",
    "pd.set_option('display.max_columns', 500)\n",
    "pd.set_option('display.width', 1000)\n",
    "\n",
    "PROJECT_DIR = pathlib.Path.cwd().resolve().parent\n",
    "\n",
    "STACKED_DIR = PROJECT_DIR / 'data' / '06-stacked-seasons'\n",
    "FEATURED_DIR = PROJECT_DIR / 'data' / '07-time-series-featured'"
   ]
  },
  {
   "cell_type": "code",
   "execution_count": 2,
   "metadata": {},
   "outputs": [
    {
     "name": "stdout",
     "output_type": "stream",
     "text": [
      "1\n"
     ]
    }
   ],
   "source": [
    "def apply_feature1(df):\n",
    "    return df\n",
    "\n",
    "\n",
    "def apply_feature2(df):\n",
    "    return df\n",
    "\n",
    "\n",
    "def apply_features(dfs):\n",
    "    featured_dfs = []\n",
    "    for df in dfs:\n",
    "        df = apply_feature1(df)\n",
    "        df = apply_feature2(df)\n",
    "        featured_dfs.append(df)\n",
    "    return featured_dfs\n",
    "\n",
    "\n",
    "def apply_ts_features():\n",
    "    filepaths = get_filepaths(STACKED_DIR, ext='csv')\n",
    "    dfs = read_csvs_to_dfs(filepaths)\n",
    "    featured_dfs = apply_features(dfs)\n",
    "    # Not working correctly - try change to make_equiv_image_dest_fps\n",
    "    featured_filepaths = make_filepaths_from_dfs(FEATURED_DIR, featured_dfs, '')\n",
    "    n_saved = write_dfs_to_filepaths(featured_dfs, featured_filepaths)\n",
    "    print(n_saved)\n",
    "\n",
    "apply_ts_features()"
   ]
  },
  {
   "cell_type": "code",
   "execution_count": null,
   "metadata": {},
   "outputs": [],
   "source": [
    "stop"
   ]
  },
  {
   "cell_type": "code",
   "execution_count": 2,
   "metadata": {
    "scrolled": false
   },
   "outputs": [
    {
     "data": {
      "text/plain": [
       "1"
      ]
     },
     "execution_count": 2,
     "metadata": {},
     "output_type": "execute_result"
    }
   ],
   "source": [
    "def get_nations(filepaths):\n",
    "    nations = list(np.unique([str(fp).split('/')[-4] for fp in filepaths]))\n",
    "    return nations\n",
    "\n",
    "def get_nations_leagues(filepaths, nations):\n",
    "    expanded_nations = []\n",
    "    leagues = []\n",
    "    for nation in nations:\n",
    "        national_leagues = list(np.unique([str(fp).split('/')[-3] for fp in filepaths if nation in str(fp)]))\n",
    "        expanded_nations.extend([nation]* len(national_leagues))\n",
    "        leagues.extend(national_leagues)\n",
    "    return expanded_nations, leagues\n",
    "    \n",
    "def get_seasons(filepaths):\n",
    "    seasons = sorted(list(np.unique([str(fp).split('/')[-2] for fp in filepaths])))\n",
    "    return seasons    \n",
    "    \n",
    "def get_actual_scope_dict(filepaths):\n",
    "    nations = get_nations(filepaths)\n",
    "    nations, leagues = get_nations_leagues(filepaths, nations)\n",
    "    possible_seasons = get_seasons(filepaths)\n",
    "    #print(possible_seasons)\n",
    "    actual_scope_dict = {'nations': nations, 'leagues': leagues, 'seasons': possible_seasons}\n",
    "    return actual_scope_dict\n",
    "\n",
    "\n",
    "def get_df_seasons(df):\n",
    "    seasons = sorted(df['season'].unique().tolist())\n",
    "    return seasons\n",
    "\n",
    "def stackseasons():\n",
    "    \n",
    "    filepaths = get_filepaths(JOINED_DIR)\n",
    "    actual_scope_dict = get_actual_scope_dict(filepaths)\n",
    "   \n",
    "    n_written = 0\n",
    "    stacked_leagues = []\n",
    "    stacked_filepaths = []\n",
    "    for nation, league in zip(actual_scope_dict['nations'], actual_scope_dict['leagues']):\n",
    "        league_seasons = [fp for fp in filepaths if nation in str(fp) and league in str(fp)]\n",
    "        league_seasons_dfs = read_csvs_to_dfs(league_seasons)\n",
    "        league_season_df = pd.concat(league_seasons_dfs, axis=0, sort=True)\n",
    "        league_season_df.sort_values(by=['season', 'date'], inplace=True)\n",
    "        league_season_df.reset_index(drop=True, inplace=True)\n",
    "        stacked_leagues.append(league_season_df)\n",
    "        \n",
    "        seasons = get_df_seasons(league_season_df)        \n",
    "        fn = seasons[0] + '__' + seasons[-1] + '.csv'\n",
    "        save_path = STACKED_DIR / nation / league / fn\n",
    "        stacked_filepaths.append(save_path)\n",
    "\n",
    "    n_written = write_dfs_to_filepaths(stacked_leagues, stacked_filepaths)\n",
    "    return n_written\n",
    "\n",
    "\n",
    "    \n",
    "    \n",
    "    \n",
    "    \n",
    "n_written = stackseasons() \n",
    "n_written"
   ]
  },
  {
   "cell_type": "code",
   "execution_count": 3,
   "metadata": {},
   "outputs": [
    {
     "ename": "NameError",
     "evalue": "name 'stop' is not defined",
     "output_type": "error",
     "traceback": [
      "\u001b[0;31m---------------------------------------------------------------------------\u001b[0m",
      "\u001b[0;31mNameError\u001b[0m                                 Traceback (most recent call last)",
      "\u001b[0;32m<ipython-input-3-4f76a9dad686>\u001b[0m in \u001b[0;36m<module>\u001b[0;34m\u001b[0m\n\u001b[0;32m----> 1\u001b[0;31m \u001b[0mstop\u001b[0m\u001b[0;34m\u001b[0m\u001b[0;34m\u001b[0m\u001b[0m\n\u001b[0m",
      "\u001b[0;31mNameError\u001b[0m: name 'stop' is not defined"
     ]
    }
   ],
   "source": [
    "stop"
   ]
  },
  {
   "cell_type": "code",
   "execution_count": null,
   "metadata": {},
   "outputs": [],
   "source": []
  }
 ],
 "metadata": {
  "kernelspec": {
   "display_name": "Python 3",
   "language": "python",
   "name": "python3"
  },
  "language_info": {
   "codemirror_mode": {
    "name": "ipython",
    "version": 3
   },
   "file_extension": ".py",
   "mimetype": "text/x-python",
   "name": "python",
   "nbconvert_exporter": "python",
   "pygments_lexer": "ipython3",
   "version": "3.7.3"
  }
 },
 "nbformat": 4,
 "nbformat_minor": 2
}
