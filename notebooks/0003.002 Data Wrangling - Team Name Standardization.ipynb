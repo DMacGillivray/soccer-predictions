{
 "cells": [
  {
   "cell_type": "markdown",
   "metadata": {},
   "source": [
    "# 0003.002 Data Wrangling - Team Name Standardization"
   ]
  },
  {
   "cell_type": "code",
   "execution_count": 1,
   "metadata": {},
   "outputs": [],
   "source": [
    "import pathlib\n",
    "import os\n",
    "import sys\n",
    "import pickle\n",
    "import inspect\n",
    "\n",
    "# Load the \"autoreload\" extension\n",
    "%load_ext autoreload\n",
    "# always reload modules marked with \"%aimport\"\n",
    "%autoreload 1\n",
    "#add the 'src' directory to path to import modules\n",
    "PROJECT_DIR = pathlib.Path.cwd().resolve().parent\n",
    "sys.path.append(str(PROJECT_DIR))\n",
    "\n",
    "from src.utilities.utilities import DisplayablePath\n",
    "from src.data.pfuncs import (load_pickle,\n",
    "                             get_filepaths,\n",
    "                             read_csvs_to_dfs)\n",
    "\n",
    "DATA_DIR = PROJECT_DIR / 'data'\n",
    "REF_DIR = DATA_DIR / 'reference'"
   ]
  },
  {
   "cell_type": "markdown",
   "metadata": {},
   "source": [
    "## Scope Data"
   ]
  },
  {
   "cell_type": "code",
   "execution_count": 2,
   "metadata": {},
   "outputs": [
    {
     "name": "stdout",
     "output_type": "stream",
     "text": [
      "nations\n",
      "['germany', 'england', 'spain', 'italy', 'france', 'england', 'germany', 'netherlands', 'russian-federation', 'scotland', 'portugal', 'switzerland', 'belgium', 'turkey', 'poland', 'england'] \n",
      "\n",
      "leagues\n",
      "['bundesliga', 'english-premier-league', 'la-liga', 'serie-a', 'ligue-1', 'english-championship', 'bundesliga-2', 'eredivisie', 'premier-league', 'premiership', 'primeira-liga', 'super-league', 'first-division-a', 'super-lig', 'ekstraklasa', 'one'] \n",
      "\n",
      "seasons\n",
      "['2000-2001', '2001-2002', '2002-2003', '2003-2004', '2004-2005', '2005-2006', '2006-2007', '2007-2008', '2008-2009', '2009-2010', '2010-2011', '2011-2012', '2012-2013', '2013-2014', '2014-2015', '2015-2016', '2016-2017', '2017-2018'] \n",
      "\n"
     ]
    }
   ],
   "source": [
    "scope_dict = load_pickle(REF_DIR / 'scope-dict')\n",
    "for k, v in scope_dict.items():\n",
    "    print(k)\n",
    "    print(v , '\\n')"
   ]
  },
  {
   "cell_type": "markdown",
   "metadata": {},
   "source": [
    "## England - Premier League"
   ]
  },
  {
   "cell_type": "code",
   "execution_count": 3,
   "metadata": {},
   "outputs": [],
   "source": [
    "ed = {'villa': 'aston-villa',\n",
    " 'blackburn': 'blackburn-rovers',\n",
    " 'birmingham': 'birmingham-city',\n",
    " 'bolton': 'bolton-wanderers',\n",
    " 'brighton': 'brighton-and-hove-albion',\n",
    " 'brighton-&-Hove Albion': 'brighton-and-hove-albion',\n",
    " 'cardiff': 'cardiff-city',\n",
    " 'huddersfield': 'huddersfield-town',\n",
    " 'hull': 'hull-city',\n",
    " 'leicester': 'leicester-city',\n",
    " 'leicester-cty': 'leicester-city',\n",
    " 'man-city': 'manchester-city',\n",
    " 'man-u': 'manchester-united',\n",
    " 'man-utd': 'manchester-united',\n",
    " 'manchester-utd': 'manchester-united',\n",
    " 'man-united': 'manchester-united',\n",
    " 'boro': 'middlesborough',\n",
    " 'newcastle': 'newcastle-united',\n",
    " 'newcastle-utd': 'newcastle-united',\n",
    " 'norwich': 'norwich-city',\n",
    " 'qpr': 'queens-park-rangers',\n",
    " 'stoke': 'stoke-city',\n",
    " 'swansea': 'swansea-city',\n",
    " 'tottenham': 'tottenham-hotspur',\n",
    " 'west-brom': 'west-bromwich-albion',\n",
    " 'west-ham': 'west-ham-united',\n",
    " 'wigan': 'wigan-athletic',\n",
    " 'wolves': 'wolverhampton-wanderers'}"
   ]
  },
  {
   "cell_type": "code",
   "execution_count": 4,
   "metadata": {},
   "outputs": [],
   "source": [
    "fp = REF_DIR / 'england' / 'english-premier-league' / 'english-premier-league.pkl'\n",
    "\n",
    "with open(fp, 'wb') as handle:\n",
    "    pickle.dump(ed, handle, protocol=pickle.HIGHEST_PROTOCOL)"
   ]
  },
  {
   "cell_type": "code",
   "execution_count": 5,
   "metadata": {},
   "outputs": [
    {
     "name": "stdout",
     "output_type": "stream",
     "text": [
      "england\n",
      "english-premier-league\n"
     ]
    },
    {
     "data": {
      "text/plain": [
       "{'villa': 'aston-villa',\n",
       " 'blackburn': 'blackburn-rovers',\n",
       " 'birmingham': 'birmingham-city',\n",
       " 'bolton': 'bolton-wanderers',\n",
       " 'brighton': 'brighton-and-hove-albion',\n",
       " 'brighton-&-Hove Albion': 'brighton-and-hove-albion',\n",
       " 'cardiff': 'cardiff-city',\n",
       " 'huddersfield': 'huddersfield-town',\n",
       " 'hull': 'hull-city',\n",
       " 'leicester': 'leicester-city',\n",
       " 'leicester-cty': 'leicester-city',\n",
       " 'man-city': 'manchester-city',\n",
       " 'man-u': 'manchester-united',\n",
       " 'man-utd': 'manchester-united',\n",
       " 'manchester-utd': 'manchester-united',\n",
       " 'man-united': 'manchester-united',\n",
       " 'boro': 'middlesborough',\n",
       " 'newcastle': 'newcastle-united',\n",
       " 'newcastle-utd': 'newcastle-united',\n",
       " 'norwich': 'norwich-city',\n",
       " 'qpr': 'queens-park-rangers',\n",
       " 'stoke': 'stoke-city',\n",
       " 'swansea': 'swansea-city',\n",
       " 'tottenham': 'tottenham-hotspur',\n",
       " 'west-brom': 'west-bromwich-albion',\n",
       " 'west-ham': 'west-ham-united',\n",
       " 'wigan': 'wigan-athletic',\n",
       " 'wolves': 'wolverhampton-wanderers'}"
      ]
     },
     "execution_count": 5,
     "metadata": {},
     "output_type": "execute_result"
    }
   ],
   "source": [
    "nation = scope_dict['nations'][1]\n",
    "league = scope_dict['leagues'][1]\n",
    "print(nation)\n",
    "print(league)\n",
    "std_names_dict = load_pickle(REF_DIR / nation / league)\n",
    "std_names_dict"
   ]
  },
  {
   "cell_type": "raw",
   "metadata": {},
   "source": [
    "!tree $scoped_dir --filelimit 100 -n"
   ]
  },
  {
   "cell_type": "markdown",
   "metadata": {},
   "source": [
    "## France Ligue-1"
   ]
  },
  {
   "cell_type": "code",
   "execution_count": 6,
   "metadata": {
    "scrolled": false
   },
   "outputs": [
    {
     "name": "stdout",
     "output_type": "stream",
     "text": [
      "['2000-2001']\n",
      "['2017-2018']\n",
      "['ajaccio', 'ajaccio-gfco', 'amiens', 'angers', 'arles', 'auxerre', 'bastia', 'bordeaux', 'boulogne', 'brest', 'caen', 'dijon', 'evian-thonon-gaillard', 'grenoble', 'guingamp', 'istres', 'le-havre', 'le-mans', 'lens', 'lille', 'lorient', 'lyon', 'marseille', 'metz', 'monaco', 'montpellier', 'nancy', 'nantes', 'nice', 'paris-sg', 'reims', 'rennes', 'sedan', 'sochaux', 'st-etienne', 'strasbourg', 'toulouse', 'troyes', 'valenciennes']\n",
      "39\n"
     ]
    }
   ],
   "source": [
    "top_dir = DATA_DIR / '03-cleaned' / 'football-data-co-uk' / 'france' / 'ligue-1'\n",
    "fps = get_filepaths(top_dir)\n",
    "teams = []\n",
    "dfs = read_csvs_to_dfs(fps)\n",
    "for df in dfs:\n",
    "#     print(df['season'].unique())\n",
    "#     print(sorted(df['a'].unique()))\n",
    "#     print(len(df['a'].unique()))\n",
    "    teams.extend(df['h'].unique())\n",
    "teams = set(teams)\n",
    "print(dfs[0]['season'].unique())\n",
    "print(dfs[-1]['season'].unique())\n",
    "print(sorted(teams))\n",
    "print(len(teams))"
   ]
  },
  {
   "cell_type": "code",
   "execution_count": 7,
   "metadata": {},
   "outputs": [
    {
     "name": "stdout",
     "output_type": "stream",
     "text": [
      "['2007-2008']\n",
      "['2017-2018']\n",
      "['ac-ajaccio', 'amiens', 'angers', 'arles-avignon', 'auxerre', 'bastia', 'bordeaux', 'brest', 'caen', 'dijon', 'evian-tg', 'gfc-ajaccio', 'grenoble', 'guingamp', 'le-havre', 'le-mans', 'lens', 'lille', 'lorient', 'lyon', 'marseille', 'metz', 'monaco', 'montpellier', 'nancy', 'nantes', 'nice', 'paris-sg', 'reims', 'rennes', 'sochaux', 'st-etienne', 'strasbourg', 'toulouse', 'troyes', 'valenciennes']\n",
      "36\n"
     ]
    }
   ],
   "source": [
    "top_dir = DATA_DIR / '03-cleaned' / 'indatabet-com' / 'france' / 'ligue-1'\n",
    "fps = get_filepaths(top_dir)\n",
    "teams = []\n",
    "dfs = read_csvs_to_dfs(fps)\n",
    "for df in dfs:\n",
    "#     print(df['season'].unique())\n",
    "#     print(sorted(df['a'].unique()))\n",
    "#     print(len(df['a'].unique()))\n",
    "    teams.extend(df['h'].unique())\n",
    "teams = set(teams)\n",
    "print(dfs[0]['season'].unique())\n",
    "print(dfs[-1]['season'].unique())\n",
    "print(sorted(teams))\n",
    "print(len(teams))"
   ]
  },
  {
   "cell_type": "code",
   "execution_count": 8,
   "metadata": {},
   "outputs": [
    {
     "name": "stdout",
     "output_type": "stream",
     "text": [
      "['AC Ajaccio', 'Amiens', 'Angers', 'Arles-Avignon', 'Auxerre', 'Bordeaux', 'Brest', 'Caen', 'Dijon', 'Evian', 'GFC Ajaccio', 'Guingamp', 'Lens', 'Lille', 'Lorient', 'Lyon', 'Marseille', 'Metz', 'Monaco', 'Montpellier', 'Nancy', 'Nantes', 'Nice', 'PSG', 'Reims', 'Rennes', 'SC Bastia', 'Saint-Etienne', 'Sochaux', 'Strasbourg', 'Toulouse', 'Troyes', 'Valenciennes']\n",
      "33\n"
     ]
    }
   ],
   "source": [
    "top_dir = DATA_DIR / '03-cleaned' / 'whoscored-com-heatmaps' / 'france' / 'ligue-1'\n",
    "fps = get_filepaths(top_dir, ext='png')\n",
    "teams = []\n",
    "for fp in fps:\n",
    "    team_names = fp.name.split('.')[0].split('__')\n",
    "    for team_name in team_names:\n",
    "        if team_name not in teams:\n",
    "            teams.append(team_name)\n",
    "print(sorted(teams))\n",
    "print(len(teams))"
   ]
  },
  {
   "cell_type": "code",
   "execution_count": 9,
   "metadata": {},
   "outputs": [],
   "source": [
    "fd = {'ac-ajaccio': 'ajaccio',\n",
    " 'arles-avignon': 'arles',\n",
    " 'evian-tg': 'evian-thonon-gaillard',\n",
    " 'gfc-ajaccio': 'ajaccio-gfco',\n",
    " 'gfc ajaccio': 'ajaccio-gfco',\n",
    " 'AC Ajaccio': 'ajaccio',\n",
    " 'AC-Ajaccio': 'ajaccio',\n",
    " 'Arles-Avignon': 'arles',\n",
    " 'Evian': 'evian-thonon-gaillard',\n",
    " 'evian': 'evian-thonon-gaillard',\n",
    " 'PSG': 'paris-sg',\n",
    " 'psg': 'paris-sg',\n",
    " 'SC Bastia': 'bastia',\n",
    " 'SC-Bastia': 'bastia',\n",
    " 'sc-bastia': 'bastia',\n",
    " 'Saint-Etienne': 'st-etienne',\n",
    " 'saint-etienne': 'st-etienne'}"
   ]
  },
  {
   "cell_type": "code",
   "execution_count": 10,
   "metadata": {},
   "outputs": [],
   "source": [
    "fp = REF_DIR / 'france' / 'ligue-1' / 'ligue-1.pkl'\n",
    "\n",
    "with open(fp, 'wb') as handle:\n",
    "    pickle.dump(fd, handle, protocol=pickle.HIGHEST_PROTOCOL)"
   ]
  },
  {
   "cell_type": "code",
   "execution_count": 11,
   "metadata": {},
   "outputs": [
    {
     "name": "stdout",
     "output_type": "stream",
     "text": [
      "france\n",
      "ligue-1\n"
     ]
    },
    {
     "data": {
      "text/plain": [
       "{'ac-ajaccio': 'ajaccio',\n",
       " 'arles-avignon': 'arles',\n",
       " 'evian-tg': 'evian-thonon-gaillard',\n",
       " 'gfc-ajaccio': 'ajaccio-gfco',\n",
       " 'gfc ajaccio': 'ajaccio-gfco',\n",
       " 'AC Ajaccio': 'ajaccio',\n",
       " 'AC-Ajaccio': 'ajaccio',\n",
       " 'Arles-Avignon': 'arles',\n",
       " 'Evian': 'evian-thonon-gaillard',\n",
       " 'evian': 'evian-thonon-gaillard',\n",
       " 'PSG': 'paris-sg',\n",
       " 'psg': 'paris-sg',\n",
       " 'SC Bastia': 'bastia',\n",
       " 'SC-Bastia': 'bastia',\n",
       " 'sc-bastia': 'bastia',\n",
       " 'Saint-Etienne': 'st-etienne',\n",
       " 'saint-etienne': 'st-etienne'}"
      ]
     },
     "execution_count": 11,
     "metadata": {},
     "output_type": "execute_result"
    }
   ],
   "source": [
    "nation = scope_dict['nations'][4]\n",
    "league = scope_dict['leagues'][4]\n",
    "print(nation)\n",
    "print(league)\n",
    "std_names_dict = load_pickle(REF_DIR / nation / league)\n",
    "std_names_dict"
   ]
  },
  {
   "cell_type": "markdown",
   "metadata": {},
   "source": [
    "## Germany Bundesliga"
   ]
  },
  {
   "cell_type": "code",
   "execution_count": 12,
   "metadata": {},
   "outputs": [
    {
     "name": "stdout",
     "output_type": "stream",
     "text": [
      "['2000-2001']\n",
      "['2017-2018']\n",
      "['aachen', 'augsburg', 'bayern-munich', 'bielefeld', 'bochum', 'braunschweig', 'cottbus', 'darmstadt', 'dortmund', 'duisburg', 'ein-frankfurt', 'fc-koln', 'fortuna-dusseldorf', 'freiburg', 'greuther-furth', 'hamburg', 'hannover', 'hansa-rostock', 'hertha', 'hoffenheim', 'ingolstadt', 'kaiserslautern', 'karlsruhe', 'leverkusen', \"m'gladbach\", 'mainz', 'munich-1860', 'nurnberg', 'paderborn', 'rb-leipzig', 'schalke-04', 'st-pauli', 'stuttgart', 'unterhaching', 'werder-bremen', 'wolfsburg']\n",
      "36\n"
     ]
    }
   ],
   "source": [
    "top_dir = DATA_DIR / '03-cleaned' / 'football-data-co-uk' / 'germany' / 'bundesliga'\n",
    "fps = get_filepaths(top_dir)\n",
    "teams = []\n",
    "dfs = read_csvs_to_dfs(fps)\n",
    "for df in dfs:\n",
    "#     print(df['season'].unique())\n",
    "#     print(sorted(df['a'].unique()))\n",
    "#     print(len(df['a'].unique()))\n",
    "    teams.extend(df['h'].unique())\n",
    "    teams.extend(df['a'].unique())\n",
    "teams = set(teams)\n",
    "print(dfs[0]['season'].unique())\n",
    "print(dfs[-1]['season'].unique())\n",
    "print(sorted(teams))\n",
    "print(len(teams))"
   ]
  },
  {
   "cell_type": "code",
   "execution_count": 13,
   "metadata": {},
   "outputs": [
    {
     "name": "stdout",
     "output_type": "stream",
     "text": [
      "['2007-2008']\n",
      "['2017-2018']\n",
      "['1-fsv-mainz-05', 'arminia-bielefeld', 'augsburg', 'b-monchengladbach', 'bayer-leverkusen', 'bayern-munich', 'bochum', 'braunschweig', 'darmstadt', 'dortmund', 'duisburg', 'dusseldorf', 'eintracht-frankfurt', 'energie-cottbus', 'fc-augsburg', 'fc-koln', 'freiburg', 'greuther-furth', 'hamburger-sv', 'hannover', 'hansa-rostock', 'hertha-berlin', 'hoffenheim', 'holstein-kiel', 'ingolstadt', 'kaiserslautern', 'karlsruher', 'mainz', 'nurnberg', 'paderborn', 'rb-leipzig', 'sc-freiburg', 'schalke', 'st-pauli', 'stuttgart', 'sv-werder-bremen', 'vfb-stuttgart', 'werder-bremen', 'wolfsburg']\n",
      "39\n"
     ]
    }
   ],
   "source": [
    "top_dir = DATA_DIR / '03-cleaned' / 'indatabet-com' / 'germany' / 'bundesliga'\n",
    "fps = get_filepaths(top_dir)\n",
    "teams = []\n",
    "dfs = read_csvs_to_dfs(fps)\n",
    "for df in dfs:\n",
    "#     print(df['season'].unique())\n",
    "    # print(sorted(df['a'].unique()))\n",
    "#     print(len(df['a'].unique()))\n",
    "     teams.extend(df['h'].unique())\n",
    "     teams.extend(df['a'].unique())\n",
    "teams = set(teams)\n",
    "print(dfs[0]['season'].unique())\n",
    "print(dfs[-1]['season'].unique())\n",
    "print(sorted(teams))\n",
    "print(len(teams))"
   ]
  },
  {
   "cell_type": "raw",
   "metadata": {},
   "source": [
    "['1-fsv-mainz-05',     mainz\n",
    "'mainz',\n",
    "'arminia-bielefeld',   bielefeld\n",
    "'augsburg',            ausburg\n",
    "'b-monchengladbach',   m'gladbach\n",
    "'bayer-leverkusen',    leverkusen\n",
    "'bayern-munich',       bayern-munich\n",
    "'bochum',              bochum\n",
    "'braunschweig',        brauschweig\n",
    "'darmstadt',           darmstadt\n",
    "'dortmund',            dortmund\n",
    "'duisburg',            duisburg\n",
    "'dusseldorf',          fortuna-dusseldorf\n",
    "'eintracht-frankfurt', ein-frankfurt\n",
    "'energie-cottbus',     cottbus\n",
    "'fc-augsburg',         ausburg\n",
    "'fc-koln',             fc-koln\n",
    "'freiburg',            freiburg\n",
    "'greuther-furth',      greuther-furth\n",
    "'hamburger-sv',        hamburg\n",
    "'hannover',            hannover\n",
    "'hansa-rostock',       hansa-rostock\n",
    "'hertha-berlin',       hertha\n",
    "'hoffenheim',          hoffenheim\n",
    "'holstein-kiel',       ?????\n",
    "'ingolstadt',          ingolstadt\n",
    "'kaiserslautern',      kaiserslautern\n",
    "'karlsruher',          karlsruhe\n",
    "\n",
    "'nurnberg',            nurnberg\n",
    "'paderborn',           paderborn\n",
    "'rb-leipzig',          rb-leipzig\n",
    "'sc-freiburg',         freiburg\n",
    "'schalke',             schalke-04\n",
    "'st-pauli',            st-pauli\n",
    "'stuttgart',           stuttgart\n",
    "'sv-werder-bremen',    werder-bremen\n",
    "'vfb-stuttgart',       stuttgart      \n",
    "'werder-bremen',\n",
    "'wolfsburg'            wolfsburg"
   ]
  },
  {
   "cell_type": "code",
   "execution_count": 14,
   "metadata": {},
   "outputs": [
    {
     "name": "stdout",
     "output_type": "stream",
     "text": [
      "['Augsburg', 'Bayern', 'Bochum', 'Borussia Dortmund', 'Borussia M.Gladbach', 'Darmstadt', 'Eintracht Braunschweig', 'Eintracht Frankfurt', 'FC Cologne', 'Fortuna Duesseldorf', 'Freiburg', 'Greuther Fuerth', 'Hamburg', 'Hannover', 'Hertha Berlin', 'Hoffenheim', 'Ingolstadt', 'Kaiserslautern', 'Leverkusen', 'Mainz', 'Nuernberg', 'Paderborn', 'RasenBallsport Leipzig', 'Schalke', 'St. Pauli', 'Stuttgart', 'Werder Bremen', 'Wolfsburg']\n",
      "28\n"
     ]
    }
   ],
   "source": [
    "top_dir = DATA_DIR / '03-cleaned' / 'whoscored-com-heatmaps' / 'germany' / 'bundesliga'\n",
    "fps = get_filepaths(top_dir, ext='png')\n",
    "teams = []\n",
    "for fp in fps:\n",
    "    team_names = fp.name.rsplit('.',1)[0].split('__')\n",
    "    for team_name in team_names:\n",
    "        if team_name not in teams:\n",
    "            teams.append(team_name)\n",
    "#     print(teams)\n",
    "print(sorted(teams))\n",
    "print(len(teams))"
   ]
  },
  {
   "cell_type": "code",
   "execution_count": 15,
   "metadata": {},
   "outputs": [],
   "source": [
    "gd = {'1-fsv-mainz-05': 'mainz',\n",
    "      'bayern': 'bayern-munich',\n",
    " 'arminia-bielefeld': 'bielefeld',\n",
    " 'eintracht-braunschweig' : 'braunschweig',\n",
    " \"m'gladbach\": 'borussia-monchengladbach',\n",
    " 'b-monchengladbach': 'borussia-monchengladbach',\n",
    " 'borussia-m.gladbach': 'borussia-monchengladbach',\n",
    " 'Borussia M' : 'borussia-monchengladbach',\n",
    " 'borussia-m': 'borussia-monchengladbach',\n",
    " 'borussia dortmund': 'dortmund',\n",
    " 'borussia-dortmund': 'dortmund',\n",
    " 'bayer-leverkusen': 'leverkusen',\n",
    " 'dusseldorf': 'fortuna-dusseldorf',\n",
    " 'ein-frankfurt': 'eintracht-frankfurt',\n",
    " 'cottbus': 'energie-cottbus',\n",
    " 'fc-augsburg': 'augsburg',\n",
    " 'fc-cologne': 'fc-koln',\n",
    " 'koln': 'fc-koln',\n",
    " 'hamburg': 'hamburger-sv',\n",
    " 'hertha': 'hertha-berlin',\n",
    " 'karlsruhe': 'karlsruher',\n",
    " 'nuernberg': 'nurnburg',\n",
    " 'schalke-04': 'schalke',\n",
    " 'freiburg': 'sc-freiburg',\n",
    " 'RasenBallsport Leipzig': 'rb-leipzig',\n",
    " 'rasenballsport-leipzig': 'rb-leipzig',\n",
    " 'werder-bremen': 'sv-werder-bremen',\n",
    " 'st.-pauli': 'st-pauli',\n",
    " 'st. pauli': 'st-pauli',\n",
    " 'st-pauli': 'st-pauli',\n",
    " 'vfb-stuttgart': 'stuttgart'}"
   ]
  },
  {
   "cell_type": "code",
   "execution_count": 16,
   "metadata": {},
   "outputs": [],
   "source": [
    "fp = REF_DIR / 'germany' / 'bundesliga' / 'bundesliga.pkl'\n",
    "\n",
    "with open(fp, 'wb') as handle:\n",
    "    pickle.dump(gd, handle, protocol=pickle.HIGHEST_PROTOCOL)"
   ]
  },
  {
   "cell_type": "code",
   "execution_count": 17,
   "metadata": {},
   "outputs": [
    {
     "name": "stdout",
     "output_type": "stream",
     "text": [
      "germany\n",
      "bundesliga\n"
     ]
    },
    {
     "data": {
      "text/plain": [
       "{'1-fsv-mainz-05': 'mainz',\n",
       " 'bayern': 'bayern-munich',\n",
       " 'arminia-bielefeld': 'bielefeld',\n",
       " 'eintracht-braunschweig': 'braunschweig',\n",
       " \"m'gladbach\": 'borussia-monchengladbach',\n",
       " 'b-monchengladbach': 'borussia-monchengladbach',\n",
       " 'borussia-m.gladbach': 'borussia-monchengladbach',\n",
       " 'Borussia M': 'borussia-monchengladbach',\n",
       " 'borussia-m': 'borussia-monchengladbach',\n",
       " 'borussia dortmund': 'dortmund',\n",
       " 'borussia-dortmund': 'dortmund',\n",
       " 'bayer-leverkusen': 'leverkusen',\n",
       " 'dusseldorf': 'fortuna-dusseldorf',\n",
       " 'ein-frankfurt': 'eintracht-frankfurt',\n",
       " 'cottbus': 'energie-cottbus',\n",
       " 'fc-augsburg': 'augsburg',\n",
       " 'fc-cologne': 'fc-koln',\n",
       " 'koln': 'fc-koln',\n",
       " 'hamburg': 'hamburger-sv',\n",
       " 'hertha': 'hertha-berlin',\n",
       " 'karlsruhe': 'karlsruher',\n",
       " 'nuernberg': 'nurnburg',\n",
       " 'schalke-04': 'schalke',\n",
       " 'freiburg': 'sc-freiburg',\n",
       " 'RasenBallsport Leipzig': 'rb-leipzig',\n",
       " 'rasenballsport-leipzig': 'rb-leipzig',\n",
       " 'werder-bremen': 'sv-werder-bremen',\n",
       " 'st.-pauli': 'st-pauli',\n",
       " 'st. pauli': 'st-pauli',\n",
       " 'st-pauli': 'st-pauli',\n",
       " 'vfb-stuttgart': 'stuttgart'}"
      ]
     },
     "execution_count": 17,
     "metadata": {},
     "output_type": "execute_result"
    }
   ],
   "source": [
    "nation = scope_dict['nations'][0]\n",
    "league = scope_dict['leagues'][0]\n",
    "print(nation)\n",
    "print(league)\n",
    "std_names_dict = load_pickle(REF_DIR / nation / league)\n",
    "std_names_dict"
   ]
  },
  {
   "cell_type": "markdown",
   "metadata": {},
   "source": [
    "## Italy"
   ]
  },
  {
   "cell_type": "code",
   "execution_count": 18,
   "metadata": {},
   "outputs": [
    {
     "name": "stdout",
     "output_type": "stream",
     "text": [
      "['2000-2001']\n",
      "['2017-2018']\n",
      "['ancona', 'ascoli', 'atalanta', 'bari', 'benevento', 'bologna', 'brescia', 'cagliari', 'carpi', 'catania', 'cesena', 'chievo', 'crotone', 'empoli', 'fiorentina', 'frosinone', 'genoa', 'inter', 'juventus', 'lazio', 'lecce', 'livorno', 'messina', 'milan', 'modena', 'napoli', 'novara', 'palermo', 'parma', 'perugia', 'pescara', 'piacenza', 'reggina', 'roma', 'sampdoria', 'sassuolo', 'siena', 'spal', 'torino', 'treviso', 'udinese', 'venezia', 'verona', 'vicenza']\n",
      "44\n"
     ]
    }
   ],
   "source": [
    "top_dir = DATA_DIR / '03-cleaned' / 'football-data-co-uk' / 'italy' / 'serie-a'\n",
    "fps = get_filepaths(top_dir)\n",
    "teams = []\n",
    "dfs = read_csvs_to_dfs(fps)\n",
    "for df in dfs:\n",
    "#     print(df['season'].unique())\n",
    "#     print(sorted(df['a'].unique()))\n",
    "#     print(len(df['a'].unique()))\n",
    "    teams.extend(df['h'].unique())\n",
    "    teams.extend(df['a'].unique())\n",
    "teams = set(teams)\n",
    "print(dfs[0]['season'].unique())\n",
    "print(dfs[-1]['season'].unique())\n",
    "print(sorted(teams))\n",
    "print(len(teams))"
   ]
  },
  {
   "cell_type": "code",
   "execution_count": 19,
   "metadata": {},
   "outputs": [
    {
     "name": "stdout",
     "output_type": "stream",
     "text": [
      "['2010-2011']\n",
      "['2017-2018']\n",
      "['ac-milan', 'as-roma', 'atalanta', 'bari', 'benevento', 'bologna', 'brescia', 'cagliari', 'carpi', 'catania', 'cesena', 'chievo', 'crotone', 'empoli', 'fiorentina', 'frosinone', 'genoa', 'inter', 'juventus', 'lazio', 'lecce', 'livorno', 'napoli', 'novara', 'palermo', 'parma', 'pescara', 'sampdoria', 'sassuolo', 'siena', 'spal', 'torino', 'udinese', 'verona']\n",
      "34\n"
     ]
    }
   ],
   "source": [
    "top_dir = DATA_DIR / '03-cleaned' / 'indatabet-com' / 'italy' / 'serie-a'\n",
    "fps = get_filepaths(top_dir)\n",
    "teams = []\n",
    "dfs = read_csvs_to_dfs(fps)\n",
    "for df in dfs:\n",
    "#     print(df['season'].unique())\n",
    "    # print(sorted(df['a'].unique()))\n",
    "#     print(len(df['a'].unique()))\n",
    "     teams.extend(df['h'].unique())\n",
    "     teams.extend(df['a'].unique())\n",
    "teams = set(teams)\n",
    "print(dfs[0]['season'].unique())\n",
    "print(dfs[-1]['season'].unique())\n",
    "print(sorted(teams))\n",
    "print(len(teams))"
   ]
  },
  {
   "cell_type": "code",
   "execution_count": 20,
   "metadata": {},
   "outputs": [
    {
     "name": "stdout",
     "output_type": "stream",
     "text": [
      "['AC Milan', 'Atalanta', 'Bari', 'Benevento', 'Bologna', 'Brescia', 'Cagliari', 'Carpi', 'Catania', 'Cesena', 'Chievo', 'Crotone', 'Empoli', 'Fiorentina', 'Frosinone', 'Genoa', 'Inter', 'Juventus', 'Lazio', 'Lecce', 'Livorno', 'Napoli', 'Novara', 'Palermo', 'Parma', 'Pescara', 'Robur Siena', 'Roma', 'SPAL 2013', 'Sampdoria', 'Sassuolo', 'Torino', 'Udinese', 'Verona']\n",
      "34\n"
     ]
    }
   ],
   "source": [
    "top_dir = DATA_DIR / '03-cleaned' / 'whoscored-com-heatmaps' / 'italy' / 'serie-a'\n",
    "fps = get_filepaths(top_dir, ext='png')\n",
    "teams = []\n",
    "for fp in fps:\n",
    "    team_names = fp.name.rsplit('.',1)[0].split('__')\n",
    "    for team_name in team_names:\n",
    "        if team_name not in teams:\n",
    "            teams.append(team_name)\n",
    "#     print(teams)\n",
    "print(sorted(teams))\n",
    "print(len(teams))"
   ]
  },
  {
   "cell_type": "code",
   "execution_count": 21,
   "metadata": {},
   "outputs": [],
   "source": [
    "id = {'milan': 'ac-milan',\n",
    "      'roma': 'as-roma',\n",
    " 'robur-siena': 'siena',\n",
    " 'spal-2013' : 'spal',}"
   ]
  },
  {
   "cell_type": "code",
   "execution_count": 22,
   "metadata": {},
   "outputs": [],
   "source": [
    "fp = REF_DIR / 'italy' / 'serie-a' / 'serie-a.pkl'\n",
    "\n",
    "with open(fp, 'wb') as handle:\n",
    "    pickle.dump(id, handle, protocol=pickle.HIGHEST_PROTOCOL)"
   ]
  },
  {
   "cell_type": "code",
   "execution_count": 23,
   "metadata": {},
   "outputs": [
    {
     "name": "stdout",
     "output_type": "stream",
     "text": [
      "italy\n",
      "serie-a\n"
     ]
    },
    {
     "data": {
      "text/plain": [
       "{'milan': 'ac-milan',\n",
       " 'roma': 'as-roma',\n",
       " 'robur-siena': 'siena',\n",
       " 'spal-2013': 'spal'}"
      ]
     },
     "execution_count": 23,
     "metadata": {},
     "output_type": "execute_result"
    }
   ],
   "source": [
    "nation = scope_dict['nations'][3]\n",
    "league = scope_dict['leagues'][3]\n",
    "print(nation)\n",
    "print(league)\n",
    "std_names_dict = load_pickle(REF_DIR / nation / league)\n",
    "std_names_dict"
   ]
  },
  {
   "cell_type": "markdown",
   "metadata": {},
   "source": [
    "## Special Games for Cleanup\n",
    "\n",
    "### Abandoned Games\n",
    "\n",
    "https://www.theguardian.com/football/2017/apr/16/lyon-players-bastia-supporters-invade-pitch\n",
    "\n",
    "Use Pinnacle Closing Odds to simulate the game and final score - Clearly no other data avaialable for this game\n",
    "\n",
    "Insert an `special` column, clear out all the row"
   ]
  },
  {
   "cell_type": "markdown",
   "metadata": {},
   "source": [
    "nation = 'france'\n",
    "league = 'ligue-1'\n",
    "season = '2016-2017'\n",
    "date = pd.to_datetime('2017-04-16')\n",
    "h = 'Bastia'\n",
    "a = 'Lyon'\n",
    "abandoned_games = \n"
   ]
  },
  {
   "cell_type": "code",
   "execution_count": 24,
   "metadata": {},
   "outputs": [
    {
     "name": "stdout",
     "output_type": "stream",
     "text": [
      "def clean_special_cases(df_orig):\n",
      "    df = df_orig.copy(deep=True)\n",
      "    # Apply to all make a 1,1 draw\n",
      "    if 'et_pen_awd' in df.columns:\n",
      "        if df['et_pen_awd'].isnull().sum() > 0:\n",
      "            # crit = df['et_pen_awd'].isnull()\n",
      "            idx = df[~df['et_pen_awd'].isnull()].index\n",
      "            df.loc[idx, ['h_ftGoals', 'a_ftGoals']] = [1.0, 0.0]\n",
      "    df[['h_ftGoals', 'a_ftGoals']] = \\\n",
      "        df[['h_ftGoals', 'a_ftGoals']].astype(float)\n",
      "    return df\n",
      "\n"
     ]
    }
   ],
   "source": [
    "from src.data.clean_indatabet_com import clean_special_cases\n",
    "print(inspect.getsource(clean_special_cases))"
   ]
  },
  {
   "cell_type": "code",
   "execution_count": null,
   "metadata": {},
   "outputs": [],
   "source": []
  }
 ],
 "metadata": {
  "kernelspec": {
   "display_name": "Python 3",
   "language": "python",
   "name": "python3"
  },
  "language_info": {
   "codemirror_mode": {
    "name": "ipython",
    "version": 3
   },
   "file_extension": ".py",
   "mimetype": "text/x-python",
   "name": "python",
   "nbconvert_exporter": "python",
   "pygments_lexer": "ipython3",
   "version": "3.7.3"
  }
 },
 "nbformat": 4,
 "nbformat_minor": 2
}
