{
 "cells": [
  {
   "cell_type": "markdown",
   "metadata": {},
   "source": [
    "# Clean Indatabet-Free-Odds Data"
   ]
  },
  {
   "cell_type": "code",
   "execution_count": 1,
   "metadata": {},
   "outputs": [],
   "source": [
    "import pathlib\n",
    "import sys\n",
    "import datetime\n",
    "\n",
    "import numpy as np\n",
    "import pandas as pd\n",
    "from pyxlsb import open_workbook as open_xlsb\n",
    "import missingno as msno\n",
    "import matplotlib.pyplot as plt\n",
    "\n",
    "%matplotlib inline\n",
    "\n",
    "# Load the \"autoreload\" extension\n",
    "%load_ext autoreload\n",
    "# always reload modules marked with \"%aimport\"\n",
    "%autoreload 1\n",
    "# add the 'src' directory to path to import modules\n",
    "src_dir = pathlib.Path().cwd().resolve().parent / 'src'\n",
    "#src_dir = os.path.join(os.getcwd(), os.pardir, 'src')\n",
    "sys.path.append(src_dir)\n",
    "# import my class code from the source\n",
    "# %aimport src-dir.filename\n",
    "\n",
    "pd.set_option('display.max_columns', 500)\n",
    "pd.set_option('display.width', 1000)\n",
    "\n",
    "PROJECT_DIR = pathlib.Path().cwd().resolve().parent\n",
    "\n",
    "SCOPED_DATA_DIR = PROJECT_DIR / 'data' / '02-scoped'\n",
    "CLEANED_DATA_DIR = PROJECT_DIR / 'data' / '03-cleaned'"
   ]
  },
  {
   "cell_type": "code",
   "execution_count": 2,
   "metadata": {},
   "outputs": [
    {
     "data": {
      "text/plain": [
       "165"
      ]
     },
     "execution_count": 2,
     "metadata": {},
     "output_type": "execute_result"
    }
   ],
   "source": [
    "def drop_unnamed(df_orig):\n",
    "    \"\"\"\n",
    "    COMMON !!!!!!!!!!!!!\n",
    "    \"\"\"\n",
    "    df = df_orig.copy(deep=True)\n",
    "    drop_cols = [col for col in df.columns if 'Unnamed' in col]\n",
    "    df.drop(columns = drop_cols, inplace=True)    \n",
    "    return df\n",
    "\n",
    "def drop_all_nulls(df_orig, axis=1):\n",
    "    \"\"\"\n",
    "    COMMON !!!!!!!!!\n",
    "    \"\"\"\n",
    "    df = df_orig.copy(deep=True)\n",
    "    # Drop any columns that are all null\n",
    "    df = df_orig.dropna(axis=axis, how='all')\n",
    "    return df\n",
    "\n",
    "def collect_col_names(df_origs):\n",
    "    \"\"\"\n",
    "    COMMON UTILITY !!!!!!!!!!\n",
    "    \"\"\"\n",
    "    cols = []\n",
    "    for df in df_origs:\n",
    "        cols.extend(list(df.columns))\n",
    "    return set(cols)\n",
    "\n",
    "def rename_indatabet_cols(df_orig):\n",
    "    \"\"\"\n",
    "    \"\"\"\n",
    "    df = df_orig.copy(deep=True)\n",
    "    \n",
    "    odds_cols = {'odds_awin_pinn': 'awinOddsPinnIndatabet',\n",
    "                 'odds_draw_pinn': 'drawOddsPinnIndatabet',\n",
    "                 'odds_hwin_pinn': 'hwinOddsPinnIndatabet',\n",
    "                 'odds_awin_bet365': 'awinOddsBet365Indatabet',\n",
    "                 'odds_draw_bet365': 'drawOddsBet365Indatabet',\n",
    "                 'odds_hwin_bet365': 'hwinOddsBet365Indatabet',\n",
    "                 'odds_ftgoalso2.5_bet365': 'ftGoalsO2.5OddsBet365Indatabet',\n",
    "                 'odds_ftgoalsu2.5_bet365': 'ftGoalsU2.5OddsBet365Indatabet',\n",
    "                 'odds_ftgoalso2.5_pinn': 'ftGoalsO2.5OddsPinnIndatabet',\n",
    "                 'odds_ftgoalsu2.5_pinn': 'ftGoalsU2.5OddsPinnIndatabet'}\n",
    "    \n",
    "    df.rename(columns=odds_cols, inplace=True)\n",
    "    return df\n",
    "\n",
    "\n",
    "def make_results_col(df_orig):\n",
    "    \"\"\"\n",
    "    COMMON !!!!!!!!!!!!!!!!!!!!!!!!\n",
    "    \"\"\"\n",
    "    df = df_orig.copy(deep=True)\n",
    "    try:\n",
    "        if 'result' in df.columns:\n",
    "            df.drop(columns=['result'], inplace=True)\n",
    "            # Calculate Results column\n",
    "        conditions = [df['h_ftGoals'] > df['a_ftGoals'],\n",
    "                      df['h_ftGoals'] == df['a_ftGoals'],\n",
    "                      df['h_ftGoals'] < df['a_ftGoals']]\n",
    "        choices = ['hwin', 'draw', 'awin']\n",
    "        df['result'] = np.select(conditions, choices, default='not-played')\n",
    "    except:\n",
    "        # Where there are abandoned matches or penalty finishes this fails\n",
    "        df['result'] = None\n",
    "    return df  \n",
    "\n",
    "def lowercase_team_names(df_orig):\n",
    "    \"\"\"\n",
    "    COMMON !!!!!!!!!!!!!!\n",
    "    \"\"\"\n",
    "    df = df_orig.copy(deep=True)\n",
    "    for col in ['h', 'a']:\n",
    "        df[col] = df[col].str.lower().str.replace(' ', '-').str.replace('.','')\n",
    "    return df\n",
    "    \n",
    "    \n",
    "    \n",
    "def get_fps(top_level_dir, ext='csv'):\n",
    "    \"\"\"\n",
    "    COMMON !!!!!!!!!!!\n",
    "    \"\"\"\n",
    "    src_fps = list(top_level_dir.rglob('*.' + ext))\n",
    "    return src_fps\n",
    "\n",
    "def read_csvs(fps):\n",
    "    \"\"\"\n",
    "    COMMON !!!!!!!!!!!!!!!\n",
    "    \n",
    "    \"\"\"\n",
    "    dfs = [pd.read_csv(fp) for fp in fps]\n",
    "    return dfs\n",
    "\n",
    "def clean_up_dfs(dfs):\n",
    "    clean_dfs = []\n",
    "    for df in dfs:\n",
    "        df = drop_unnamed(df)\n",
    "        df = drop_all_nulls(df, axis=1)\n",
    "        df = drop_all_nulls(df, axis=0)\n",
    "        df = rename_indatabet_cols(df)\n",
    "        df = make_results_col(df)\n",
    "        df = lowercase_team_names(df)\n",
    "        clean_dfs.append(df)\n",
    "    return clean_dfs\n",
    "\n",
    "\n",
    "def make_save_fps(top_level_dir, season_dfs, source = 'indatabet-com'):\n",
    "    \"\"\"\n",
    "    COMMON !!!!!!!!!!!!\n",
    "    \"\"\"\n",
    "    \n",
    "    scoped_fdcuk_fps = []\n",
    "    for season_df in season_dfs:\n",
    "        nation = season_df['nation'].unique()[0]\n",
    "        league = season_df['league'].unique()[0]\n",
    "        season = season_df['season'].unique()[0]\n",
    "        fn = str(season) + '.csv'\n",
    "        save_fp = top_level_dir / source / nation / league / season / fn\n",
    "        scoped_fdcuk_fps.append(save_fp)\n",
    "    return scoped_fdcuk_fps\n",
    "\n",
    "\n",
    "def save_dfs_to_fps(dfs, fps):\n",
    "    \"\"\"\n",
    "    COMMON !!!!!!!!!!!!!\n",
    "    \"\"\"\n",
    "    n = 0\n",
    "    for df, fp in zip(dfs, fps):\n",
    "        if not fp.exists():\n",
    "            fp.parent.mkdir(parents=True, exist_ok=True)\n",
    "        df.to_csv(fp, index=False)\n",
    "        n += 1\n",
    "    return n\n",
    "\n",
    "\n",
    "scoped_fps = get_fps(SCOPED_DATA_DIR / 'indatabet-com', ext='csv')\n",
    "dfs = read_csvs(scoped_fps)\n",
    "clean_dfs = clean_up_dfs(dfs)\n",
    "cleaned_indatabet_fps = make_save_fps(CLEANED_DATA_DIR,\n",
    "                                           clean_dfs,\n",
    "                                           source = 'indatabet-com')\n",
    "n_saved = save_dfs_to_fps(clean_dfs, cleaned_indatabet_fps)\n",
    "n_saved\n",
    "\n",
    "# cols = collect_col_names(clean_dfs)\n",
    "# cols"
   ]
  },
  {
   "cell_type": "code",
   "execution_count": 3,
   "metadata": {},
   "outputs": [
    {
     "name": "stdout",
     "output_type": "stream",
     "text": [
      "<class 'pandas.core.frame.DataFrame'>\n",
      "Int64Index: 180 entries, 0 to 179\n",
      "Data columns (total 22 columns):\n",
      "date                              180 non-null object\n",
      "id_fifa                           180 non-null object\n",
      "nation                            180 non-null object\n",
      "league                            180 non-null object\n",
      "season                            180 non-null object\n",
      "h                                 180 non-null object\n",
      "a                                 180 non-null object\n",
      "h_htgoals                         180 non-null float64\n",
      "a_htgoals                         180 non-null float64\n",
      "h_ftGoals                         180 non-null float64\n",
      "a_ftGoals                         180 non-null float64\n",
      "hwinOddsPinnIndatabet             180 non-null float64\n",
      "drawOddsPinnIndatabet             180 non-null float64\n",
      "awinOddsPinnIndatabet             180 non-null float64\n",
      "hwinOddsBet365Indatabet           180 non-null float64\n",
      "drawOddsBet365Indatabet           180 non-null float64\n",
      "awinOddsBet365Indatabet           180 non-null float64\n",
      "ftGoalsO2.5OddsPinnIndatabet      175 non-null float64\n",
      "ftGoalsU2.5OddsPinnIndatabet      175 non-null float64\n",
      "ftGoalsO2.5OddsBet365Indatabet    180 non-null float64\n",
      "ftGoalsU2.5OddsBet365Indatabet    180 non-null float64\n",
      "result                            180 non-null object\n",
      "dtypes: float64(14), object(8)\n",
      "memory usage: 32.3+ KB\n"
     ]
    }
   ],
   "source": [
    "clean_dfs[150].info()"
   ]
  },
  {
   "cell_type": "code",
   "execution_count": null,
   "metadata": {},
   "outputs": [],
   "source": []
  },
  {
   "cell_type": "code",
   "execution_count": null,
   "metadata": {},
   "outputs": [],
   "source": []
  },
  {
   "cell_type": "code",
   "execution_count": 4,
   "metadata": {},
   "outputs": [
    {
     "ename": "NameError",
     "evalue": "name 'stop' is not defined",
     "output_type": "error",
     "traceback": [
      "\u001b[0;31m---------------------------------------------------------------------------\u001b[0m",
      "\u001b[0;31mNameError\u001b[0m                                 Traceback (most recent call last)",
      "\u001b[0;32m<ipython-input-4-4f76a9dad686>\u001b[0m in \u001b[0;36m<module>\u001b[0;34m\u001b[0m\n\u001b[0;32m----> 1\u001b[0;31m \u001b[0mstop\u001b[0m\u001b[0;34m\u001b[0m\u001b[0;34m\u001b[0m\u001b[0m\n\u001b[0m",
      "\u001b[0;31mNameError\u001b[0m: name 'stop' is not defined"
     ]
    }
   ],
   "source": [
    "stop"
   ]
  },
  {
   "cell_type": "markdown",
   "metadata": {},
   "source": [
    "## Compile Premier League Data"
   ]
  },
  {
   "cell_type": "code",
   "execution_count": null,
   "metadata": {},
   "outputs": [],
   "source": [
    "ODDS_DATA_FP = RAW_DATA_DIR / 'indatabet-free-download' / 'oOo FT_2in1_Pinnacle & bet365_ML TG_01 April 2019.xlsb'\n",
    "\n",
    "print(ODDS_DATA_FP)\n",
    "save_file_name = 'indatabet-free-odds.csv'"
   ]
  },
  {
   "cell_type": "code",
   "execution_count": null,
   "metadata": {},
   "outputs": [],
   "source": [
    "# https://stackoverflow.com/questions/45019778/read-xlsb-file-in-pandas-python\n",
    "# Open xlsb file format\n",
    "df = []\n",
    "\n",
    "with open_xlsb(ODDS_DATA_FP) as wb:\n",
    "    with wb.get_sheet(1) as sheet:\n",
    "        for row in sheet.rows():\n",
    "            df.append([item.v for item in row])\n",
    "\n",
    "odds = pd.DataFrame(df[1:], columns=df[0])\n",
    "odds.columns = odds.columns.str.lower()\n",
    "odds.head()"
   ]
  },
  {
   "cell_type": "code",
   "execution_count": null,
   "metadata": {},
   "outputs": [],
   "source": [
    "# Lots of empty cloumns to remove\n",
    "odds_df = odds.copy(deep=True)\n",
    "\n",
    "# Cutoff columns\n",
    "odds_df = odds_df.iloc[:, 0:35]\n",
    "# make column names strings\n",
    "col_mapper = {col: str(col) for col in odds_df.columns}\n",
    "odds_df.rename(columns = col_mapper, inplace=True)\n",
    "# Drop unnecessary columns\n",
    "# Columns that can be calculated from other data such as Results goals over, under etc\n",
    "# col 12 is first None | R | none\n",
    "drop_cols = set([12,13,14,15, 16, 17, 20, 21, 26, 30])\n",
    "all_cols = set(range(0,odds_df.shape[1]))\n",
    "keeper_cols = all_cols.difference(drop_cols)\n",
    "odds_df = odds_df.iloc[:, list(keeper_cols)]\n",
    "col_names = ['yy', 'dd', 'mm', 'date', 'id_fifa', 'country', 'league', 'season', 'h', 'a',\n",
    "            'h_htgoals', 'a_htgoals', 'h_ftGoals', 'a_ftGoals', 'et_pen_awd',\n",
    "             'odds_hwin_pinn', 'odds_draw_pinn', 'odds_awin_pinn',\n",
    "            'odds_hwin_bet365', 'odds_draw_bet365', 'odds_awin_bet365',\n",
    "            'odds_ftgoalso2.5_pinn', 'odds_ftgoalsu2.5_pinn',\n",
    "            'odds_ftgoalso2.5_bet365', 'odds_ftgoalsu2.5_bet365']\n",
    "odds_df.columns = col_names\n",
    "odds_df = odds_df.iloc[2:].reset_index(drop=True)\n",
    "# Put seasons into my format\n",
    "odds_df['season'] = odds_df['season'].str.replace('/', '-')\n",
    "# Assemble date into common format - original date column cannot be trusted - multiple formats \n",
    "odds_df['date'] = pd.to_datetime(odds_df['yy'].astype(int).astype(str) + '-' + odds_df['mm'].astype(str)\n",
    "                                 + '-' + odds_df['dd'].astype(int).astype(str))\n",
    "odds_df.drop(columns=['yy', 'dd', 'mm'], inplace=True)\n",
    "odds_df.sort_values(by='date', ascending=True, inplace=True)\n",
    "odds_df.reset_index(drop=True, inplace=True)\n",
    "\n",
    "odds_df.head()"
   ]
  },
  {
   "cell_type": "code",
   "execution_count": null,
   "metadata": {},
   "outputs": [],
   "source": [
    "# Format column data to lower case strings, replace  space with dash\n",
    "str_cols = odds_df.columns[(odds_df.applymap(type) == str).all(0)]\n",
    "print(str_cols)\n",
    "for col in str_cols:\n",
    "    odds_df[col] = odds_df[col].str.strip().str.lower().str.replace(' ', '-')\n",
    "odds_df.head()"
   ]
  },
  {
   "cell_type": "code",
   "execution_count": null,
   "metadata": {},
   "outputs": [],
   "source": [
    "odds_df.info()"
   ]
  },
  {
   "cell_type": "markdown",
   "metadata": {},
   "source": [
    "### Change Values to match my standard names for leagues, nation"
   ]
  },
  {
   "cell_type": "code",
   "execution_count": null,
   "metadata": {},
   "outputs": [],
   "source": [
    "odds_df['country'].unique()"
   ]
  },
  {
   "cell_type": "code",
   "execution_count": null,
   "metadata": {},
   "outputs": [],
   "source": [
    "df_1 = odds_df.copy(deep=True)\n",
    "df_1.loc[df_1['country'] == 'england', 'country'] = 'united-kingdom'\n",
    "df_1['country'].unique()"
   ]
  },
  {
   "cell_type": "code",
   "execution_count": null,
   "metadata": {},
   "outputs": [],
   "source": [
    "df_1[df_1['country'] == 'united-kingdom']['league'].unique()"
   ]
  },
  {
   "cell_type": "code",
   "execution_count": null,
   "metadata": {},
   "outputs": [],
   "source": [
    "df_2 = df_1.copy(deep=True)\n",
    "crit1 = df_2['country'] == 'united-kingdom'\n",
    "crit2 = df_2['league'] == 'premier-league'\n",
    "df_2.loc[crit1 & crit2, 'league'] = 'english-premier-league'\n",
    "\n",
    "crit2 = df_2['league'] == 'championship'\n",
    "df_2.loc[crit1 & crit2, 'league'] = 'english-championship'\n",
    "\n",
    "crit2 = df_2['league'] == 'league-one'\n",
    "df_2.loc[crit1 & crit2, 'league'] = 'one'\n",
    "\n",
    "df_2[df_2['country'] == 'united-kingdom']['league'].unique()"
   ]
  },
  {
   "cell_type": "code",
   "execution_count": null,
   "metadata": {},
   "outputs": [],
   "source": [
    "df_2[df_2['country'] == 'germany']['league'].unique()"
   ]
  },
  {
   "cell_type": "code",
   "execution_count": null,
   "metadata": {},
   "outputs": [],
   "source": [
    "df_3 = df_2.copy(deep=True)\n",
    "crit1 = df_3['country'] == 'germany'\n",
    "crit2 = df_3['league'] == '2.-bundesliga'\n",
    "df_3.loc[crit1 & crit2, 'league'] = 'bundesliga-2'\n",
    "\n",
    "df_3[df_3['country'] == 'germany']['league'].unique()"
   ]
  },
  {
   "cell_type": "code",
   "execution_count": null,
   "metadata": {},
   "outputs": [],
   "source": [
    "df_3[df_3['country'] == 'spain']['league'].unique()"
   ]
  },
  {
   "cell_type": "code",
   "execution_count": null,
   "metadata": {},
   "outputs": [],
   "source": [
    "df_4 = df_3.copy(deep=True)\n",
    "crit1 = df_4['country'] == 'spain'\n",
    "crit2 = df_4['league'] == 'primera-division'\n",
    "df_4.loc[crit1 & crit2, 'league'] = 'la-liga'\n",
    "\n",
    "df_4[df_4['country'] == 'spain']['league'].unique()"
   ]
  },
  {
   "cell_type": "code",
   "execution_count": null,
   "metadata": {},
   "outputs": [],
   "source": [
    "nations = ['germany', 'united-kingdom', 'spain', 'italy',\n",
    "          'france', 'united-kingdom', 'germany', 'netherlands',\n",
    "          'russian-federation', 'scotland', 'portugal', 'switzerland',\n",
    "          'belgium', 'turkey', 'poland', 'united-kingdom']\n",
    "\n",
    "# poland, switzerland are multileague\n",
    "\n",
    "leagues = ['bundesliga', 'english-premier-league', 'la-liga', 'serie-a',\n",
    "           'ligue-1', 'english-championship', 'bundesliga-2', 'eredivisie',\n",
    "           'premier-league', 'premiership', 'primeira-liga', 'super-league',\n",
    "           'first-division-a', 'super-lig', 'ekstraklasa', 'one']\n",
    "\n",
    "seasons = ['2000-2001', '2001-2002', '2002-2003', '2003-2004',\n",
    "           '2004-2005', '2005-2006', '2006-2007', '2007-2008',\n",
    "           '2008-2009', '2009-2010', '2010-2011', '2011-2012',\n",
    "           '2012-2013', '2013-2014', '2014-2015', '2015-2016',\n",
    "           '2016-2017', '2017-2018']"
   ]
  },
  {
   "cell_type": "code",
   "execution_count": null,
   "metadata": {},
   "outputs": [],
   "source": [
    "df_5 = df_4.copy(deep=True)\n",
    "season_dfs = []\n",
    "for nation, league in zip(nations, leagues):\n",
    "    for season in seasons:\n",
    "        crit1 = df_5['country'] == nation\n",
    "        crit2 = df_5['league'] == league\n",
    "        crit3 = df_5['season'] == season\n",
    "        season_df = df_5[crit1 & crit2 & crit3]\n",
    "        if len(season_df):\n",
    "            season_dfs.append(season_df)\n",
    "\n",
    "full_df = pd.concat(season_dfs, axis=0)\n",
    "full_df = full_df.drop(columns=['h_htgoals', 'a_htgoals'])\n",
    "full_df.rename(columns={'country': 'nation'}, inplace=True)\n",
    "full_df.head()"
   ]
  },
  {
   "cell_type": "code",
   "execution_count": null,
   "metadata": {},
   "outputs": [],
   "source": [
    "full_df.info()"
   ]
  },
  {
   "cell_type": "code",
   "execution_count": null,
   "metadata": {
    "scrolled": false
   },
   "outputs": [],
   "source": [
    "sub_dfs = []\n",
    "full_df1 = full_df.copy(deep=True)\n",
    "for (nation, league, season), df in full_df1.groupby(by=['nation', 'league', 'season']):\n",
    "    for col in df.columns:\n",
    "        if col not in ['date', 'id_fifa', 'nation', 'league', 'season', 'h', 'a', 'et_pen_awd']:\n",
    "            #print(col, df[col].apply(np.isreal).all())\n",
    "            if df[col].apply(np.isreal).all():\n",
    "                df[col] = pd.to_numeric(df[col])\n",
    "    if df['et_pen_awd'].notnull().sum() == 0:\n",
    "        sub_dfs.append(df)\n",
    "            \n",
    "full_df2 = pd.concat(sub_dfs, axis=0)\n",
    "full_df2.head()\n",
    "    #break\n",
    "#         if df[['HST', 'AST']].isnull().sum().sum() == 0:\n",
    "#           st_dfs.append(df)"
   ]
  },
  {
   "cell_type": "code",
   "execution_count": null,
   "metadata": {
    "scrolled": false
   },
   "outputs": [],
   "source": [
    "full_df2.info()"
   ]
  },
  {
   "cell_type": "code",
   "execution_count": null,
   "metadata": {},
   "outputs": [],
   "source": [
    "msno.matrix(full_df2)\n",
    "plt.show();"
   ]
  },
  {
   "cell_type": "code",
   "execution_count": null,
   "metadata": {},
   "outputs": [],
   "source": [
    "full_df3 = full_df2.copy(deep=True)\n",
    "full_df3.drop(columns=['et_pen_awd', 'odds_ftgoalso2.5_pinn', 'odds_ftgoalsu2.5_pinn',\n",
    "                       'odds_ftgoalso2.5_bet365', 'odds_ftgoalsu2.5_bet365'], inplace=True)"
   ]
  },
  {
   "cell_type": "code",
   "execution_count": null,
   "metadata": {},
   "outputs": [],
   "source": [
    "full_df3.info()"
   ]
  },
  {
   "cell_type": "code",
   "execution_count": null,
   "metadata": {},
   "outputs": [],
   "source": [
    "for (nation, league, season), seas_df in full_df3.groupby(by=['nation', 'league', 'season']):\n",
    "    season_df = seas_df.copy(deep=True)\n",
    "    season_df.sort_values(by=['date'], inplace=True)\n",
    "    season_df.reset_index(drop=True, inplace=True)\n",
    "    fn = season + '.csv'\n",
    "    source = 'indatabet-com'\n",
    "    save_dir = CLEANED_DIR / source / nation / league / season\n",
    "    save_fp = save_dir / fn\n",
    "    save_dir.mkdir(parents=True, exist_ok=True)\n",
    "    season_df.to_csv(save_fp, index=False)"
   ]
  },
  {
   "cell_type": "code",
   "execution_count": null,
   "metadata": {},
   "outputs": [],
   "source": [
    "season_df.head()"
   ]
  },
  {
   "cell_type": "code",
   "execution_count": null,
   "metadata": {},
   "outputs": [],
   "source": [
    "season_df.tail()"
   ]
  },
  {
   "cell_type": "code",
   "execution_count": null,
   "metadata": {},
   "outputs": [],
   "source": [
    "season_df.info()"
   ]
  },
  {
   "cell_type": "code",
   "execution_count": null,
   "metadata": {},
   "outputs": [],
   "source": [
    "season_df.describe()"
   ]
  },
  {
   "cell_type": "markdown",
   "metadata": {},
   "source": [
    "### Test Read"
   ]
  },
  {
   "cell_type": "code",
   "execution_count": null,
   "metadata": {},
   "outputs": [],
   "source": [
    "df = pd.read_csv(save_fp, parse_dates=['date'], index_col=None)\n",
    "df.head()"
   ]
  },
  {
   "cell_type": "code",
   "execution_count": null,
   "metadata": {},
   "outputs": [],
   "source": [
    "df.info()"
   ]
  },
  {
   "cell_type": "code",
   "execution_count": null,
   "metadata": {},
   "outputs": [],
   "source": []
  },
  {
   "cell_type": "code",
   "execution_count": null,
   "metadata": {},
   "outputs": [],
   "source": [
    "stop"
   ]
  },
  {
   "cell_type": "code",
   "execution_count": null,
   "metadata": {},
   "outputs": [],
   "source": []
  },
  {
   "cell_type": "code",
   "execution_count": null,
   "metadata": {},
   "outputs": [],
   "source": []
  },
  {
   "cell_type": "code",
   "execution_count": null,
   "metadata": {},
   "outputs": [],
   "source": [
    "full_df1 = full_df.copy(deep=True)\n",
    "for col in full_df.columns:\n",
    "    if col not in ['date', 'id_fifa', 'country', 'league', 'season', 'h', 'a', 'et_pen_awd']:\n",
    "        print(col)\n",
    "        full_df1[col] = full_df[col].astype(float)\n",
    "    \n",
    "full_df1.info()"
   ]
  },
  {
   "cell_type": "code",
   "execution_count": null,
   "metadata": {},
   "outputs": [],
   "source": [
    "msno.matrix(full_df)\n",
    "plt.show();"
   ]
  },
  {
   "cell_type": "code",
   "execution_count": null,
   "metadata": {},
   "outputs": [],
   "source": [
    "full_df.drop(columns=[''])"
   ]
  },
  {
   "cell_type": "code",
   "execution_count": null,
   "metadata": {},
   "outputs": [],
   "source": []
  },
  {
   "cell_type": "code",
   "execution_count": null,
   "metadata": {},
   "outputs": [],
   "source": []
  },
  {
   "cell_type": "code",
   "execution_count": null,
   "metadata": {},
   "outputs": [],
   "source": [
    "stop"
   ]
  },
  {
   "cell_type": "code",
   "execution_count": null,
   "metadata": {},
   "outputs": [],
   "source": [
    "df_4[df_4['country'] == 'poland']['league'].unique()"
   ]
  },
  {
   "cell_type": "code",
   "execution_count": null,
   "metadata": {},
   "outputs": [],
   "source": [
    "stop"
   ]
  },
  {
   "cell_type": "code",
   "execution_count": null,
   "metadata": {},
   "outputs": [],
   "source": [
    "odds_df[odds_df['country'] == 'germany']['league'].value_counts()"
   ]
  },
  {
   "cell_type": "code",
   "execution_count": null,
   "metadata": {},
   "outputs": [],
   "source": []
  },
  {
   "cell_type": "code",
   "execution_count": null,
   "metadata": {},
   "outputs": [],
   "source": []
  },
  {
   "cell_type": "code",
   "execution_count": null,
   "metadata": {},
   "outputs": [],
   "source": []
  },
  {
   "cell_type": "code",
   "execution_count": null,
   "metadata": {},
   "outputs": [],
   "source": []
  },
  {
   "cell_type": "code",
   "execution_count": null,
   "metadata": {},
   "outputs": [],
   "source": [
    "odds_df.to_csv(INTERIM_DATA_DIR / 'indatabet-free-odds' / save_file_name, index=False)"
   ]
  },
  {
   "cell_type": "code",
   "execution_count": null,
   "metadata": {},
   "outputs": [],
   "source": [
    "dtypes = {'id_fifa': np.object, 'country': np.object, 'league': np.object,\n",
    "          'season': np.object, 'h': np.object, 'a': np.object,\n",
    "          'h_htgoals': np.float64, 'a_htgoals': np.float64,\n",
    "          'h_ftgoals': np.object, 'a_ftgoals': np.object, 'et_pen_awd': np.object,\n",
    "          'odds_hwin_pinn': np.float64, 'odds_draw_pinn': np.float64, 'odds_awin_pinn': np.float64,\n",
    "          'odds_hwin_bet365': np.float64, 'odds_draw_bet365': np.float64, 'odds_awin_bet365': np.float64,\n",
    "          'odds_ftgoalso2.5_pinn': np.float64, 'odds_ftgoalsu2.5_pinn': np.float64,\n",
    "          'odds_ftgoalso2.5_bet365': np.float64, 'odds_ftgoalsu2.5_bet365': np.float64}\n",
    "odds_df = pd.read_csv(INTERIM_DATA_DIR / 'indatabet-free-odds' / save_file_name,\n",
    "                      parse_dates=['date'], dtype=dtypes, dayfirst=True, index_col=None)\n",
    "odds_df.head()"
   ]
  },
  {
   "cell_type": "code",
   "execution_count": null,
   "metadata": {},
   "outputs": [],
   "source": [
    "odds_df.info()"
   ]
  },
  {
   "cell_type": "code",
   "execution_count": null,
   "metadata": {},
   "outputs": [],
   "source": [
    "odds_df.describe()"
   ]
  },
  {
   "cell_type": "code",
   "execution_count": null,
   "metadata": {},
   "outputs": [],
   "source": []
  }
 ],
 "metadata": {
  "kernelspec": {
   "display_name": "Python 3",
   "language": "python",
   "name": "python3"
  },
  "language_info": {
   "codemirror_mode": {
    "name": "ipython",
    "version": 3
   },
   "file_extension": ".py",
   "mimetype": "text/x-python",
   "name": "python",
   "nbconvert_exporter": "python",
   "pygments_lexer": "ipython3",
   "version": "3.7.3"
  }
 },
 "nbformat": 4,
 "nbformat_minor": 2
}
