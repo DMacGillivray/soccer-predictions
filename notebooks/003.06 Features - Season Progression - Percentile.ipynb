{
 "cells": [
  {
   "cell_type": "markdown",
   "metadata": {},
   "source": [
    "# Season Progression"
   ]
  },
  {
   "cell_type": "code",
   "execution_count": 2,
   "metadata": {},
   "outputs": [],
   "source": [
    "import pandas as pd\n",
    "# import pandas as pd\n",
    "# import matplotlib.pyplot as plt\n",
    "# import numpy as np\n",
    "# import seaborn\n",
    "# from scipy.stats import poisson,skellam\n",
    "# import statsmodels.api as sm\n",
    "# import statsmodels.formula.api as smf\n",
    "# import statsmodels.tools.sm_exceptions as sm_exceptions\n",
    "# from patsy import dmatrix, dmatrices"
   ]
  },
  {
   "cell_type": "code",
   "execution_count": 3,
   "metadata": {},
   "outputs": [],
   "source": [
    "def insert_game_day(df_orig):\n",
    "    df = df_orig.copy(deep=True)\n",
    "    df['game_day'] = df.groupby(by='date').ngroup(ascending=True)\n",
    "    return df"
   ]
  },
  {
   "cell_type": "code",
   "execution_count": 4,
   "metadata": {},
   "outputs": [
    {
     "data": {
      "text/html": [
       "<div>\n",
       "<style scoped>\n",
       "    .dataframe tbody tr th:only-of-type {\n",
       "        vertical-align: middle;\n",
       "    }\n",
       "\n",
       "    .dataframe tbody tr th {\n",
       "        vertical-align: top;\n",
       "    }\n",
       "\n",
       "    .dataframe thead th {\n",
       "        text-align: right;\n",
       "    }\n",
       "</style>\n",
       "<table border=\"1\" class=\"dataframe\">\n",
       "  <thead>\n",
       "    <tr style=\"text-align: right;\">\n",
       "      <th></th>\n",
       "      <th>Div</th>\n",
       "      <th>Date</th>\n",
       "      <th>HomeTeam</th>\n",
       "      <th>AwayTeam</th>\n",
       "      <th>FTHG</th>\n",
       "      <th>FTAG</th>\n",
       "      <th>FTR</th>\n",
       "      <th>HTHG</th>\n",
       "      <th>HTAG</th>\n",
       "      <th>HTR</th>\n",
       "      <th>...</th>\n",
       "      <th>BbAv&lt;2.5</th>\n",
       "      <th>BbAH</th>\n",
       "      <th>BbAHh</th>\n",
       "      <th>BbMxAHH</th>\n",
       "      <th>BbAvAHH</th>\n",
       "      <th>BbMxAHA</th>\n",
       "      <th>BbAvAHA</th>\n",
       "      <th>PSCH</th>\n",
       "      <th>PSCD</th>\n",
       "      <th>PSCA</th>\n",
       "    </tr>\n",
       "  </thead>\n",
       "  <tbody>\n",
       "    <tr>\n",
       "      <th>0</th>\n",
       "      <td>E0</td>\n",
       "      <td>2016-08-13</td>\n",
       "      <td>Burnley</td>\n",
       "      <td>Swansea</td>\n",
       "      <td>0</td>\n",
       "      <td>1</td>\n",
       "      <td>A</td>\n",
       "      <td>0</td>\n",
       "      <td>0</td>\n",
       "      <td>D</td>\n",
       "      <td>...</td>\n",
       "      <td>1.61</td>\n",
       "      <td>32</td>\n",
       "      <td>-0.25</td>\n",
       "      <td>2.13</td>\n",
       "      <td>2.06</td>\n",
       "      <td>1.86</td>\n",
       "      <td>1.81</td>\n",
       "      <td>2.79</td>\n",
       "      <td>3.16</td>\n",
       "      <td>2.89</td>\n",
       "    </tr>\n",
       "    <tr>\n",
       "      <th>1</th>\n",
       "      <td>E0</td>\n",
       "      <td>2016-08-13</td>\n",
       "      <td>Crystal Palace</td>\n",
       "      <td>West Brom</td>\n",
       "      <td>0</td>\n",
       "      <td>1</td>\n",
       "      <td>A</td>\n",
       "      <td>0</td>\n",
       "      <td>0</td>\n",
       "      <td>D</td>\n",
       "      <td>...</td>\n",
       "      <td>1.52</td>\n",
       "      <td>33</td>\n",
       "      <td>-0.50</td>\n",
       "      <td>2.07</td>\n",
       "      <td>2.00</td>\n",
       "      <td>1.90</td>\n",
       "      <td>1.85</td>\n",
       "      <td>2.25</td>\n",
       "      <td>3.15</td>\n",
       "      <td>3.86</td>\n",
       "    </tr>\n",
       "    <tr>\n",
       "      <th>2</th>\n",
       "      <td>E0</td>\n",
       "      <td>2016-08-13</td>\n",
       "      <td>Everton</td>\n",
       "      <td>Tottenham</td>\n",
       "      <td>1</td>\n",
       "      <td>1</td>\n",
       "      <td>D</td>\n",
       "      <td>1</td>\n",
       "      <td>0</td>\n",
       "      <td>H</td>\n",
       "      <td>...</td>\n",
       "      <td>1.77</td>\n",
       "      <td>32</td>\n",
       "      <td>0.25</td>\n",
       "      <td>1.91</td>\n",
       "      <td>1.85</td>\n",
       "      <td>2.09</td>\n",
       "      <td>2.00</td>\n",
       "      <td>3.64</td>\n",
       "      <td>3.54</td>\n",
       "      <td>2.16</td>\n",
       "    </tr>\n",
       "    <tr>\n",
       "      <th>3</th>\n",
       "      <td>E0</td>\n",
       "      <td>2016-08-13</td>\n",
       "      <td>Hull</td>\n",
       "      <td>Leicester</td>\n",
       "      <td>2</td>\n",
       "      <td>1</td>\n",
       "      <td>H</td>\n",
       "      <td>1</td>\n",
       "      <td>0</td>\n",
       "      <td>H</td>\n",
       "      <td>...</td>\n",
       "      <td>1.67</td>\n",
       "      <td>31</td>\n",
       "      <td>0.25</td>\n",
       "      <td>2.35</td>\n",
       "      <td>2.26</td>\n",
       "      <td>2.03</td>\n",
       "      <td>1.67</td>\n",
       "      <td>4.68</td>\n",
       "      <td>3.50</td>\n",
       "      <td>1.92</td>\n",
       "    </tr>\n",
       "    <tr>\n",
       "      <th>4</th>\n",
       "      <td>E0</td>\n",
       "      <td>2016-08-13</td>\n",
       "      <td>Man City</td>\n",
       "      <td>Sunderland</td>\n",
       "      <td>2</td>\n",
       "      <td>1</td>\n",
       "      <td>H</td>\n",
       "      <td>1</td>\n",
       "      <td>0</td>\n",
       "      <td>H</td>\n",
       "      <td>...</td>\n",
       "      <td>2.48</td>\n",
       "      <td>34</td>\n",
       "      <td>-1.50</td>\n",
       "      <td>1.81</td>\n",
       "      <td>1.73</td>\n",
       "      <td>2.20</td>\n",
       "      <td>2.14</td>\n",
       "      <td>1.25</td>\n",
       "      <td>6.50</td>\n",
       "      <td>14.50</td>\n",
       "    </tr>\n",
       "  </tbody>\n",
       "</table>\n",
       "<p>5 rows × 65 columns</p>\n",
       "</div>"
      ],
      "text/plain": [
       "  Div       Date        HomeTeam    AwayTeam  FTHG  FTAG FTR  HTHG  HTAG HTR  \\\n",
       "0  E0 2016-08-13         Burnley     Swansea     0     1   A     0     0   D   \n",
       "1  E0 2016-08-13  Crystal Palace   West Brom     0     1   A     0     0   D   \n",
       "2  E0 2016-08-13         Everton   Tottenham     1     1   D     1     0   H   \n",
       "3  E0 2016-08-13            Hull   Leicester     2     1   H     1     0   H   \n",
       "4  E0 2016-08-13        Man City  Sunderland     2     1   H     1     0   H   \n",
       "\n",
       "   ... BbAv<2.5  BbAH  BbAHh  BbMxAHH  BbAvAHH  BbMxAHA  BbAvAHA  PSCH  PSCD  \\\n",
       "0  ...     1.61    32  -0.25     2.13     2.06     1.86     1.81  2.79  3.16   \n",
       "1  ...     1.52    33  -0.50     2.07     2.00     1.90     1.85  2.25  3.15   \n",
       "2  ...     1.77    32   0.25     1.91     1.85     2.09     2.00  3.64  3.54   \n",
       "3  ...     1.67    31   0.25     2.35     2.26     2.03     1.67  4.68  3.50   \n",
       "4  ...     2.48    34  -1.50     1.81     1.73     2.20     2.14  1.25  6.50   \n",
       "\n",
       "    PSCA  \n",
       "0   2.89  \n",
       "1   3.86  \n",
       "2   2.16  \n",
       "3   1.92  \n",
       "4  14.50  \n",
       "\n",
       "[5 rows x 65 columns]"
      ]
     },
     "execution_count": 4,
     "metadata": {},
     "output_type": "execute_result"
    }
   ],
   "source": [
    "epl_1617 = pd.read_csv(\"http://www.football-data.co.uk/mmz4281/1617/E0.csv\", parse_dates=['Date'], dayfirst=True)\n",
    "epl_1617 = epl_1617[['Date','HST', 'AST', 'HomeTeam','AwayTeam','FTHG','FTAG']]\n",
    "epl_1617 = epl_1617.rename(columns={'Date': 'date','HomeTeam': 'h', 'AwayTeam': 'a',\n",
    "                                    'FTHG': 'h_ftGoals', 'FTAG': 'a_ftGoals',\n",
    "                                    'h_shotsOnTarget', 'a_shotsOnTarget'}).sort_values(by='date')\n",
    "epl_1617 = insert_game_day(epl_1617)\n",
    "epl_1617.head()"
   ]
  },
  {
   "cell_type": "code",
   "execution_count": 5,
   "metadata": {},
   "outputs": [
    {
     "data": {
      "text/plain": [
       "Index(['Div', 'Date', 'HomeTeam', 'AwayTeam', 'FTHG', 'FTAG', 'FTR', 'HTHG',\n",
       "       'HTAG', 'HTR', 'Referee', 'HS', 'AS', 'HST', 'AST', 'HF', 'AF', 'HC',\n",
       "       'AC', 'HY', 'AY', 'HR', 'AR', 'B365H', 'B365D', 'B365A', 'BWH', 'BWD',\n",
       "       'BWA', 'IWH', 'IWD', 'IWA', 'LBH', 'LBD', 'LBA', 'PSH', 'PSD', 'PSA',\n",
       "       'WHH', 'WHD', 'WHA', 'VCH', 'VCD', 'VCA', 'Bb1X2', 'BbMxH', 'BbAvH',\n",
       "       'BbMxD', 'BbAvD', 'BbMxA', 'BbAvA', 'BbOU', 'BbMx>2.5', 'BbAv>2.5',\n",
       "       'BbMx<2.5', 'BbAv<2.5', 'BbAH', 'BbAHh', 'BbMxAHH', 'BbAvAHH',\n",
       "       'BbMxAHA', 'BbAvAHA', 'PSCH', 'PSCD', 'PSCA'],\n",
       "      dtype='object')"
      ]
     },
     "execution_count": 5,
     "metadata": {},
     "output_type": "execute_result"
    }
   ],
   "source": [
    "epl_1617.columns"
   ]
  },
  {
   "cell_type": "code",
   "execution_count": 4,
   "metadata": {},
   "outputs": [
    {
     "data": {
      "text/html": [
       "<div>\n",
       "<style scoped>\n",
       "    .dataframe tbody tr th:only-of-type {\n",
       "        vertical-align: middle;\n",
       "    }\n",
       "\n",
       "    .dataframe tbody tr th {\n",
       "        vertical-align: top;\n",
       "    }\n",
       "\n",
       "    .dataframe thead th {\n",
       "        text-align: right;\n",
       "    }\n",
       "</style>\n",
       "<table border=\"1\" class=\"dataframe\">\n",
       "  <thead>\n",
       "    <tr style=\"text-align: right;\">\n",
       "      <th></th>\n",
       "      <th>date</th>\n",
       "      <th>h</th>\n",
       "      <th>a</th>\n",
       "      <th>h_ftGoals</th>\n",
       "      <th>a_ftGoals</th>\n",
       "      <th>game_day</th>\n",
       "    </tr>\n",
       "  </thead>\n",
       "  <tbody>\n",
       "    <tr>\n",
       "      <th>372</th>\n",
       "      <td>2017-05-21</td>\n",
       "      <td>Chelsea</td>\n",
       "      <td>Sunderland</td>\n",
       "      <td>5</td>\n",
       "      <td>1</td>\n",
       "      <td>106</td>\n",
       "    </tr>\n",
       "    <tr>\n",
       "      <th>371</th>\n",
       "      <td>2017-05-21</td>\n",
       "      <td>Burnley</td>\n",
       "      <td>West Ham</td>\n",
       "      <td>1</td>\n",
       "      <td>2</td>\n",
       "      <td>106</td>\n",
       "    </tr>\n",
       "    <tr>\n",
       "      <th>370</th>\n",
       "      <td>2017-05-21</td>\n",
       "      <td>Arsenal</td>\n",
       "      <td>Everton</td>\n",
       "      <td>3</td>\n",
       "      <td>1</td>\n",
       "      <td>106</td>\n",
       "    </tr>\n",
       "    <tr>\n",
       "      <th>373</th>\n",
       "      <td>2017-05-21</td>\n",
       "      <td>Hull</td>\n",
       "      <td>Tottenham</td>\n",
       "      <td>1</td>\n",
       "      <td>7</td>\n",
       "      <td>106</td>\n",
       "    </tr>\n",
       "    <tr>\n",
       "      <th>379</th>\n",
       "      <td>2017-05-21</td>\n",
       "      <td>Watford</td>\n",
       "      <td>Man City</td>\n",
       "      <td>0</td>\n",
       "      <td>5</td>\n",
       "      <td>106</td>\n",
       "    </tr>\n",
       "  </tbody>\n",
       "</table>\n",
       "</div>"
      ],
      "text/plain": [
       "          date        h           a  h_ftGoals  a_ftGoals  game_day\n",
       "372 2017-05-21  Chelsea  Sunderland          5          1       106\n",
       "371 2017-05-21  Burnley    West Ham          1          2       106\n",
       "370 2017-05-21  Arsenal     Everton          3          1       106\n",
       "373 2017-05-21     Hull   Tottenham          1          7       106\n",
       "379 2017-05-21  Watford    Man City          0          5       106"
      ]
     },
     "execution_count": 4,
     "metadata": {},
     "output_type": "execute_result"
    }
   ],
   "source": [
    "epl_1617.tail()"
   ]
  },
  {
   "cell_type": "code",
   "execution_count": 8,
   "metadata": {},
   "outputs": [
    {
     "data": {
      "text/html": [
       "<div>\n",
       "<style scoped>\n",
       "    .dataframe tbody tr th:only-of-type {\n",
       "        vertical-align: middle;\n",
       "    }\n",
       "\n",
       "    .dataframe tbody tr th {\n",
       "        vertical-align: top;\n",
       "    }\n",
       "\n",
       "    .dataframe thead th {\n",
       "        text-align: right;\n",
       "    }\n",
       "</style>\n",
       "<table border=\"1\" class=\"dataframe\">\n",
       "  <thead>\n",
       "    <tr style=\"text-align: right;\">\n",
       "      <th></th>\n",
       "      <th>date</th>\n",
       "      <th>h</th>\n",
       "      <th>a</th>\n",
       "      <th>h_ftGoals</th>\n",
       "      <th>a_ftGoals</th>\n",
       "      <th>game_day</th>\n",
       "      <th>seasonPercentile</th>\n",
       "    </tr>\n",
       "  </thead>\n",
       "  <tbody>\n",
       "    <tr>\n",
       "      <th>0</th>\n",
       "      <td>2016-08-13</td>\n",
       "      <td>Burnley</td>\n",
       "      <td>Swansea</td>\n",
       "      <td>0</td>\n",
       "      <td>1</td>\n",
       "      <td>0</td>\n",
       "      <td>0.018421</td>\n",
       "    </tr>\n",
       "    <tr>\n",
       "      <th>1</th>\n",
       "      <td>2016-08-13</td>\n",
       "      <td>Crystal Palace</td>\n",
       "      <td>West Brom</td>\n",
       "      <td>0</td>\n",
       "      <td>1</td>\n",
       "      <td>0</td>\n",
       "      <td>0.018421</td>\n",
       "    </tr>\n",
       "    <tr>\n",
       "      <th>2</th>\n",
       "      <td>2016-08-13</td>\n",
       "      <td>Everton</td>\n",
       "      <td>Tottenham</td>\n",
       "      <td>1</td>\n",
       "      <td>1</td>\n",
       "      <td>0</td>\n",
       "      <td>0.018421</td>\n",
       "    </tr>\n",
       "    <tr>\n",
       "      <th>3</th>\n",
       "      <td>2016-08-13</td>\n",
       "      <td>Hull</td>\n",
       "      <td>Leicester</td>\n",
       "      <td>2</td>\n",
       "      <td>1</td>\n",
       "      <td>0</td>\n",
       "      <td>0.018421</td>\n",
       "    </tr>\n",
       "    <tr>\n",
       "      <th>4</th>\n",
       "      <td>2016-08-13</td>\n",
       "      <td>Man City</td>\n",
       "      <td>Sunderland</td>\n",
       "      <td>2</td>\n",
       "      <td>1</td>\n",
       "      <td>0</td>\n",
       "      <td>0.018421</td>\n",
       "    </tr>\n",
       "  </tbody>\n",
       "</table>\n",
       "</div>"
      ],
      "text/plain": [
       "        date               h           a  h_ftGoals  a_ftGoals  game_day  \\\n",
       "0 2016-08-13         Burnley     Swansea          0          1         0   \n",
       "1 2016-08-13  Crystal Palace   West Brom          0          1         0   \n",
       "2 2016-08-13         Everton   Tottenham          1          1         0   \n",
       "3 2016-08-13            Hull   Leicester          2          1         0   \n",
       "4 2016-08-13        Man City  Sunderland          2          1         0   \n",
       "\n",
       "   seasonPercentile  \n",
       "0          0.018421  \n",
       "1          0.018421  \n",
       "2          0.018421  \n",
       "3          0.018421  \n",
       "4          0.018421  "
      ]
     },
     "execution_count": 8,
     "metadata": {},
     "output_type": "execute_result"
    }
   ],
   "source": [
    "epl_1617['seasonPercentile'] = epl_1617['game_day'].rank(method='max', pct=True)\n",
    "epl_1617.head()"
   ]
  },
  {
   "cell_type": "code",
   "execution_count": 11,
   "metadata": {},
   "outputs": [
    {
     "data": {
      "text/html": [
       "<div>\n",
       "<style scoped>\n",
       "    .dataframe tbody tr th:only-of-type {\n",
       "        vertical-align: middle;\n",
       "    }\n",
       "\n",
       "    .dataframe tbody tr th {\n",
       "        vertical-align: top;\n",
       "    }\n",
       "\n",
       "    .dataframe thead th {\n",
       "        text-align: right;\n",
       "    }\n",
       "</style>\n",
       "<table border=\"1\" class=\"dataframe\">\n",
       "  <thead>\n",
       "    <tr style=\"text-align: right;\">\n",
       "      <th></th>\n",
       "      <th>date</th>\n",
       "      <th>h</th>\n",
       "      <th>a</th>\n",
       "      <th>h_ftGoals</th>\n",
       "      <th>a_ftGoals</th>\n",
       "      <th>game_day</th>\n",
       "      <th>seasonPercentile</th>\n",
       "    </tr>\n",
       "  </thead>\n",
       "  <tbody>\n",
       "    <tr>\n",
       "      <th>365</th>\n",
       "      <td>2017-05-15</td>\n",
       "      <td>Chelsea</td>\n",
       "      <td>Watford</td>\n",
       "      <td>4</td>\n",
       "      <td>3</td>\n",
       "      <td>102</td>\n",
       "      <td>0.963158</td>\n",
       "    </tr>\n",
       "    <tr>\n",
       "      <th>366</th>\n",
       "      <td>2017-05-16</td>\n",
       "      <td>Arsenal</td>\n",
       "      <td>Sunderland</td>\n",
       "      <td>2</td>\n",
       "      <td>0</td>\n",
       "      <td>103</td>\n",
       "      <td>0.968421</td>\n",
       "    </tr>\n",
       "    <tr>\n",
       "      <th>367</th>\n",
       "      <td>2017-05-16</td>\n",
       "      <td>Man City</td>\n",
       "      <td>West Brom</td>\n",
       "      <td>3</td>\n",
       "      <td>1</td>\n",
       "      <td>103</td>\n",
       "      <td>0.968421</td>\n",
       "    </tr>\n",
       "    <tr>\n",
       "      <th>368</th>\n",
       "      <td>2017-05-17</td>\n",
       "      <td>Southampton</td>\n",
       "      <td>Man United</td>\n",
       "      <td>0</td>\n",
       "      <td>0</td>\n",
       "      <td>104</td>\n",
       "      <td>0.971053</td>\n",
       "    </tr>\n",
       "    <tr>\n",
       "      <th>369</th>\n",
       "      <td>2017-05-18</td>\n",
       "      <td>Leicester</td>\n",
       "      <td>Tottenham</td>\n",
       "      <td>1</td>\n",
       "      <td>6</td>\n",
       "      <td>105</td>\n",
       "      <td>0.973684</td>\n",
       "    </tr>\n",
       "    <tr>\n",
       "      <th>376</th>\n",
       "      <td>2017-05-21</td>\n",
       "      <td>Man United</td>\n",
       "      <td>Crystal Palace</td>\n",
       "      <td>2</td>\n",
       "      <td>0</td>\n",
       "      <td>106</td>\n",
       "      <td>1.000000</td>\n",
       "    </tr>\n",
       "    <tr>\n",
       "      <th>375</th>\n",
       "      <td>2017-05-21</td>\n",
       "      <td>Liverpool</td>\n",
       "      <td>Middlesbrough</td>\n",
       "      <td>3</td>\n",
       "      <td>0</td>\n",
       "      <td>106</td>\n",
       "      <td>1.000000</td>\n",
       "    </tr>\n",
       "    <tr>\n",
       "      <th>377</th>\n",
       "      <td>2017-05-21</td>\n",
       "      <td>Southampton</td>\n",
       "      <td>Stoke</td>\n",
       "      <td>0</td>\n",
       "      <td>1</td>\n",
       "      <td>106</td>\n",
       "      <td>1.000000</td>\n",
       "    </tr>\n",
       "    <tr>\n",
       "      <th>374</th>\n",
       "      <td>2017-05-21</td>\n",
       "      <td>Leicester</td>\n",
       "      <td>Bournemouth</td>\n",
       "      <td>1</td>\n",
       "      <td>1</td>\n",
       "      <td>106</td>\n",
       "      <td>1.000000</td>\n",
       "    </tr>\n",
       "    <tr>\n",
       "      <th>378</th>\n",
       "      <td>2017-05-21</td>\n",
       "      <td>Swansea</td>\n",
       "      <td>West Brom</td>\n",
       "      <td>2</td>\n",
       "      <td>1</td>\n",
       "      <td>106</td>\n",
       "      <td>1.000000</td>\n",
       "    </tr>\n",
       "    <tr>\n",
       "      <th>372</th>\n",
       "      <td>2017-05-21</td>\n",
       "      <td>Chelsea</td>\n",
       "      <td>Sunderland</td>\n",
       "      <td>5</td>\n",
       "      <td>1</td>\n",
       "      <td>106</td>\n",
       "      <td>1.000000</td>\n",
       "    </tr>\n",
       "    <tr>\n",
       "      <th>371</th>\n",
       "      <td>2017-05-21</td>\n",
       "      <td>Burnley</td>\n",
       "      <td>West Ham</td>\n",
       "      <td>1</td>\n",
       "      <td>2</td>\n",
       "      <td>106</td>\n",
       "      <td>1.000000</td>\n",
       "    </tr>\n",
       "    <tr>\n",
       "      <th>370</th>\n",
       "      <td>2017-05-21</td>\n",
       "      <td>Arsenal</td>\n",
       "      <td>Everton</td>\n",
       "      <td>3</td>\n",
       "      <td>1</td>\n",
       "      <td>106</td>\n",
       "      <td>1.000000</td>\n",
       "    </tr>\n",
       "    <tr>\n",
       "      <th>373</th>\n",
       "      <td>2017-05-21</td>\n",
       "      <td>Hull</td>\n",
       "      <td>Tottenham</td>\n",
       "      <td>1</td>\n",
       "      <td>7</td>\n",
       "      <td>106</td>\n",
       "      <td>1.000000</td>\n",
       "    </tr>\n",
       "    <tr>\n",
       "      <th>379</th>\n",
       "      <td>2017-05-21</td>\n",
       "      <td>Watford</td>\n",
       "      <td>Man City</td>\n",
       "      <td>0</td>\n",
       "      <td>5</td>\n",
       "      <td>106</td>\n",
       "      <td>1.000000</td>\n",
       "    </tr>\n",
       "  </tbody>\n",
       "</table>\n",
       "</div>"
      ],
      "text/plain": [
       "          date            h               a  h_ftGoals  a_ftGoals  game_day  \\\n",
       "365 2017-05-15      Chelsea         Watford          4          3       102   \n",
       "366 2017-05-16      Arsenal      Sunderland          2          0       103   \n",
       "367 2017-05-16     Man City       West Brom          3          1       103   \n",
       "368 2017-05-17  Southampton      Man United          0          0       104   \n",
       "369 2017-05-18    Leicester       Tottenham          1          6       105   \n",
       "376 2017-05-21   Man United  Crystal Palace          2          0       106   \n",
       "375 2017-05-21    Liverpool   Middlesbrough          3          0       106   \n",
       "377 2017-05-21  Southampton           Stoke          0          1       106   \n",
       "374 2017-05-21    Leicester     Bournemouth          1          1       106   \n",
       "378 2017-05-21      Swansea       West Brom          2          1       106   \n",
       "372 2017-05-21      Chelsea      Sunderland          5          1       106   \n",
       "371 2017-05-21      Burnley        West Ham          1          2       106   \n",
       "370 2017-05-21      Arsenal         Everton          3          1       106   \n",
       "373 2017-05-21         Hull       Tottenham          1          7       106   \n",
       "379 2017-05-21      Watford        Man City          0          5       106   \n",
       "\n",
       "     seasonPercentile  \n",
       "365          0.963158  \n",
       "366          0.968421  \n",
       "367          0.968421  \n",
       "368          0.971053  \n",
       "369          0.973684  \n",
       "376          1.000000  \n",
       "375          1.000000  \n",
       "377          1.000000  \n",
       "374          1.000000  \n",
       "378          1.000000  \n",
       "372          1.000000  \n",
       "371          1.000000  \n",
       "370          1.000000  \n",
       "373          1.000000  \n",
       "379          1.000000  "
      ]
     },
     "execution_count": 11,
     "metadata": {},
     "output_type": "execute_result"
    }
   ],
   "source": [
    "epl_1617.tail(15)"
   ]
  },
  {
   "cell_type": "code",
   "execution_count": null,
   "metadata": {},
   "outputs": [],
   "source": []
  },
  {
   "cell_type": "code",
   "execution_count": null,
   "metadata": {},
   "outputs": [],
   "source": []
  },
  {
   "cell_type": "code",
   "execution_count": null,
   "metadata": {},
   "outputs": [],
   "source": []
  },
  {
   "cell_type": "code",
   "execution_count": null,
   "metadata": {},
   "outputs": [],
   "source": []
  },
  {
   "cell_type": "code",
   "execution_count": 5,
   "metadata": {},
   "outputs": [
    {
     "ename": "NameError",
     "evalue": "name 'stop' is not defined",
     "output_type": "error",
     "traceback": [
      "\u001b[0;31m---------------------------------------------------------------------------\u001b[0m",
      "\u001b[0;31mNameError\u001b[0m                                 Traceback (most recent call last)",
      "\u001b[0;32m<ipython-input-5-4f76a9dad686>\u001b[0m in \u001b[0;36m<module>\u001b[0;34m\u001b[0m\n\u001b[0;32m----> 1\u001b[0;31m \u001b[0mstop\u001b[0m\u001b[0;34m\u001b[0m\u001b[0;34m\u001b[0m\u001b[0m\n\u001b[0m",
      "\u001b[0;31mNameError\u001b[0m: name 'stop' is not defined"
     ]
    }
   ],
   "source": [
    "stop"
   ]
  },
  {
   "cell_type": "code",
   "execution_count": null,
   "metadata": {},
   "outputs": [],
   "source": [
    "epl_1617 = epl_1617[:-10]\n",
    "epl_1617.mean()\n"
   ]
  },
  {
   "cell_type": "code",
   "execution_count": null,
   "metadata": {},
   "outputs": [],
   "source": [
    "epl_1617.head()"
   ]
  },
  {
   "cell_type": "code",
   "execution_count": null,
   "metadata": {},
   "outputs": [],
   "source": [
    "epl_1617.tail()"
   ]
  },
  {
   "cell_type": "code",
   "execution_count": null,
   "metadata": {},
   "outputs": [],
   "source": [
    "epl_1617.shape"
   ]
  },
  {
   "cell_type": "code",
   "execution_count": null,
   "metadata": {},
   "outputs": [],
   "source": [
    "goal_model_data = pd.concat([epl_1617[['h','a','h_ftGoals']].assign(home=1).rename(\n",
    "            columns={'h':'team', 'a':'opponent','h_ftGoals':'goals'}),\n",
    "           epl_1617[['a','h','a_ftGoals']].assign(home=0).rename(\n",
    "            columns={'a':'team', 'h':'opponent','a_ftGoals':'goals'})])\n",
    "goal_model_data.head()"
   ]
  },
  {
   "cell_type": "code",
   "execution_count": null,
   "metadata": {},
   "outputs": [],
   "source": [
    "goal_model_data.iloc[365:374]"
   ]
  },
  {
   "cell_type": "code",
   "execution_count": null,
   "metadata": {},
   "outputs": [],
   "source": [
    "goal_model_data.tail()"
   ]
  },
  {
   "cell_type": "code",
   "execution_count": null,
   "metadata": {},
   "outputs": [],
   "source": [
    "goal_model_data.shape"
   ]
  },
  {
   "cell_type": "code",
   "execution_count": null,
   "metadata": {},
   "outputs": [],
   "source": [
    "poisson_model = smf.glm(formula=\"goals ~ home + team + opponent\", data=goal_model_data, \n",
    "                        family=sm.families.Poisson()).fit()\n",
    "poisson_model.summary()"
   ]
  },
  {
   "cell_type": "code",
   "execution_count": null,
   "metadata": {},
   "outputs": [],
   "source": [
    "poisson_model.predict(pd.DataFrame(data={'team': 'Chelsea', 'opponent': 'Sunderland',\n",
    "                                       'home':1},index=[1]))"
   ]
  },
  {
   "cell_type": "code",
   "execution_count": null,
   "metadata": {},
   "outputs": [],
   "source": [
    "poisson_model.predict(pd.DataFrame(data={'team': 'Sunderland', 'opponent': 'Chelsea',\n",
    "                                       'home':0},index=[1]))\n"
   ]
  },
  {
   "cell_type": "markdown",
   "metadata": {},
   "source": [
    "## Jordan Tigani Logistic Regression\n",
    "\n",
    "https://www.youtube.com/watch?v=m2rhRJkWOEI&list=PLatexvNeFffyzlyAtDiUffmokReDzTQk6\n",
    "\n",
    "https://github.com/GoogleCloudPlatform/ipython-soccer-predictions/blob/master/predict/wc-final.ipynb"
   ]
  },
  {
   "cell_type": "code",
   "execution_count": null,
   "metadata": {},
   "outputs": [],
   "source": [
    "# 1 is home team, -1 is away team\n",
    "cBr = [1,0,1,0,0,-1]\n",
    "cMe = [0,1,-1,0,-1,0]\n",
    "cCr = [-1,0,0,-1,1,0]\n",
    "cCa = [0,-1,0,1,0,1]\n",
    "h_ftGoals = [3,1,0,0,1,1]\n",
    "a_ftGoals = [1,0,0,4,3,4]\n",
    "df = pd.DataFrame({'brazil': cBr, 'mexico': cMe, 'croatia': cCr, 'camaroon': cCa,\n",
    "                   'h_ftGoals': h_ftGoals, 'a_ftGoals': a_ftGoals, 'intercept': [1]*6})\n",
    "df['goalDiff'] = df['h_ftGoals'].sub(df['a_ftGoals'])\n",
    "df.head(10)"
   ]
  },
  {
   "cell_type": "code",
   "execution_count": null,
   "metadata": {},
   "outputs": [],
   "source": [
    "def points_to_sgn(p):\n",
    "  if p > 0.1: return 1.0\n",
    "  elif p < -0.1: return -1.0\n",
    "  else: return 0.0\n",
    "\n",
    "df['points'] = df['goalDiff'].apply(points_to_sgn)\n",
    "df.head(10)"
   ]
  },
  {
   "cell_type": "code",
   "execution_count": null,
   "metadata": {},
   "outputs": [],
   "source": [
    "X = df[['brazil', 'mexico', 'croatia', 'camaroon']].values\n",
    "y = df['points'].values"
   ]
  },
  {
   "cell_type": "code",
   "execution_count": null,
   "metadata": {},
   "outputs": [],
   "source": [
    "X"
   ]
  },
  {
   "cell_type": "markdown",
   "metadata": {},
   "source": [
    "model = sm.Logit(y, X).fit_regularized(method='l1', alpha=1.5)"
   ]
  },
  {
   "cell_type": "markdown",
   "metadata": {},
   "source": [
    "---------------------------------------------------------------------------\n",
    "ValueError                                Traceback (most recent call last)\n",
    "<ipython-input-18-05366f0d4b80> in <module>\n",
    "----> 1 model = sm.Logit(y, X).fit_regularized(method='l1', alpha=1.5)\n",
    "\n",
    "~/anaconda3/envs/ana_py37/lib/python3.7/site-packages/statsmodels/discrete/discrete_model.py in __init__(self, endog, exog, **kwargs)\n",
    "    430         if (not issubclass(self.__class__, MultinomialModel) and\n",
    "    431                 not np.all((self.endog >= 0) & (self.endog <= 1))):\n",
    "--> 432             raise ValueError(\"endog must be in the unit interval.\")\n",
    "    433 \n",
    "    434 \n",
    "\n",
    "ValueError: endog must be in the unit interval.\n",
    "\n"
   ]
  },
  {
   "cell_type": "markdown",
   "metadata": {},
   "source": [
    "From Jordan's github ipython notebook\n",
    "\n",
    "power_data = power.add_power(club_data, game_summaries, power_cols)\n",
    "power_train = power_data.loc[power_data['points'] <> 1] ??? - What is he modeling here? Draws and Home Wins ?\n",
    "\n",
    "###### power_train = power_data\n",
    "(power_model, power_test) = world_cup.train_model(\n",
    "    power_train, match_stats.get_non_feature_columns())\n",
    "print \"\\nRsquared: %0.03g, Power Coef %0.03g\" % (\n",
    "    power_model.prsquared, \n",
    "    math.exp(power_model.params['power_points']))  \n",
    "    \n",
    "I think that Jordan's model is modeling win/lose - There are no draws in the world cup. This is why he is able to do\n",
    "a straight forward ROC Curve - he is modeling a binary outcome\n",
    "   "
   ]
  },
  {
   "cell_type": "markdown",
   "metadata": {},
   "source": [
    "## My Attempt"
   ]
  },
  {
   "cell_type": "code",
   "execution_count": null,
   "metadata": {},
   "outputs": [],
   "source": [
    "epl_1617 = pd.read_csv(\"http://www.football-data.co.uk/mmz4281/1617/E0.csv\")\n",
    "epl_1617 = epl_1617[['HomeTeam','AwayTeam','FTHG','FTAG']]\n",
    "epl_1617 = epl_1617.rename(columns={'HomeTeam': 'h', 'AwayTeam': 'a','FTHG': 'h_ftGoals', 'FTAG': 'a_ftGoals'})\n",
    "epl_1617 = epl_1617[:-10]\n",
    "epl_1617['goalDiff'] = epl_1617['h_ftGoals'] - epl_1617['a_ftGoals']\n",
    "epl_1617.head()"
   ]
  },
  {
   "cell_type": "code",
   "execution_count": null,
   "metadata": {},
   "outputs": [],
   "source": [
    "# Construct and print model matrix for color as categorical variable\n",
    "matrix= dmatrix('C(h)', data = epl_1617, return_type = 'dataframe')"
   ]
  },
  {
   "cell_type": "code",
   "execution_count": null,
   "metadata": {},
   "outputs": [],
   "source": [
    "matrix.head()"
   ]
  },
  {
   "cell_type": "code",
   "execution_count": null,
   "metadata": {},
   "outputs": [],
   "source": [
    "cols = [col for col in matrix.columns if col != 'Intercept']\n",
    "len(cols)"
   ]
  },
  {
   "cell_type": "markdown",
   "metadata": {},
   "source": [
    "19 columns for 20 teams"
   ]
  },
  {
   "cell_type": "code",
   "execution_count": null,
   "metadata": {},
   "outputs": [],
   "source": [
    "# Construct and print model matrix for color as categorical variable\n",
    "matrices= dmatrices('h_ftGoals ~ C(h) + C(a)', data = epl_1617, return_type = 'dataframe')"
   ]
  },
  {
   "cell_type": "code",
   "execution_count": null,
   "metadata": {},
   "outputs": [],
   "source": [
    "matrices[0].head()"
   ]
  },
  {
   "cell_type": "code",
   "execution_count": null,
   "metadata": {},
   "outputs": [],
   "source": [
    "matrices[1].head()"
   ]
  },
  {
   "cell_type": "code",
   "execution_count": null,
   "metadata": {
    "scrolled": false
   },
   "outputs": [],
   "source": [
    "h_ftGoals_model = smf.glm(formula=\"h_ftGoals ~ h + a\", data=epl_1617, \n",
    "                        family=sm.families.Poisson()).fit()\n",
    "h_ftGoals_model.summary()"
   ]
  },
  {
   "cell_type": "code",
   "execution_count": null,
   "metadata": {},
   "outputs": [],
   "source": [
    "a_ftGoals_model = smf.glm(formula=\"a_ftGoals ~ h + a\", data=epl_1617, \n",
    "                        family=sm.families.Poisson()).fit()\n",
    "a_ftGoals_model.summary()"
   ]
  },
  {
   "cell_type": "code",
   "execution_count": null,
   "metadata": {
    "scrolled": true
   },
   "outputs": [],
   "source": [
    "h_ftGoals_model.predict(pd.DataFrame(data={'h': 'Chelsea', 'a': 'Sunderland'},index=[1]))\n"
   ]
  },
  {
   "cell_type": "code",
   "execution_count": null,
   "metadata": {},
   "outputs": [],
   "source": [
    "a_ftGoals_model.predict(pd.DataFrame(data={'h': 'Chelsea', 'a': 'Sunderland'},index=[1]))\n"
   ]
  },
  {
   "cell_type": "code",
   "execution_count": null,
   "metadata": {},
   "outputs": [],
   "source": [
    "h_ftGoals_model.predict(pd.DataFrame(data={'a': 'Sunderland', 'h': 'Chelsea'},index=[1]))"
   ]
  },
  {
   "cell_type": "markdown",
   "metadata": {},
   "source": [
    "### This is just making things more complicated, and creating more work to get to the results - Abandon and use David Sheehan's Poisson Regression"
   ]
  },
  {
   "cell_type": "markdown",
   "metadata": {},
   "source": [
    "## Incorporating as a Feature - Draft"
   ]
  },
  {
   "cell_type": "code",
   "execution_count": null,
   "metadata": {},
   "outputs": [],
   "source": [
    "epl_1617 = pd.read_csv(\"http://www.football-data.co.uk/mmz4281/1617/E0.csv\", dayfirst=True, parse_dates=['Date'])\n",
    "epl_1617 = epl_1617[['Date', 'HomeTeam', 'AwayTeam', 'FTHG', 'FTAG']]\n",
    "epl_1617 = epl_1617.rename(columns={'Date': 'date', 'HomeTeam': 'h', 'AwayTeam': 'a',\n",
    "                                    'FTHG': 'h_ftGoals',\n",
    "                                    'FTAG': 'a_ftGoals'}).sort_values(by='date').reset_index(drop=True)\n",
    "epl_1617.head()"
   ]
  },
  {
   "cell_type": "code",
   "execution_count": null,
   "metadata": {},
   "outputs": [],
   "source": [
    "epl_1617.tail()"
   ]
  },
  {
   "cell_type": "code",
   "execution_count": null,
   "metadata": {},
   "outputs": [],
   "source": [
    "epl_1617['game_day'] = epl_1617.groupby(by='date').ngroup(ascending=True)\n",
    "epl_1617.head(20)"
   ]
  },
  {
   "cell_type": "code",
   "execution_count": null,
   "metadata": {},
   "outputs": [],
   "source": [
    "epl_1617.tail(20)"
   ]
  },
  {
   "cell_type": "code",
   "execution_count": null,
   "metadata": {},
   "outputs": [],
   "source": [
    "# We want to calculate the home and away coefficient for each team and set it as a feature\n",
    "# We need some built up history to make this work\n",
    "# Arbitrarily pick game day 50 - halway thorugh the season as an initial experiment\n",
    "# Calculate the coeeficients on each progressive match day and place them into the dataframe as a feature"
   ]
  },
  {
   "cell_type": "code",
   "execution_count": null,
   "metadata": {},
   "outputs": [],
   "source": [
    "epl_1617[epl_1617['game_day'] >= 50].head()"
   ]
  },
  {
   "cell_type": "code",
   "execution_count": null,
   "metadata": {},
   "outputs": [],
   "source": [
    "# Game Day 50 is 189 games into the season, so will have an adequate record of home and away wins by this time"
   ]
  },
  {
   "cell_type": "code",
   "execution_count": null,
   "metadata": {},
   "outputs": [],
   "source": [
    "# Indices where the game day changes\n",
    "# we will step through these from 188 and up (inclusive)\n",
    "change_indices = epl_1617['game_day'].diff()[epl_1617['game_day'].diff() != 0].index.values\n",
    "change_indices"
   ]
  },
  {
   "cell_type": "code",
   "execution_count": null,
   "metadata": {},
   "outputs": [],
   "source": [
    "# First add columns for each team, then run the regression at each change in the game day,\n",
    "# and fill the team column with the appropriate regression coefficients, \n",
    "# ? Fill h_h_coeff, h_a_coeff, a_a_coeff, a_h_coeff ? - Try this to start\n",
    "# Then can coefficients be calculated based on odds or implied probailities ?\n",
    "# Also in a seperate notebook, look at decile of season completed as a feature"
   ]
  },
  {
   "cell_type": "code",
   "execution_count": null,
   "metadata": {
    "scrolled": false
   },
   "outputs": [],
   "source": [
    "def h_coeff(h_val):\n",
    "    lookup = 'team[T.'+ h_val + ']'\n",
    "    if lookup in poisson_model.params.index.values:\n",
    "        return poisson_model.params[lookup]\n",
    "    else:\n",
    "        return 0\n",
    "    \n",
    "def a_coeff(a_val):\n",
    "    lookup = 'opponent[T.'+ a_val + ']'\n",
    "    if lookup in poisson_model.params.index.values:\n",
    "        return poisson_model.params[lookup]\n",
    "    else:\n",
    "        return 0\n",
    "\n",
    "n = 0\n",
    "for change_index in change_indices[50:]:\n",
    "    print(change_index)\n",
    "    n_game_day = epl_1617.iloc[change_index]['game_day']\n",
    "    print(n_game_day)\n",
    "    train_data = epl_1617[epl_1617['game_day'] < n_game_day]\n",
    "    #print(train_data.tail())\n",
    "    predict_data = epl_1617[epl_1617['game_day'] == n_game_day]\n",
    "    print(predict_data.head())\n",
    "    # print(predict_data.head(10))\n",
    "    reshaped_train_data = pd.concat([train_data[['h','a','h_ftGoals']].assign(home=1).rename(\n",
    "                                    columns={'h':'team', 'a':'opponent','h_ftGoals':'goals'}),\n",
    "                                     train_data[['a','h','a_ftGoals']].assign(home=0).rename(\n",
    "                                    columns={'a':'team', 'h':'opponent','a_ftGoals':'goals'})])\n",
    "    \n",
    "    poisson_model = smf.glm(formula=\"goals ~ home + team + opponent\", data=reshaped_train_data, \n",
    "                        family=sm.families.Poisson()).fit()\n",
    "\n",
    "   \n",
    "    predict_data['h_coeff'] = poisson_model.params[\"home\"] + predict_data['h'].apply(h_coeff)\n",
    "    predict_data['a_coeff'] = predict_data['a'].apply(a_coeff)\n",
    "    print(predict_data.head())\n",
    "    n += 1\n",
    "    if n == 3:\n",
    "        break\n",
    "\n"
   ]
  },
  {
   "cell_type": "code",
   "execution_count": null,
   "metadata": {},
   "outputs": [],
   "source": [
    "poisson_model.params[\"team[T.Stoke]\"]"
   ]
  },
  {
   "cell_type": "code",
   "execution_count": null,
   "metadata": {},
   "outputs": [],
   "source": [
    "poisson_model.params[\"home\"]"
   ]
  },
  {
   "cell_type": "code",
   "execution_count": null,
   "metadata": {},
   "outputs": [],
   "source": [
    "poisson_model.params[\"opponent[T.Watford]\"]"
   ]
  },
  {
   "cell_type": "code",
   "execution_count": null,
   "metadata": {},
   "outputs": [],
   "source": [
    "poisson_model.params"
   ]
  },
  {
   "cell_type": "code",
   "execution_count": null,
   "metadata": {},
   "outputs": [],
   "source": [
    "type(poisson_model.params)"
   ]
  },
  {
   "cell_type": "code",
   "execution_count": null,
   "metadata": {},
   "outputs": [],
   "source": [
    "poisson_model.params.index"
   ]
  },
  {
   "cell_type": "markdown",
   "metadata": {},
   "source": [
    "## Incorporating as a Feature"
   ]
  },
  {
   "cell_type": "code",
   "execution_count": null,
   "metadata": {},
   "outputs": [],
   "source": [
    "season_df = pd.read_csv(\"http://www.football-data.co.uk/mmz4281/1617/E0.csv\", dayfirst=True, parse_dates=['Date'])\n",
    "season_df = season_df[['Date', 'HomeTeam', 'AwayTeam', 'FTHG', 'FTAG']]\n",
    "season_df = season_df.rename(columns={'Date': 'date', 'HomeTeam': 'h', 'AwayTeam': 'a',\n",
    "                                    'FTHG': 'h_ftGoals',\n",
    "                                    'FTAG': 'a_ftGoals'}).sort_values(by='date').reset_index(drop=True)\n",
    "season_df.head()"
   ]
  },
  {
   "cell_type": "code",
   "execution_count": null,
   "metadata": {},
   "outputs": [],
   "source": [
    "def insert_game_day(df_orig):\n",
    "    df = df_orig.copy(deep=True)\n",
    "    df['game_day'] = df.groupby(by='date').ngroup(ascending=True)\n",
    "    return df"
   ]
  },
  {
   "cell_type": "code",
   "execution_count": null,
   "metadata": {},
   "outputs": [],
   "source": [
    "def get_game_day_change_indices(df):\n",
    "    return df['game_day'].diff()[df['game_day'].diff() != 0].index.values"
   ]
  },
  {
   "cell_type": "code",
   "execution_count": null,
   "metadata": {},
   "outputs": [],
   "source": [
    "def poiss_reshape_train_data(df):\n",
    "    return pd.concat([df[['h','a','h_ftGoals']].assign(home=1).rename(\n",
    "                     columns={'h':'team', 'a':'opponent','h_ftGoals':'goals'}),\n",
    "                     df[['a','h','a_ftGoals']].assign(home=0).rename(\n",
    "                     columns={'a':'team', 'h':'opponent','a_ftGoals':'goals'})])"
   ]
  },
  {
   "cell_type": "code",
   "execution_count": null,
   "metadata": {},
   "outputs": [],
   "source": [
    "def fit_poiss_model(train_data):\n",
    "    \"\"\"\n",
    "    For the first games of the season the model will not run\n",
    "    There is perfect sparation or not enough data\n",
    "    So catch the exceptions and explicitly return None\n",
    "    The function catching this data must deal with a none return value\n",
    "    \"\"\"\n",
    "    try:\n",
    "        return smf.glm(formula=\"goals ~ home + team + opponent\",\n",
    "                       data=train_data, \n",
    "                       family=sm.families.Poisson()).fit()\n",
    "    except sm_exceptions.PerfectSeparationError:\n",
    "        return None\n",
    "    except ValueError:\n",
    "        return None"
   ]
  },
  {
   "cell_type": "code",
   "execution_count": null,
   "metadata": {},
   "outputs": [],
   "source": [
    "def get_poiss_preds(model, predict_data):\n",
    "    \n",
    "    h_preds = model.predict(pd.DataFrame(data={'team': predict_data['h'].values,\n",
    "                                               'opponent': predict_data['a'].values,\n",
    "                                               'home':1}))\n",
    "    a_preds = model.predict(pd.DataFrame(data={'team': predict_data['a'].values,\n",
    "                                                  'opponent': predict_data['h'].values,\n",
    "                                                  'home':0}))\n",
    "    return h_preds.values, a_preds.values"
   ]
  },
  {
   "cell_type": "code",
   "execution_count": null,
   "metadata": {
    "scrolled": false
   },
   "outputs": [],
   "source": [
    "def run_model_predict_cycles(df_orig):\n",
    "    df = df_orig.copy(deep=True)\n",
    "    df = insert_game_day(df)\n",
    "    game_day_indices = get_game_day_change_indices(df)\n",
    "    \n",
    "    # We can only attempt to predict after the first game day so we start looping at 1\n",
    "    for gd_index in game_day_indices[1:]:\n",
    "        n_game_day = df.iloc[gd_index]['game_day']\n",
    "        train_data = df[df['game_day'] < n_game_day]\n",
    "        predict_data = df[df['game_day'] == n_game_day]\n",
    "    \n",
    "        # 3 functions below and the new column assignments are all coupled\n",
    "        # All must be changed for different model\n",
    "        # Should extract this block into a interchangable function\n",
    "        # for different models or write a class with\\\n",
    "        # reshape, fit, predict, insert methods\n",
    "        poiss_reshaped_train_data = poiss_reshape_train_data(train_data)\n",
    "        poiss_model = fit_poiss_model(poiss_reshaped_train_data)\n",
    "        if poiss_model is not None:\n",
    "            poiss_pred_h_coeffs, poiss_pred_a_coeffs = get_poiss_preds(poiss_model, predict_data)\n",
    "            df.loc[predict_data.index, 'h_poissPred'] = poiss_pred_h_coeffs\n",
    "            df.loc[predict_data.index, 'a_poissPred'] = poiss_pred_a_coeffs\n",
    "        else:\n",
    "            df.loc[predict_data.index, 'h_poissPred'] = np.NaN\n",
    "            df.loc[predict_data.index, 'a_poissPred'] = np.NaN  \n",
    "        # We can run this through a numpy matrix function to return\n",
    "        # - h_poissProbWin\n",
    "        # - h_poissProbDraw\n",
    "        # - a_poissProbWin\n",
    "        # - a_poissProbDraw\n",
    "        # End of coupled block of functions\n",
    "        \n",
    "    return df\n",
    "        \n",
    "        \n",
    "df = run_model_predict_cycles(season_df)\n",
    "df"
   ]
  },
  {
   "cell_type": "markdown",
   "metadata": {},
   "source": [
    "### This is very interesting - How does a team's poisson mu value change over time?"
   ]
  },
  {
   "cell_type": "code",
   "execution_count": null,
   "metadata": {},
   "outputs": [],
   "source": [
    "crit1 = df['h'] == 'Liverpool'\n",
    "crit2 = df['a'] == 'Liverpool'\n",
    "df_liverpool = df[crit1 | crit2]\n",
    "df_liverpool.head(30)"
   ]
  },
  {
   "cell_type": "markdown",
   "metadata": {},
   "source": [
    "## Evolution of Poisson Expected Goals over Season home and away - Top 3, Bottom 3 Teams\n",
    "\n",
    "https://en.wikipedia.org/wiki/2016%E2%80%9317_Premier_League"
   ]
  },
  {
   "cell_type": "code",
   "execution_count": null,
   "metadata": {},
   "outputs": [],
   "source": [
    "team = 'Chelsea'\n",
    "crit1 = df['h'] == team\n",
    "crit2 = df['a'] == team\n",
    "df_team = df[crit1 | crit2]\n",
    "\n",
    "fig, ax = plt.subplots(figsize=(10,7))\n",
    "ax.plot(df_team[df['h'] == team]['h_poissPred'].values, label='h')\n",
    "ax.plot(df_team[df['a'] == team]['a_poissPred'].values, label='a')\n",
    "ax.set_ylim((0,6))\n",
    "plt.legend()\n",
    "plt.show();"
   ]
  },
  {
   "cell_type": "code",
   "execution_count": null,
   "metadata": {},
   "outputs": [],
   "source": [
    "team = 'Tottenham'\n",
    "crit1 = df['h'] == team\n",
    "crit2 = df['a'] == team\n",
    "df_team = df[crit1 | crit2]\n",
    "\n",
    "fig, ax = plt.subplots(figsize=(10,7))\n",
    "ax.plot(df_team[df['h'] == team]['h_poissPred'].values, label='h')\n",
    "ax.plot(df_team[df['a'] == team]['a_poissPred'].values, label='a')\n",
    "ax.set_ylim((0,6))\n",
    "plt.legend()\n",
    "plt.show();"
   ]
  },
  {
   "cell_type": "code",
   "execution_count": null,
   "metadata": {},
   "outputs": [],
   "source": [
    "team = 'Man City'\n",
    "crit1 = df['h'] == team\n",
    "crit2 = df['a'] == team\n",
    "df_team = df[crit1 | crit2]\n",
    "\n",
    "fig, ax = plt.subplots(figsize=(10,7))\n",
    "ax.plot(df_team[df['h'] == team]['h_poissPred'].values, label='h')\n",
    "ax.plot(df_team[df['a'] == team]['a_poissPred'].values, label='a')\n",
    "ax.set_ylim((0,6))\n",
    "plt.legend()\n",
    "plt.show();"
   ]
  },
  {
   "cell_type": "code",
   "execution_count": null,
   "metadata": {},
   "outputs": [],
   "source": [
    "team = 'Hull'\n",
    "crit1 = df['h'] == team\n",
    "crit2 = df['a'] == team\n",
    "df_team = df[crit1 | crit2]\n",
    "\n",
    "fig, ax = plt.subplots(figsize=(10,7))\n",
    "ax.plot(df_team[df['h'] == team]['h_poissPred'].values, label='h')\n",
    "ax.plot(df_team[df['a'] == team]['a_poissPred'].values, label='a')\n",
    "ax.set_ylim((0,6))\n",
    "plt.legend()\n",
    "plt.show();"
   ]
  },
  {
   "cell_type": "code",
   "execution_count": null,
   "metadata": {},
   "outputs": [],
   "source": [
    "team = 'Middlesbrough'\n",
    "crit1 = df['h'] == team\n",
    "crit2 = df['a'] == team\n",
    "df_team = df[crit1 | crit2]\n",
    "\n",
    "fig, ax = plt.subplots(figsize=(10,7))\n",
    "ax.plot(df_team[df['h'] == team]['h_poissPred'].values, label='h')\n",
    "ax.plot(df_team[df['a'] == team]['a_poissPred'].values, label='a')\n",
    "ax.set_ylim((0,6))\n",
    "plt.legend()\n",
    "plt.show();"
   ]
  },
  {
   "cell_type": "code",
   "execution_count": null,
   "metadata": {},
   "outputs": [],
   "source": [
    "team = 'Sunderland'\n",
    "crit1 = df['h'] == team\n",
    "crit2 = df['a'] == team\n",
    "df_team = df[crit1 | crit2]\n",
    "\n",
    "fig, ax = plt.subplots(figsize=(10,7))\n",
    "ax.plot(df_team[df['h'] == team]['h_poissPred'].values, label='h')\n",
    "ax.plot(df_team[df['a'] == team]['a_poissPred'].values, label='a')\n",
    "ax.set_ylim((0,6))\n",
    "plt.legend()\n",
    "plt.show();"
   ]
  },
  {
   "cell_type": "code",
   "execution_count": null,
   "metadata": {},
   "outputs": [],
   "source": []
  },
  {
   "cell_type": "code",
   "execution_count": null,
   "metadata": {},
   "outputs": [],
   "source": []
  },
  {
   "cell_type": "code",
   "execution_count": null,
   "metadata": {},
   "outputs": [],
   "source": []
  },
  {
   "cell_type": "code",
   "execution_count": null,
   "metadata": {},
   "outputs": [],
   "source": []
  },
  {
   "cell_type": "code",
   "execution_count": null,
   "metadata": {},
   "outputs": [],
   "source": []
  },
  {
   "cell_type": "code",
   "execution_count": null,
   "metadata": {},
   "outputs": [],
   "source": []
  },
  {
   "cell_type": "code",
   "execution_count": null,
   "metadata": {},
   "outputs": [],
   "source": []
  },
  {
   "cell_type": "code",
   "execution_count": null,
   "metadata": {},
   "outputs": [],
   "source": []
  },
  {
   "cell_type": "code",
   "execution_count": null,
   "metadata": {},
   "outputs": [],
   "source": []
  },
  {
   "cell_type": "code",
   "execution_count": null,
   "metadata": {},
   "outputs": [],
   "source": []
  },
  {
   "cell_type": "code",
   "execution_count": null,
   "metadata": {},
   "outputs": [],
   "source": []
  },
  {
   "cell_type": "code",
   "execution_count": null,
   "metadata": {},
   "outputs": [],
   "source": []
  },
  {
   "cell_type": "code",
   "execution_count": null,
   "metadata": {},
   "outputs": [],
   "source": []
  },
  {
   "cell_type": "code",
   "execution_count": null,
   "metadata": {},
   "outputs": [],
   "source": []
  },
  {
   "cell_type": "code",
   "execution_count": null,
   "metadata": {},
   "outputs": [],
   "source": []
  },
  {
   "cell_type": "code",
   "execution_count": null,
   "metadata": {},
   "outputs": [],
   "source": []
  },
  {
   "cell_type": "code",
   "execution_count": null,
   "metadata": {},
   "outputs": [],
   "source": []
  },
  {
   "cell_type": "raw",
   "metadata": {},
   "source": []
  },
  {
   "cell_type": "raw",
   "metadata": {},
   "source": []
  }
 ],
 "metadata": {
  "_change_revision": 0,
  "_is_fork": false,
  "kernelspec": {
   "display_name": "Python 3",
   "language": "python",
   "name": "python3"
  },
  "language_info": {
   "codemirror_mode": {
    "name": "ipython",
    "version": 3
   },
   "file_extension": ".py",
   "mimetype": "text/x-python",
   "name": "python",
   "nbconvert_exporter": "python",
   "pygments_lexer": "ipython3",
   "version": "3.7.3"
  }
 },
 "nbformat": 4,
 "nbformat_minor": 1
}
