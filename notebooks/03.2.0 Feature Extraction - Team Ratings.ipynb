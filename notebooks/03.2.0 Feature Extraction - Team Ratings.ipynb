{
 "cells": [
  {
   "cell_type": "markdown",
   "metadata": {},
   "source": [
    "# 03.2.0 Feature Extraction - Team Ratings"
   ]
  },
  {
   "cell_type": "markdown",
   "metadata": {},
   "source": [
    "![Feature Extraction Overview](figures/feature_extraction_overview.png \"Logo Title Text 1\")"
   ]
  },
  {
   "cell_type": "markdown",
   "metadata": {},
   "source": [
    "One method of generating features would be just to take historical data and use summary statistics to condense it to a single values. For example, look at all the previous home games played by a team, and calculate the average golals scored by the team, and the average goals scored against. This task is completed in the Historical Data Extraction Notebook. However, this is a pretty crude way of deriving basic information.\n",
    "\n",
    "Most leagues historical results show a home advantage, in that there is a greater probability that a home team will win a game rather than an away team. In fact for the premier league history shows these probabilities at around 60% home win, 40 % away win, 10% draw.\n",
    "\n",
    "It is clear that if we want to develop a rating we would need to see the historical results for a team based on historic home games, and historic away games. This is the reason that the cross validation splitter has a burn in period. Because until each team, has played both at home, and away, estimating a rating is even more inaccurate than usual.\n",
    "Rating methods can be used to take basic information, and develop it into more sophisticated features that account for home adavantage etc. One method is to draw up a rating table based on goals scored by each team, and then ‘normalize’ the spread of data based on the league average. These ratings can then be combined to get the goal expectancy for each pair of teams that are matched up. The goal expectancies are then plugged into a poisson distribution, and a calculation is done to estimate the propbability of each result.\n",
    "\n",
    "The Rating, and ranking schemes used as features are developed from this book. [Who’s # 1?](https://www.amazon.com/Whos-1-Science-Rating-Ranking/dp/069116231X/ref=sr_1_9?s=books&ie=UTF8&qid=1518477788&sr=1-9&keywords=who%27s+%231%3F)"
   ]
  },
  {
   "cell_type": "code",
   "execution_count": null,
   "metadata": {},
   "outputs": [],
   "source": []
  },
  {
   "cell_type": "code",
   "execution_count": null,
   "metadata": {},
   "outputs": [],
   "source": []
  }
 ],
 "metadata": {
  "anaconda-cloud": {},
  "kernelspec": {
   "display_name": "Python 3",
   "language": "python",
   "name": "python3"
  },
  "language_info": {
   "codemirror_mode": {
    "name": "ipython",
    "version": 3
   },
   "file_extension": ".py",
   "mimetype": "text/x-python",
   "name": "python",
   "nbconvert_exporter": "python",
   "pygments_lexer": "ipython3",
   "version": "3.7.1"
  }
 },
 "nbformat": 4,
 "nbformat_minor": 2
}
