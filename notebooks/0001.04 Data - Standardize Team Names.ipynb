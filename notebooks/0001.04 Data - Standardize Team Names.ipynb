{
 "cells": [
  {
   "cell_type": "markdown",
   "metadata": {},
   "source": [
    "# Standardize Team Names"
   ]
  },
  {
   "cell_type": "code",
   "execution_count": 1,
   "metadata": {},
   "outputs": [],
   "source": [
    "import pathlib\n",
    "import sys\n",
    "import pickle\n",
    "\n",
    "from typing import List\n",
    "\n",
    "import numpy as np\n",
    "import pandas as pd\n",
    "\n",
    "# Load the \"autoreload\" extension\n",
    "%load_ext autoreload\n",
    "# always reload modules marked with \"%aimport\"\n",
    "%autoreload 1\n",
    "# add the 'src' directory to path to import modules\n",
    "src_dir = pathlib.Path().cwd().resolve().parent / 'src'\n",
    "#src_dir = os.path.join(os.getcwd(), os.pardir, 'src')\n",
    "sys.path.append(src_dir)\n",
    "# import my class code from the source\n",
    "# %aimport src-dir.filename\n",
    "\n",
    "pd.set_option('display.max_columns', 500)\n",
    "pd.set_option('display.width', 1000)\n",
    "\n",
    "PROJECT_DIR = pathlib.Path.cwd().resolve().parent\n",
    "#DATA_DIR = PROJECT_DIR / 'data'\n",
    "RAW_DATA_DIR = PROJECT_DIR / 'data' / '01-raw'\n",
    "CLEANED_DATA_DIR = PROJECT_DIR / 'data' / '02-cleaned'\n",
    "STDZED_DATA_DIR = PROJECT_DIR / 'data' / '03-standardized'\n",
    "REF_DATA_DIR = PROJECT_DIR / 'data' / 'reference'"
   ]
  },
  {
   "cell_type": "markdown",
   "metadata": {},
   "source": [
    "## Select League Data"
   ]
  },
  {
   "cell_type": "code",
   "execution_count": 2,
   "metadata": {},
   "outputs": [],
   "source": [
    "nations = ['germany', 'united-kingdom', 'spain', 'italy',\n",
    "          'france', 'united-kingdom', 'germany', 'netherlands',\n",
    "          'russian-federation', 'scotland', 'portugal', 'switzerland',\n",
    "          'belgium', 'turkey', 'poland', 'united-kingdom']\n",
    "\n",
    "# poland, switzerland are multileague\n",
    "\n",
    "leagues = ['bundesliga', 'english-premier-league', 'la-liga', 'serie-a',\n",
    "           'ligue-1', 'english-championship', 'bundesliga-2', 'eredivisie',\n",
    "           'premier-league', 'premiership', 'primeira-liga', 'super-league',\n",
    "           'first-division-a', 'super-lig', 'ekstraklasa', 'one']\n",
    "\n",
    "seasons = ['2000-2001', '2001-2002', '2002-2003', '2003-2004',\n",
    "           '2004-2005', '2005-2006', '2006-2007', '2007-2008',\n",
    "           '2008-2009', '2009-2010', '2010-2011', '2011-2012',\n",
    "           '2012-2013', '2013-2014', '2014-2015', '2015-2016',\n",
    "           '2016-2017', '2017-2018']"
   ]
  },
  {
   "cell_type": "markdown",
   "metadata": {},
   "source": [
    "## Standardize Football- Data-co - uk\n",
    "\n",
    "+ Load standardize dictionary\n",
    "+ Use dictionary to form path to clean dataframes\n",
    "+ Load dataframes\n",
    "+ Standardize team names\n",
    "+ save to standardized directory"
   ]
  },
  {
   "cell_type": "code",
   "execution_count": 3,
   "metadata": {},
   "outputs": [],
   "source": [
    "epl_names_d = {'villa': 'aston-villa',\n",
    "              'blackburn': 'blackburn-rovers',\n",
    "              'birmingham': 'birmingham-city',\n",
    "              'bolton': 'bolton-wanderers',\n",
    "              'boro': 'middlesbrough',\n",
    "              'brighton': 'brighton-and-hove-albion',\n",
    "              'brighton-&-Hove Albion': ' brighton-and-hove-albion',\n",
    "              'cardiff': 'cardiff-city',\n",
    "              'huddersfield': 'huddersfield-town',\n",
    "              'hull': 'hull-city',\n",
    "              'leicester': 'leicester-city',\n",
    "              'leicester-cty': 'leicester-city',\n",
    "              'man-city': 'manchester-city',\n",
    "              'man-u': 'manchester-united',\n",
    "              'man-utd': 'manchester-united',\n",
    "              'manchester-utd': 'manchester-united',\n",
    "              'man-united': 'manchester-united',\n",
    "              'newcastle': 'newcastle-united',\n",
    "              'newcastle-utd': 'newcastle-united',\n",
    "              'norwich': 'norwich-city',\n",
    "              'qpr': 'queens-park-rangers',\n",
    "              'sheffield': 'sheffield-united',\n",
    "              'stoke': 'stoke-city',\n",
    "              'swansea': 'swansea-city',\n",
    "              'tottenham': 'tottenham-hotspur',\n",
    "              'west-brom': 'west-bromwich-albion',\n",
    "              'west-ham': 'west-ham-united',\n",
    "              'wigan': 'wigan-athletic',\n",
    "              'wolves': 'wolverhampton-wanderers'}"
   ]
  },
  {
   "cell_type": "code",
   "execution_count": 4,
   "metadata": {},
   "outputs": [],
   "source": [
    "fp = REF_DATA_DIR / 'united-kingdom' / 'english-premier-league' / 'english-premier-league_std_name_dict.pkl'\n",
    "\n",
    "with open(fp, 'wb') as handle:\n",
    "    pickle.dump(epl_names_d, handle, protocol=pickle.HIGHEST_PROTOCOL)"
   ]
  },
  {
   "cell_type": "code",
   "execution_count": 5,
   "metadata": {},
   "outputs": [],
   "source": [
    "with open(fp, 'rb') as handle:\n",
    "    std_names_d = pickle.load(handle)"
   ]
  },
  {
   "cell_type": "markdown",
   "metadata": {},
   "source": [
    "## Use Dictionary to form path to cleaned dataframes dir"
   ]
  },
  {
   "cell_type": "code",
   "execution_count": 6,
   "metadata": {},
   "outputs": [],
   "source": [
    "nations = ['united-kingdom']\n",
    "leagues = ['english-premier-league']\n",
    "#sources = ['football-data-co-uk', 'indatabet-com', 'whoscored-com']"
   ]
  },
  {
   "cell_type": "code",
   "execution_count": 7,
   "metadata": {},
   "outputs": [],
   "source": [
    "def form_fdcu_fps(CLEANED_DATA_DIR, nation, league, seasons):\n",
    "    \"\"\"\n",
    "    Accepts directory names to enable reach into raw data directory\n",
    "    Returns full filepaths of the data files\n",
    "    This is different - different signature no source - to other versions - needs to be standardized\n",
    "    \"\"\"\n",
    "    fps = []\n",
    "    fdcu_specifics = ['football-data-co-uk', 'season-data']\n",
    "    for season in seasons:\n",
    "        fn = season + '.csv'\n",
    "        stub = CLEANED_DATA_DIR / fdcu_specifics[0] / nation / league / season\n",
    "        fp = stub / fn\n",
    "        #if fp.is_file():\n",
    "        if fp.exists():\n",
    "            fps.append(fp)\n",
    "    return fps\n",
    "\n",
    "fps = form_fdcu_fps(CLEANED_DATA_DIR, nations[0], leagues[0], seasons)"
   ]
  },
  {
   "cell_type": "code",
   "execution_count": 8,
   "metadata": {},
   "outputs": [
    {
     "name": "stdout",
     "output_type": "stream",
     "text": [
      "13\n"
     ]
    }
   ],
   "source": [
    "all_fps = []\n",
    "for nation, league in zip(nations, leagues):\n",
    "    fps = form_fdcu_fps(CLEANED_DATA_DIR, nation, league, seasons)\n",
    "    all_fps.extend(fps)\n",
    "\n",
    "print(len(all_fps))"
   ]
  },
  {
   "cell_type": "markdown",
   "metadata": {},
   "source": [
    "## Load DataFrames"
   ]
  },
  {
   "cell_type": "code",
   "execution_count": 9,
   "metadata": {},
   "outputs": [
    {
     "data": {
      "text/html": [
       "<div>\n",
       "<style scoped>\n",
       "    .dataframe tbody tr th:only-of-type {\n",
       "        vertical-align: middle;\n",
       "    }\n",
       "\n",
       "    .dataframe tbody tr th {\n",
       "        vertical-align: top;\n",
       "    }\n",
       "\n",
       "    .dataframe thead th {\n",
       "        text-align: right;\n",
       "    }\n",
       "</style>\n",
       "<table border=\"1\" class=\"dataframe\">\n",
       "  <thead>\n",
       "    <tr style=\"text-align: right;\">\n",
       "      <th></th>\n",
       "      <th>a_corners</th>\n",
       "      <th>a_fouls</th>\n",
       "      <th>a_redCards</th>\n",
       "      <th>a_shots</th>\n",
       "      <th>a_shotsOnTarget</th>\n",
       "      <th>a_yellowCards</th>\n",
       "      <th>a</th>\n",
       "      <th>odds_awin_bet365</th>\n",
       "      <th>odds_draw_bet365</th>\n",
       "      <th>odds_hwin_bet365</th>\n",
       "      <th>odds_awin_BW</th>\n",
       "      <th>odds_draw_BW</th>\n",
       "      <th>odds_hwin_BW</th>\n",
       "      <th>n_Bb1X2</th>\n",
       "      <th>n_BbAsian</th>\n",
       "      <th>BbAsian_handicap</th>\n",
       "      <th>odds_ftgoalsu2.5_bbmean</th>\n",
       "      <th>odds_ftgoalso2.5_bbmean</th>\n",
       "      <th>odds_awin_bbmean</th>\n",
       "      <th>odds_asianaway_bbmean</th>\n",
       "      <th>odds_asianhome_bbmean</th>\n",
       "      <th>odds_draw_bbmean</th>\n",
       "      <th>odds_hwin_bbmean</th>\n",
       "      <th>odds_ftgoalsu2.5_bbmax</th>\n",
       "      <th>odds_ftgoalso2.5_bbmax</th>\n",
       "      <th>odds_awin_bbmax</th>\n",
       "      <th>odds_asianaway_bbmax</th>\n",
       "      <th>odds_asianhome_bbmax</th>\n",
       "      <th>odds_draw_bbmax</th>\n",
       "      <th>odds_hwin_bbmax</th>\n",
       "      <th>n_BbOU</th>\n",
       "      <th>date</th>\n",
       "      <th>a_ftGoals</th>\n",
       "      <th>h_ftGoals</th>\n",
       "      <th>ftResult</th>\n",
       "      <th>h_corners</th>\n",
       "      <th>h_fouls</th>\n",
       "      <th>h_redCards</th>\n",
       "      <th>h_shots</th>\n",
       "      <th>h_shotsOnTarget</th>\n",
       "      <th>a_htGoals</th>\n",
       "      <th>h_htGoals</th>\n",
       "      <th>h_yellowCards</th>\n",
       "      <th>h</th>\n",
       "      <th>odds_awin_IW</th>\n",
       "      <th>odds_draw_IW</th>\n",
       "      <th>odds_hwin_IW</th>\n",
       "      <th>odds_awin_LB</th>\n",
       "      <th>odds_draw_LB</th>\n",
       "      <th>odds_hwin_LB</th>\n",
       "      <th>odds_awin_VC</th>\n",
       "      <th>odds_draw_VC</th>\n",
       "      <th>odds_hwin_VC</th>\n",
       "      <th>odds_awin_WH</th>\n",
       "      <th>odds_draw_WH</th>\n",
       "      <th>odds_hwin_WH</th>\n",
       "      <th>league</th>\n",
       "      <th>nation</th>\n",
       "      <th>season</th>\n",
       "      <th>clodds_away_pinn</th>\n",
       "      <th>clodds_draw_pinn</th>\n",
       "      <th>clodds_hwin_pinn</th>\n",
       "    </tr>\n",
       "  </thead>\n",
       "  <tbody>\n",
       "    <tr>\n",
       "      <th>0</th>\n",
       "      <td>4.0</td>\n",
       "      <td>12.0</td>\n",
       "      <td>0.0</td>\n",
       "      <td>6.0</td>\n",
       "      <td>3.0</td>\n",
       "      <td>1.0</td>\n",
       "      <td>Leicester</td>\n",
       "      <td>6.50</td>\n",
       "      <td>4.5</td>\n",
       "      <td>1.53</td>\n",
       "      <td>6.75</td>\n",
       "      <td>4.60</td>\n",
       "      <td>1.50</td>\n",
       "      <td>41.0</td>\n",
       "      <td>21.0</td>\n",
       "      <td>-1.00</td>\n",
       "      <td>2.32</td>\n",
       "      <td>1.61</td>\n",
       "      <td>6.44</td>\n",
       "      <td>2.02</td>\n",
       "      <td>1.85</td>\n",
       "      <td>4.43</td>\n",
       "      <td>1.51</td>\n",
       "      <td>2.43</td>\n",
       "      <td>1.65</td>\n",
       "      <td>6.89</td>\n",
       "      <td>2.10</td>\n",
       "      <td>1.91</td>\n",
       "      <td>4.60</td>\n",
       "      <td>1.55</td>\n",
       "      <td>37.0</td>\n",
       "      <td>2017-08-11</td>\n",
       "      <td>3.0</td>\n",
       "      <td>4.0</td>\n",
       "      <td>H</td>\n",
       "      <td>9.0</td>\n",
       "      <td>9.0</td>\n",
       "      <td>0.0</td>\n",
       "      <td>27.0</td>\n",
       "      <td>10.0</td>\n",
       "      <td>2.0</td>\n",
       "      <td>2.0</td>\n",
       "      <td>0.0</td>\n",
       "      <td>Arsenal</td>\n",
       "      <td>6.50</td>\n",
       "      <td>4.5</td>\n",
       "      <td>1.47</td>\n",
       "      <td>6.50</td>\n",
       "      <td>4.40</td>\n",
       "      <td>1.44</td>\n",
       "      <td>6.50</td>\n",
       "      <td>4.50</td>\n",
       "      <td>1.53</td>\n",
       "      <td>6.00</td>\n",
       "      <td>4.2</td>\n",
       "      <td>1.53</td>\n",
       "      <td>english-premier-league</td>\n",
       "      <td>united-kingdom</td>\n",
       "      <td>2017-2018</td>\n",
       "      <td>7.25</td>\n",
       "      <td>4.73</td>\n",
       "      <td>1.49</td>\n",
       "    </tr>\n",
       "    <tr>\n",
       "      <th>1</th>\n",
       "      <td>10.0</td>\n",
       "      <td>9.0</td>\n",
       "      <td>0.0</td>\n",
       "      <td>14.0</td>\n",
       "      <td>4.0</td>\n",
       "      <td>2.0</td>\n",
       "      <td>Man City</td>\n",
       "      <td>1.33</td>\n",
       "      <td>5.5</td>\n",
       "      <td>11.00</td>\n",
       "      <td>1.30</td>\n",
       "      <td>5.25</td>\n",
       "      <td>11.00</td>\n",
       "      <td>40.0</td>\n",
       "      <td>20.0</td>\n",
       "      <td>1.50</td>\n",
       "      <td>2.27</td>\n",
       "      <td>1.63</td>\n",
       "      <td>1.32</td>\n",
       "      <td>1.96</td>\n",
       "      <td>1.91</td>\n",
       "      <td>5.25</td>\n",
       "      <td>10.10</td>\n",
       "      <td>2.40</td>\n",
       "      <td>1.70</td>\n",
       "      <td>1.36</td>\n",
       "      <td>2.01</td>\n",
       "      <td>1.95</td>\n",
       "      <td>5.60</td>\n",
       "      <td>11.50</td>\n",
       "      <td>35.0</td>\n",
       "      <td>2017-08-12</td>\n",
       "      <td>2.0</td>\n",
       "      <td>0.0</td>\n",
       "      <td>A</td>\n",
       "      <td>3.0</td>\n",
       "      <td>6.0</td>\n",
       "      <td>0.0</td>\n",
       "      <td>6.0</td>\n",
       "      <td>2.0</td>\n",
       "      <td>0.0</td>\n",
       "      <td>0.0</td>\n",
       "      <td>0.0</td>\n",
       "      <td>Brighton</td>\n",
       "      <td>1.35</td>\n",
       "      <td>5.3</td>\n",
       "      <td>8.00</td>\n",
       "      <td>1.30</td>\n",
       "      <td>5.00</td>\n",
       "      <td>10.00</td>\n",
       "      <td>1.33</td>\n",
       "      <td>5.50</td>\n",
       "      <td>10.00</td>\n",
       "      <td>1.33</td>\n",
       "      <td>4.8</td>\n",
       "      <td>10.00</td>\n",
       "      <td>english-premier-league</td>\n",
       "      <td>united-kingdom</td>\n",
       "      <td>2017-2018</td>\n",
       "      <td>1.29</td>\n",
       "      <td>6.15</td>\n",
       "      <td>11.75</td>\n",
       "    </tr>\n",
       "    <tr>\n",
       "      <th>2</th>\n",
       "      <td>5.0</td>\n",
       "      <td>11.0</td>\n",
       "      <td>0.0</td>\n",
       "      <td>10.0</td>\n",
       "      <td>5.0</td>\n",
       "      <td>3.0</td>\n",
       "      <td>Burnley</td>\n",
       "      <td>15.00</td>\n",
       "      <td>6.5</td>\n",
       "      <td>1.25</td>\n",
       "      <td>12.50</td>\n",
       "      <td>6.50</td>\n",
       "      <td>1.22</td>\n",
       "      <td>41.0</td>\n",
       "      <td>20.0</td>\n",
       "      <td>-1.75</td>\n",
       "      <td>2.23</td>\n",
       "      <td>1.66</td>\n",
       "      <td>13.67</td>\n",
       "      <td>1.90</td>\n",
       "      <td>1.97</td>\n",
       "      <td>6.06</td>\n",
       "      <td>1.24</td>\n",
       "      <td>2.33</td>\n",
       "      <td>1.71</td>\n",
       "      <td>15.50</td>\n",
       "      <td>1.95</td>\n",
       "      <td>2.03</td>\n",
       "      <td>6.55</td>\n",
       "      <td>1.27</td>\n",
       "      <td>36.0</td>\n",
       "      <td>2017-08-12</td>\n",
       "      <td>3.0</td>\n",
       "      <td>2.0</td>\n",
       "      <td>A</td>\n",
       "      <td>8.0</td>\n",
       "      <td>16.0</td>\n",
       "      <td>2.0</td>\n",
       "      <td>19.0</td>\n",
       "      <td>6.0</td>\n",
       "      <td>3.0</td>\n",
       "      <td>0.0</td>\n",
       "      <td>3.0</td>\n",
       "      <td>Chelsea</td>\n",
       "      <td>13.50</td>\n",
       "      <td>6.2</td>\n",
       "      <td>1.22</td>\n",
       "      <td>15.00</td>\n",
       "      <td>5.75</td>\n",
       "      <td>1.25</td>\n",
       "      <td>15.00</td>\n",
       "      <td>6.25</td>\n",
       "      <td>1.25</td>\n",
       "      <td>13.00</td>\n",
       "      <td>5.5</td>\n",
       "      <td>1.25</td>\n",
       "      <td>english-premier-league</td>\n",
       "      <td>united-kingdom</td>\n",
       "      <td>2017-2018</td>\n",
       "      <td>12.25</td>\n",
       "      <td>5.40</td>\n",
       "      <td>1.33</td>\n",
       "    </tr>\n",
       "    <tr>\n",
       "      <th>3</th>\n",
       "      <td>9.0</td>\n",
       "      <td>19.0</td>\n",
       "      <td>0.0</td>\n",
       "      <td>8.0</td>\n",
       "      <td>6.0</td>\n",
       "      <td>3.0</td>\n",
       "      <td>Huddersfield</td>\n",
       "      <td>5.00</td>\n",
       "      <td>3.6</td>\n",
       "      <td>1.83</td>\n",
       "      <td>4.75</td>\n",
       "      <td>3.50</td>\n",
       "      <td>1.80</td>\n",
       "      <td>41.0</td>\n",
       "      <td>18.0</td>\n",
       "      <td>-0.75</td>\n",
       "      <td>1.72</td>\n",
       "      <td>2.11</td>\n",
       "      <td>4.82</td>\n",
       "      <td>1.83</td>\n",
       "      <td>2.05</td>\n",
       "      <td>3.50</td>\n",
       "      <td>1.81</td>\n",
       "      <td>1.79</td>\n",
       "      <td>2.19</td>\n",
       "      <td>5.11</td>\n",
       "      <td>1.86</td>\n",
       "      <td>2.10</td>\n",
       "      <td>3.65</td>\n",
       "      <td>1.86</td>\n",
       "      <td>36.0</td>\n",
       "      <td>2017-08-12</td>\n",
       "      <td>3.0</td>\n",
       "      <td>0.0</td>\n",
       "      <td>A</td>\n",
       "      <td>12.0</td>\n",
       "      <td>7.0</td>\n",
       "      <td>0.0</td>\n",
       "      <td>14.0</td>\n",
       "      <td>4.0</td>\n",
       "      <td>2.0</td>\n",
       "      <td>0.0</td>\n",
       "      <td>1.0</td>\n",
       "      <td>Crystal Palace</td>\n",
       "      <td>4.30</td>\n",
       "      <td>3.5</td>\n",
       "      <td>1.85</td>\n",
       "      <td>4.60</td>\n",
       "      <td>3.40</td>\n",
       "      <td>1.80</td>\n",
       "      <td>5.00</td>\n",
       "      <td>3.60</td>\n",
       "      <td>1.83</td>\n",
       "      <td>5.00</td>\n",
       "      <td>3.3</td>\n",
       "      <td>1.80</td>\n",
       "      <td>english-premier-league</td>\n",
       "      <td>united-kingdom</td>\n",
       "      <td>2017-2018</td>\n",
       "      <td>5.51</td>\n",
       "      <td>3.56</td>\n",
       "      <td>1.79</td>\n",
       "    </tr>\n",
       "    <tr>\n",
       "      <th>4</th>\n",
       "      <td>7.0</td>\n",
       "      <td>10.0</td>\n",
       "      <td>0.0</td>\n",
       "      <td>9.0</td>\n",
       "      <td>1.0</td>\n",
       "      <td>1.0</td>\n",
       "      <td>Stoke</td>\n",
       "      <td>5.75</td>\n",
       "      <td>3.8</td>\n",
       "      <td>1.70</td>\n",
       "      <td>5.50</td>\n",
       "      <td>3.60</td>\n",
       "      <td>1.70</td>\n",
       "      <td>40.0</td>\n",
       "      <td>19.0</td>\n",
       "      <td>-0.75</td>\n",
       "      <td>1.76</td>\n",
       "      <td>2.08</td>\n",
       "      <td>5.50</td>\n",
       "      <td>1.98</td>\n",
       "      <td>1.90</td>\n",
       "      <td>3.69</td>\n",
       "      <td>1.69</td>\n",
       "      <td>1.80</td>\n",
       "      <td>2.17</td>\n",
       "      <td>6.00</td>\n",
       "      <td>2.01</td>\n",
       "      <td>1.94</td>\n",
       "      <td>3.85</td>\n",
       "      <td>1.71</td>\n",
       "      <td>35.0</td>\n",
       "      <td>2017-08-12</td>\n",
       "      <td>0.0</td>\n",
       "      <td>1.0</td>\n",
       "      <td>H</td>\n",
       "      <td>6.0</td>\n",
       "      <td>13.0</td>\n",
       "      <td>0.0</td>\n",
       "      <td>9.0</td>\n",
       "      <td>4.0</td>\n",
       "      <td>0.0</td>\n",
       "      <td>1.0</td>\n",
       "      <td>1.0</td>\n",
       "      <td>Everton</td>\n",
       "      <td>5.00</td>\n",
       "      <td>3.7</td>\n",
       "      <td>1.70</td>\n",
       "      <td>5.25</td>\n",
       "      <td>3.60</td>\n",
       "      <td>1.67</td>\n",
       "      <td>5.75</td>\n",
       "      <td>3.80</td>\n",
       "      <td>1.70</td>\n",
       "      <td>5.50</td>\n",
       "      <td>3.5</td>\n",
       "      <td>1.70</td>\n",
       "      <td>english-premier-league</td>\n",
       "      <td>united-kingdom</td>\n",
       "      <td>2017-2018</td>\n",
       "      <td>5.42</td>\n",
       "      <td>3.49</td>\n",
       "      <td>1.82</td>\n",
       "    </tr>\n",
       "  </tbody>\n",
       "</table>\n",
       "</div>"
      ],
      "text/plain": [
       "   a_corners  a_fouls  a_redCards  a_shots  a_shotsOnTarget  a_yellowCards             a  odds_awin_bet365  odds_draw_bet365  odds_hwin_bet365  odds_awin_BW  odds_draw_BW  odds_hwin_BW  n_Bb1X2  n_BbAsian  BbAsian_handicap  odds_ftgoalsu2.5_bbmean  odds_ftgoalso2.5_bbmean  odds_awin_bbmean  odds_asianaway_bbmean  odds_asianhome_bbmean  odds_draw_bbmean  odds_hwin_bbmean  odds_ftgoalsu2.5_bbmax  odds_ftgoalso2.5_bbmax  odds_awin_bbmax  odds_asianaway_bbmax  odds_asianhome_bbmax  odds_draw_bbmax  odds_hwin_bbmax  n_BbOU       date  a_ftGoals  h_ftGoals ftResult  h_corners  h_fouls  h_redCards  h_shots  h_shotsOnTarget  a_htGoals  h_htGoals  h_yellowCards               h  odds_awin_IW  odds_draw_IW  odds_hwin_IW  odds_awin_LB  odds_draw_LB  odds_hwin_LB  odds_awin_VC  odds_draw_VC  odds_hwin_VC  odds_awin_WH  odds_draw_WH  odds_hwin_WH                  league          nation     season  clodds_away_pinn  clodds_draw_pinn  clodds_hwin_pinn\n",
       "0        4.0     12.0         0.0      6.0              3.0            1.0     Leicester              6.50               4.5              1.53          6.75          4.60          1.50     41.0       21.0             -1.00                     2.32                     1.61              6.44                   2.02                   1.85              4.43              1.51                    2.43                    1.65             6.89                  2.10                  1.91             4.60             1.55    37.0 2017-08-11        3.0        4.0        H        9.0      9.0         0.0     27.0             10.0        2.0        2.0            0.0         Arsenal          6.50           4.5          1.47          6.50          4.40          1.44          6.50          4.50          1.53          6.00           4.2          1.53  english-premier-league  united-kingdom  2017-2018              7.25              4.73              1.49\n",
       "1       10.0      9.0         0.0     14.0              4.0            2.0      Man City              1.33               5.5             11.00          1.30          5.25         11.00     40.0       20.0              1.50                     2.27                     1.63              1.32                   1.96                   1.91              5.25             10.10                    2.40                    1.70             1.36                  2.01                  1.95             5.60            11.50    35.0 2017-08-12        2.0        0.0        A        3.0      6.0         0.0      6.0              2.0        0.0        0.0            0.0        Brighton          1.35           5.3          8.00          1.30          5.00         10.00          1.33          5.50         10.00          1.33           4.8         10.00  english-premier-league  united-kingdom  2017-2018              1.29              6.15             11.75\n",
       "2        5.0     11.0         0.0     10.0              5.0            3.0       Burnley             15.00               6.5              1.25         12.50          6.50          1.22     41.0       20.0             -1.75                     2.23                     1.66             13.67                   1.90                   1.97              6.06              1.24                    2.33                    1.71            15.50                  1.95                  2.03             6.55             1.27    36.0 2017-08-12        3.0        2.0        A        8.0     16.0         2.0     19.0              6.0        3.0        0.0            3.0         Chelsea         13.50           6.2          1.22         15.00          5.75          1.25         15.00          6.25          1.25         13.00           5.5          1.25  english-premier-league  united-kingdom  2017-2018             12.25              5.40              1.33\n",
       "3        9.0     19.0         0.0      8.0              6.0            3.0  Huddersfield              5.00               3.6              1.83          4.75          3.50          1.80     41.0       18.0             -0.75                     1.72                     2.11              4.82                   1.83                   2.05              3.50              1.81                    1.79                    2.19             5.11                  1.86                  2.10             3.65             1.86    36.0 2017-08-12        3.0        0.0        A       12.0      7.0         0.0     14.0              4.0        2.0        0.0            1.0  Crystal Palace          4.30           3.5          1.85          4.60          3.40          1.80          5.00          3.60          1.83          5.00           3.3          1.80  english-premier-league  united-kingdom  2017-2018              5.51              3.56              1.79\n",
       "4        7.0     10.0         0.0      9.0              1.0            1.0         Stoke              5.75               3.8              1.70          5.50          3.60          1.70     40.0       19.0             -0.75                     1.76                     2.08              5.50                   1.98                   1.90              3.69              1.69                    1.80                    2.17             6.00                  2.01                  1.94             3.85             1.71    35.0 2017-08-12        0.0        1.0        H        6.0     13.0         0.0      9.0              4.0        0.0        1.0            1.0         Everton          5.00           3.7          1.70          5.25          3.60          1.67          5.75          3.80          1.70          5.50           3.5          1.70  english-premier-league  united-kingdom  2017-2018              5.42              3.49              1.82"
      ]
     },
     "execution_count": 9,
     "metadata": {},
     "output_type": "execute_result"
    }
   ],
   "source": [
    "season_dfs = []\n",
    "for fp in all_fps:\n",
    "    season_df = pd.read_csv(fp, parse_dates=['date'], index_col=None)\n",
    "    season_dfs.append(season_df)\n",
    "season_dfs[-1].head()"
   ]
  },
  {
   "cell_type": "markdown",
   "metadata": {},
   "source": [
    "## Standardize Team Names"
   ]
  },
  {
   "cell_type": "code",
   "execution_count": 10,
   "metadata": {},
   "outputs": [],
   "source": [
    "def copy_data(src_fps, dest_fps):\n",
    "    \"\"\"\n",
    "    Accepts a list of strings representing filepaths\n",
    "    Copies the files if they do not exist, otherwise counts if already there\n",
    "    Returns the number of files copied, and number of files already existing\n",
    "    \"\"\"\n",
    "#     dest_fps = []\n",
    "#     for src_fp in src_fps:\n",
    "#         #dest_fps.append(src_fp.replace(str(env_dir), str(project_dir)))\n",
    "    n_copied = 0\n",
    "    n_exist = 0\n",
    "    for src_fp, dest_fp in zip(src_fps, dest_fps):\n",
    "#         src_fp = pathlib.Path(src_fp)\n",
    "#         dest_fp = pathlib.Path(dest_fp)\n",
    "        if not dest_fp.exists():\n",
    "            dest_fp.parent.mkdir(parents=True, exist_ok=True)\n",
    "            # Copy the original files without touching them\n",
    "            dest_fp.write_bytes(src_fp.read_bytes())\n",
    "            n_copied += 1\n",
    "        else:\n",
    "            n_exist += 1\n",
    "    return n_copied, n_exist"
   ]
  },
  {
   "cell_type": "code",
   "execution_count": 11,
   "metadata": {},
   "outputs": [],
   "source": [
    "def stdze_names_to_dict(df_orig, std_names_d):\n",
    "    df = df_orig.copy(deep=True)\n",
    "    # Standardize the team names\n",
    "    df['h'] = df['h'].str.strip().str.lower().str.replace(' ', '-')\n",
    "    df.loc[df['h'].isin(std_names_d.keys()), 'h'] = df['h'].map(std_names_d)\n",
    "    df['a'] = df['a'].str.strip().str.lower().str.replace(' ', '-')\n",
    "    df.loc[df['a'].isin(std_names_d.keys()), 'a'] = df['a'].map(std_names_d)\n",
    "    return df"
   ]
  },
  {
   "cell_type": "markdown",
   "metadata": {},
   "source": [
    "## Save to Standardized Directory"
   ]
  },
  {
   "cell_type": "code",
   "execution_count": 12,
   "metadata": {
    "scrolled": false
   },
   "outputs": [],
   "source": [
    "#Change this to keep list of src and dest filepaths\n",
    "for df, src_fp in zip(season_dfs, all_fps):\n",
    "    new_df = stdze_names_to_dict(df, std_names_d)\n",
    "    # Write to new directory\n",
    "#     print(src_fp)\n",
    "    dest_fp = pathlib.Path(str(src_fp).replace('02-cleaned', '03-standardized'))\n",
    "#     print(dest_fp)\n",
    "    new_df.to_csv(dest_fp, index=None)\n",
    "    # copy_data([src_fp], [dest_fp])\n",
    "    "
   ]
  },
  {
   "cell_type": "code",
   "execution_count": null,
   "metadata": {},
   "outputs": [],
   "source": []
  },
  {
   "cell_type": "markdown",
   "metadata": {},
   "source": [
    "# Standardize Indatabet com\n",
    "\n",
    "+ Use dictionary to form path to clean dataframes\n",
    "+ Load dataframes\n",
    "+ Standardize team names\n",
    "+ save to standardized directory"
   ]
  },
  {
   "cell_type": "code",
   "execution_count": 13,
   "metadata": {},
   "outputs": [],
   "source": [
    "def form_indatabet_fps(CLEANED_DATA_DIR, nation, league, seasons):\n",
    "    \"\"\"\n",
    "    Accepts directory names to enable reach into raw data directory\n",
    "    Returns full filepaths of the data files\n",
    "    This is different - different signature no source - to other versions - needs to be standardized\n",
    "    \"\"\"\n",
    "    fps = []\n",
    "    indatabet_specifics = ['indatabet-com', 'season-data']\n",
    "    for season in seasons:\n",
    "        fn = season + '.csv'\n",
    "        stub = CLEANED_DATA_DIR / indatabet_specifics[0] / nation / league / season\n",
    "        fp = stub / fn\n",
    "        #if fp.is_file():\n",
    "        if fp.exists():\n",
    "            fps.append(fp)\n",
    "    return fps\n",
    "\n",
    "fps = form_indatabet_fps(CLEANED_DATA_DIR, nations[0], leagues[0], seasons)"
   ]
  },
  {
   "cell_type": "code",
   "execution_count": 14,
   "metadata": {},
   "outputs": [
    {
     "name": "stdout",
     "output_type": "stream",
     "text": [
      "11\n"
     ]
    }
   ],
   "source": [
    "all_fps = []\n",
    "for nation, league in zip(nations, leagues):\n",
    "    fps = form_indatabet_fps(CLEANED_DATA_DIR, nation, league, seasons)\n",
    "    all_fps.extend(fps)\n",
    "\n",
    "print(len(all_fps))"
   ]
  },
  {
   "cell_type": "code",
   "execution_count": 15,
   "metadata": {},
   "outputs": [
    {
     "data": {
      "text/html": [
       "<div>\n",
       "<style scoped>\n",
       "    .dataframe tbody tr th:only-of-type {\n",
       "        vertical-align: middle;\n",
       "    }\n",
       "\n",
       "    .dataframe tbody tr th {\n",
       "        vertical-align: top;\n",
       "    }\n",
       "\n",
       "    .dataframe thead th {\n",
       "        text-align: right;\n",
       "    }\n",
       "</style>\n",
       "<table border=\"1\" class=\"dataframe\">\n",
       "  <thead>\n",
       "    <tr style=\"text-align: right;\">\n",
       "      <th></th>\n",
       "      <th>date</th>\n",
       "      <th>id_fifa</th>\n",
       "      <th>nation</th>\n",
       "      <th>league</th>\n",
       "      <th>season</th>\n",
       "      <th>h</th>\n",
       "      <th>a</th>\n",
       "      <th>h_ftGoals</th>\n",
       "      <th>a_ftGoals</th>\n",
       "      <th>odds_hwin_pinn</th>\n",
       "      <th>odds_draw_pinn</th>\n",
       "      <th>odds_awin_pinn</th>\n",
       "      <th>odds_hwin_bet365</th>\n",
       "      <th>odds_draw_bet365</th>\n",
       "      <th>odds_awin_bet365</th>\n",
       "    </tr>\n",
       "  </thead>\n",
       "  <tbody>\n",
       "    <tr>\n",
       "      <th>0</th>\n",
       "      <td>2007-08-11</td>\n",
       "      <td>eng-pl</td>\n",
       "      <td>united-kingdom</td>\n",
       "      <td>english-premier-league</td>\n",
       "      <td>2007-2008</td>\n",
       "      <td>sunderland</td>\n",
       "      <td>tottenham</td>\n",
       "      <td>1.0</td>\n",
       "      <td>0.0</td>\n",
       "      <td>3.40</td>\n",
       "      <td>3.35</td>\n",
       "      <td>2.20</td>\n",
       "      <td>2.80</td>\n",
       "      <td>3.25</td>\n",
       "      <td>2.25</td>\n",
       "    </tr>\n",
       "    <tr>\n",
       "      <th>1</th>\n",
       "      <td>2007-08-11</td>\n",
       "      <td>eng-pl</td>\n",
       "      <td>united-kingdom</td>\n",
       "      <td>english-premier-league</td>\n",
       "      <td>2007-2008</td>\n",
       "      <td>west-ham</td>\n",
       "      <td>manchester-city</td>\n",
       "      <td>0.0</td>\n",
       "      <td>2.0</td>\n",
       "      <td>2.16</td>\n",
       "      <td>3.25</td>\n",
       "      <td>3.60</td>\n",
       "      <td>1.83</td>\n",
       "      <td>3.20</td>\n",
       "      <td>4.00</td>\n",
       "    </tr>\n",
       "    <tr>\n",
       "      <th>2</th>\n",
       "      <td>2007-08-11</td>\n",
       "      <td>eng-pl</td>\n",
       "      <td>united-kingdom</td>\n",
       "      <td>english-premier-league</td>\n",
       "      <td>2007-2008</td>\n",
       "      <td>middlesbrough</td>\n",
       "      <td>blackburn</td>\n",
       "      <td>1.0</td>\n",
       "      <td>2.0</td>\n",
       "      <td>2.57</td>\n",
       "      <td>3.20</td>\n",
       "      <td>2.95</td>\n",
       "      <td>2.25</td>\n",
       "      <td>3.25</td>\n",
       "      <td>2.80</td>\n",
       "    </tr>\n",
       "    <tr>\n",
       "      <th>3</th>\n",
       "      <td>2007-08-11</td>\n",
       "      <td>eng-pl</td>\n",
       "      <td>united-kingdom</td>\n",
       "      <td>english-premier-league</td>\n",
       "      <td>2007-2008</td>\n",
       "      <td>everton</td>\n",
       "      <td>wigan</td>\n",
       "      <td>2.0</td>\n",
       "      <td>1.0</td>\n",
       "      <td>1.73</td>\n",
       "      <td>3.50</td>\n",
       "      <td>5.40</td>\n",
       "      <td>1.62</td>\n",
       "      <td>3.50</td>\n",
       "      <td>5.00</td>\n",
       "    </tr>\n",
       "    <tr>\n",
       "      <th>4</th>\n",
       "      <td>2007-08-11</td>\n",
       "      <td>eng-pl</td>\n",
       "      <td>united-kingdom</td>\n",
       "      <td>english-premier-league</td>\n",
       "      <td>2007-2008</td>\n",
       "      <td>derby</td>\n",
       "      <td>portsmouth</td>\n",
       "      <td>2.0</td>\n",
       "      <td>2.0</td>\n",
       "      <td>3.20</td>\n",
       "      <td>3.20</td>\n",
       "      <td>2.35</td>\n",
       "      <td>2.50</td>\n",
       "      <td>3.25</td>\n",
       "      <td>2.50</td>\n",
       "    </tr>\n",
       "  </tbody>\n",
       "</table>\n",
       "</div>"
      ],
      "text/plain": [
       "        date id_fifa          nation                  league     season              h                a  h_ftGoals  a_ftGoals  odds_hwin_pinn  odds_draw_pinn  odds_awin_pinn  odds_hwin_bet365  odds_draw_bet365  odds_awin_bet365\n",
       "0 2007-08-11  eng-pl  united-kingdom  english-premier-league  2007-2008     sunderland        tottenham        1.0        0.0            3.40            3.35            2.20              2.80              3.25              2.25\n",
       "1 2007-08-11  eng-pl  united-kingdom  english-premier-league  2007-2008       west-ham  manchester-city        0.0        2.0            2.16            3.25            3.60              1.83              3.20              4.00\n",
       "2 2007-08-11  eng-pl  united-kingdom  english-premier-league  2007-2008  middlesbrough        blackburn        1.0        2.0            2.57            3.20            2.95              2.25              3.25              2.80\n",
       "3 2007-08-11  eng-pl  united-kingdom  english-premier-league  2007-2008        everton            wigan        2.0        1.0            1.73            3.50            5.40              1.62              3.50              5.00\n",
       "4 2007-08-11  eng-pl  united-kingdom  english-premier-league  2007-2008          derby       portsmouth        2.0        2.0            3.20            3.20            2.35              2.50              3.25              2.50"
      ]
     },
     "execution_count": 15,
     "metadata": {},
     "output_type": "execute_result"
    }
   ],
   "source": [
    "season_dfs = []\n",
    "for fp in all_fps:\n",
    "    season_df = pd.read_csv(fp, parse_dates=['date'], index_col=None)\n",
    "    season_dfs.append(season_df)\n",
    "season_dfs[0].head()"
   ]
  },
  {
   "cell_type": "code",
   "execution_count": 16,
   "metadata": {},
   "outputs": [],
   "source": [
    "def stdze_names_to_dict(df_orig, std_names_d):\n",
    "    df = df_orig.copy(deep=True)\n",
    "    # Standardize the team names\n",
    "    df['h'] = df['h'].str.strip().str.lower().str.replace(' ', '-')\n",
    "    df.loc[df['h'].isin(std_names_d.keys()), 'h'] = df['h'].map(std_names_d)\n",
    "    df['a'] = df['a'].str.strip().str.lower().str.replace(' ', '-')\n",
    "    df.loc[df['a'].isin(std_names_d.keys()), 'a'] = df['a'].map(std_names_d)\n",
    "#     print(sorted(df['h'].unique()))\n",
    "#     print(sorted(df['a'].unique()))\n",
    "#     print('\\n\\n')\n",
    "    return df"
   ]
  },
  {
   "cell_type": "code",
   "execution_count": 17,
   "metadata": {},
   "outputs": [],
   "source": [
    "#Change this to keep list of src and dest filepaths\n",
    "for df, src_fp in zip(season_dfs, all_fps):\n",
    "    new_df = stdze_names_to_dict(df, std_names_d)\n",
    "    # Write to new directory\n",
    "#     print(src_fp)\n",
    "    dest_fp = pathlib.Path(str(src_fp).replace('02-cleaned', '03-standardized'))\n",
    "#     print(dest_fp)\n",
    "    # copy_data([src_fp], [dest_fp])\n",
    "    new_df.to_csv(dest_fp, index=None)"
   ]
  },
  {
   "cell_type": "markdown",
   "metadata": {},
   "source": [
    "# Standardize Whoscored com\n",
    "\n",
    "+ Use dictionary to form path to clean images\n",
    "+ Load image filepaths\n",
    "+ Standardize team names\n",
    "+ save to standardized directory"
   ]
  },
  {
   "cell_type": "code",
   "execution_count": 18,
   "metadata": {},
   "outputs": [],
   "source": [
    "nation = 'united-kingdom'\n",
    "league = 'english-premier-league'"
   ]
  },
  {
   "cell_type": "code",
   "execution_count": 19,
   "metadata": {},
   "outputs": [],
   "source": [
    "heatmap_fps = []\n",
    "heatmap_dirs = [d for d in pathlib.Path(CLEANED_DATA_DIR /'whoscored-com' / nation / league).rglob('**/*')\n",
    "               if d.is_dir() and str(d).split('/')[-1] =='heatmaps']\n",
    "for heatmap_dir in heatmap_dirs:\n",
    "    heatmaps = [fp for fp in heatmap_dir.iterdir() if fp.is_file()]\n",
    "    heatmap_fps.extend(heatmaps)"
   ]
  },
  {
   "cell_type": "code",
   "execution_count": 20,
   "metadata": {},
   "outputs": [
    {
     "data": {
      "text/plain": [
       "[PosixPath('/media/david/5C14F53A14F517AA/code/ana_py37/projects/soccer-predictions/data/02-cleaned/whoscored-com/united-kingdom/english-premier-league/2009-2010/heatmaps/Arsenal__Aston Villa.png'),\n",
       " PosixPath('/media/david/5C14F53A14F517AA/code/ana_py37/projects/soccer-predictions/data/02-cleaned/whoscored-com/united-kingdom/english-premier-league/2009-2010/heatmaps/Arsenal__Birmingham.png'),\n",
       " PosixPath('/media/david/5C14F53A14F517AA/code/ana_py37/projects/soccer-predictions/data/02-cleaned/whoscored-com/united-kingdom/english-premier-league/2009-2010/heatmaps/Arsenal__Blackburn.png'),\n",
       " PosixPath('/media/david/5C14F53A14F517AA/code/ana_py37/projects/soccer-predictions/data/02-cleaned/whoscored-com/united-kingdom/english-premier-league/2009-2010/heatmaps/Arsenal__Bolton.png'),\n",
       " PosixPath('/media/david/5C14F53A14F517AA/code/ana_py37/projects/soccer-predictions/data/02-cleaned/whoscored-com/united-kingdom/english-premier-league/2009-2010/heatmaps/Arsenal__Burnley.png')]"
      ]
     },
     "execution_count": 20,
     "metadata": {},
     "output_type": "execute_result"
    }
   ],
   "source": [
    "heatmap_fps[0:5]"
   ]
  },
  {
   "cell_type": "code",
   "execution_count": 21,
   "metadata": {},
   "outputs": [
    {
     "data": {
      "text/plain": [
       "3420"
      ]
     },
     "execution_count": 21,
     "metadata": {},
     "output_type": "execute_result"
    }
   ],
   "source": [
    "len(heatmap_fps)"
   ]
  },
  {
   "cell_type": "code",
   "execution_count": 22,
   "metadata": {},
   "outputs": [],
   "source": [
    "shotmap_fps = []\n",
    "shotmap_dirs = [d for d in pathlib.Path(CLEANED_DATA_DIR /'whoscored-com'/ nation / league).rglob('**/*')\n",
    "               if d.is_dir() and str(d).split('/')[-1] =='shotmaps']\n",
    "for shotmap_dir in shotmap_dirs:\n",
    "    shotmaps = [fp for fp in shotmap_dir.iterdir() if fp.is_file()]\n",
    "    shotmap_fps.extend(shotmaps)"
   ]
  },
  {
   "cell_type": "code",
   "execution_count": 23,
   "metadata": {},
   "outputs": [
    {
     "data": {
      "text/plain": [
       "3420"
      ]
     },
     "execution_count": 23,
     "metadata": {},
     "output_type": "execute_result"
    }
   ],
   "source": [
    "len(shotmap_fps)"
   ]
  },
  {
   "cell_type": "code",
   "execution_count": 24,
   "metadata": {},
   "outputs": [],
   "source": [
    "dest_fps = []\n",
    "# Change to create parallel list, and then copy across with standard names\n",
    "######################## !!!!!!!!!!!!!!!!!!!!!!!!!!!!!!! #########################3\n",
    "for heatmap_fp in heatmap_fps:\n",
    "    #print(heatmap_fp)\n",
    "    h = str(heatmap_fp).split('__')[0].split('/')[-1].lower().replace(' ', '-')\n",
    "    a = str(heatmap_fp).split('__')[1].split('/')[0].split('.')[0].lower().replace(' ', '-')\n",
    "    if h in std_names_d.keys():\n",
    "        h = std_names_d[h]\n",
    "    if a in std_names_d.keys():\n",
    "        a = std_names_d[a]\n",
    "    season = str(heatmap_fp.parent.parent).split('/')[-1]\n",
    "    dest_fp_stub = pathlib.Path(str(heatmap_fp).replace('02-cleaned', '03-standardized')).parent\n",
    "    # print(dest_fp_stub)\n",
    "    fn = season + '__' + 'date' + '__' + h + '__' + a + heatmap_fp.suffix\n",
    "    dest_fp = dest_fp_stub / fn\n",
    "    #print(dest_fp)\n",
    "    dest_fps.append(dest_fp)\n",
    "    #break\n",
    "#     fps[season + '__' + 'date' + '__' + h + '__' + a] = heatmap_fp\n",
    "# for k in list(fps.keys())[0:5]:\n",
    "#     print(f'{k} : {fps[k]}')\n",
    "#print(fps.items()[0:5])"
   ]
  },
  {
   "cell_type": "code",
   "execution_count": 25,
   "metadata": {},
   "outputs": [
    {
     "name": "stdout",
     "output_type": "stream",
     "text": [
      "0 3420\n"
     ]
    }
   ],
   "source": [
    "n_copied, n_exist= copy_data(heatmap_fps, dest_fps)\n",
    "print(n_copied, n_exist)"
   ]
  },
  {
   "cell_type": "code",
   "execution_count": 26,
   "metadata": {},
   "outputs": [],
   "source": [
    "dst_sm_fps = []\n",
    "for shotmap_fp in shotmap_fps:\n",
    "#     print(heatmap_fp)\n",
    "    h = str(shotmap_fp).split('__')[0].split('/')[-1].lower().replace(' ', '-')\n",
    "    a = str(shotmap_fp).split('__')[1].split('/')[0].split('.')[0].lower().replace(' ', '-')\n",
    "    if h in std_names_d.keys():\n",
    "        h = std_names_d[h]\n",
    "    if a in std_names_d.keys():\n",
    "        a = std_names_d[a]\n",
    "    season = str(shotmap_fp.parent.parent).split('/')[-1] \n",
    "    dest_sm_fp_stub = pathlib.Path(str(shotmap_fp).replace('02-cleaned', '03-standardized')).parent\n",
    "    # print(dest_fp_stub)\n",
    "    fn = season + '__' + 'date' + '__' + h + '__' + a + shotmap_fp.suffix\n",
    "    dst_sm_fp = dest_sm_fp_stub / fn\n",
    "    #print(dest_fp)\n",
    "    dst_sm_fps.append(dst_sm_fp)\n",
    "\n",
    "#     # Take a peek at the original shotmap filepaths \n",
    "# for k in list(fpss.keys())[0:5]:\n",
    "#     print(f'{k} : {fpss[k]}')"
   ]
  },
  {
   "cell_type": "code",
   "execution_count": 27,
   "metadata": {},
   "outputs": [
    {
     "name": "stdout",
     "output_type": "stream",
     "text": [
      "0 3420\n"
     ]
    }
   ],
   "source": [
    "n_copied, n_exist= copy_data(shotmap_fps, dst_sm_fps)\n",
    "print(n_copied, n_exist)"
   ]
  },
  {
   "cell_type": "code",
   "execution_count": null,
   "metadata": {},
   "outputs": [],
   "source": []
  },
  {
   "cell_type": "code",
   "execution_count": null,
   "metadata": {},
   "outputs": [],
   "source": []
  },
  {
   "cell_type": "code",
   "execution_count": null,
   "metadata": {},
   "outputs": [],
   "source": []
  },
  {
   "cell_type": "code",
   "execution_count": 28,
   "metadata": {},
   "outputs": [
    {
     "ename": "NameError",
     "evalue": "name 'stop' is not defined",
     "output_type": "error",
     "traceback": [
      "\u001b[0;31m---------------------------------------------------------------------------\u001b[0m",
      "\u001b[0;31mNameError\u001b[0m                                 Traceback (most recent call last)",
      "\u001b[0;32m<ipython-input-28-4f76a9dad686>\u001b[0m in \u001b[0;36m<module>\u001b[0;34m\u001b[0m\n\u001b[0;32m----> 1\u001b[0;31m \u001b[0mstop\u001b[0m\u001b[0;34m\u001b[0m\u001b[0;34m\u001b[0m\u001b[0m\n\u001b[0m",
      "\u001b[0;31mNameError\u001b[0m: name 'stop' is not defined"
     ]
    }
   ],
   "source": [
    "stop"
   ]
  },
  {
   "cell_type": "code",
   "execution_count": null,
   "metadata": {},
   "outputs": [],
   "source": []
  },
  {
   "cell_type": "code",
   "execution_count": null,
   "metadata": {},
   "outputs": [],
   "source": []
  },
  {
   "cell_type": "code",
   "execution_count": null,
   "metadata": {},
   "outputs": [],
   "source": []
  },
  {
   "cell_type": "code",
   "execution_count": null,
   "metadata": {},
   "outputs": [],
   "source": []
  },
  {
   "cell_type": "code",
   "execution_count": null,
   "metadata": {},
   "outputs": [],
   "source": []
  },
  {
   "cell_type": "code",
   "execution_count": null,
   "metadata": {},
   "outputs": [],
   "source": []
  },
  {
   "cell_type": "code",
   "execution_count": null,
   "metadata": {},
   "outputs": [],
   "source": []
  },
  {
   "cell_type": "code",
   "execution_count": null,
   "metadata": {
    "scrolled": false
   },
   "outputs": [],
   "source": [
    "hm_src_fps = [] ; hm_dest_fps = []\n",
    "sm_src_fps = [] ; sm_dest_fps = []\n",
    "for nation, league in zip(nations, leagues):\n",
    "    print(nation, league)\n",
    "    for season in seasons:\n",
    "        src_stub = RAW_DATA_DIR / 'football-data' / nation / league / season / 'who-scored-com'\n",
    "        dest_stub = CLEANED_DATA_DIR / 'whoscored-com' / nation / league / season \n",
    "#         print(stub)\n",
    "        hm_src_dir = src_stub / 'game-heatmaps'\n",
    "        sm_src_dir = src_stub / 'game-shotmaps'\n",
    "        if hm_src_dir.exists() and len(list(hm_src_dir.glob('*.png'))) > 0:\n",
    "            hm_src_fps_sublist = list(hm_src_dir.glob('*.png'))\n",
    "            hm_src_fps.append(hm_src_fps_sublist)\n",
    "            hm_src_fps.append(list(hm_src_dir.glob('*.png')))\n",
    "            #print(hm_src_fps[0:3], '\\n')\n",
    "            hm_dest_fps.append([dest_stub / 'heatmaps' / fp.name for fp in hm_src_fps_sublist])\n",
    "            \n",
    "        if sm_src_dir.exists() and len(list(sm_src_dir.glob('*.png'))) > 0:\n",
    "            sm_src_fps_sublist = list(sm_src_dir.glob('*.png'))\n",
    "            sm_src_fps.append(sm_src_fps_sublist)\n",
    "            sm_src_fps.append(list(sm_src_dir.glob('*.png')))\n",
    "            #print(hm_src_fps[0:3], '\\n')\n",
    "            sm_dest_fps.append([dest_stub / 'shotmaps' / fp.name for fp in sm_src_fps_sublist])\n",
    "        \n",
    "# hm_dest_fps[0:3]"
   ]
  },
  {
   "cell_type": "code",
   "execution_count": null,
   "metadata": {},
   "outputs": [],
   "source": [
    "def copy_data(src_fps, dest_fps):\n",
    "    \"\"\"\n",
    "    Accepts a list of strings representing filepaths\n",
    "    Copies the files if they do not exist, otherwise counts if already there\n",
    "    Returns the number of files copied, and number of files already existing\n",
    "    \"\"\"\n",
    "#     dest_fps = []\n",
    "#     for src_fp in src_fps:\n",
    "#         #dest_fps.append(src_fp.replace(str(env_dir), str(project_dir)))\n",
    "    n_copied = 0\n",
    "    n_exist = 0\n",
    "    for src_fp, dest_fp in zip(src_fps, dest_fps):\n",
    "#         src_fp = pathlib.Path(src_fp)\n",
    "#         dest_fp = pathlib.Path(dest_fp)\n",
    "        if not dest_fp.exists():\n",
    "            dest_fp.parent.mkdir(parents=True, exist_ok=True)\n",
    "            # Copy the original files without touching them\n",
    "            dest_fp.write_bytes(src_fp.read_bytes())\n",
    "            n_copied += 1\n",
    "        else:\n",
    "            n_exist += 1\n",
    "    return n_copied, n_exist"
   ]
  },
  {
   "cell_type": "code",
   "execution_count": null,
   "metadata": {},
   "outputs": [],
   "source": [
    "hm_src_flatlist = [item for sublist in hm_src_fps for item in sublist]\n",
    "hm_dest_flatlist = [item for sublist in hm_dest_fps for item in sublist]\n",
    "n_copied, n_exist = copy_data(hm_src_flatlist, hm_dest_flatlist)\n",
    "print(n_copied, n_exist)"
   ]
  },
  {
   "cell_type": "code",
   "execution_count": null,
   "metadata": {},
   "outputs": [],
   "source": [
    "sm_src_flatlist = [item for sublist in sm_src_fps for item in sublist]\n",
    "sm_dest_flatlist = [item for sublist in sm_dest_fps for item in sublist]\n",
    "n_copied, n_exist = copy_data(sm_src_flatlist, sm_dest_flatlist)\n",
    "print(n_copied, n_exist)"
   ]
  },
  {
   "cell_type": "code",
   "execution_count": null,
   "metadata": {},
   "outputs": [],
   "source": []
  },
  {
   "cell_type": "code",
   "execution_count": null,
   "metadata": {},
   "outputs": [],
   "source": [
    "df1 = df.copy(deep=True)\n",
    "\n",
    "def copy_src_to_dest(src_fp, dest_fp):\n",
    "    if not dest_fp.exists():\n",
    "        dest_fp.parent.mkdir(parents=True, exist_ok=True)\n",
    "        # Copy the original files without touching them\n",
    "        dest_fp.write_bytes(src_fp.read_bytes())\n",
    "\n",
    "def form_image_fp(row, league=None, image_type=None):\n",
    "    row = row.copy(deep=True)\n",
    "    season = row.name[0]\n",
    "    date = str(row.name[1].date())\n",
    "    h = row['h']\n",
    "    a = row['a']\n",
    "    key = season + '__' + 'date' + '__' + h + '__' + a\n",
    "    src_fp = fps[key]\n",
    "    ext = src_fp.suffix\n",
    "    dest_fp = INTERIM_DATA_DIR / league/ 'heatmaps' / str(key.replace('date', date) + src_fp.suffix) \n",
    "    # copy_src_to_dest(src_fp, dest_fp)\n",
    "    rel_path = str(dest_fp).replace(str(PROJECT_DIR), '')\n",
    "    return rel_path\n",
    "    \n",
    "df1.loc[:, 'heatmap_path'] = df1.apply(form_image_fp,\n",
    "                                       league=league,\n",
    "                                       image_type='heatmaps', axis=1)\n",
    "df1.head()"
   ]
  },
  {
   "cell_type": "code",
   "execution_count": null,
   "metadata": {},
   "outputs": [],
   "source": [
    "stop"
   ]
  },
  {
   "cell_type": "code",
   "execution_count": null,
   "metadata": {},
   "outputs": [],
   "source": []
  },
  {
   "cell_type": "code",
   "execution_count": null,
   "metadata": {},
   "outputs": [],
   "source": []
  },
  {
   "cell_type": "code",
   "execution_count": null,
   "metadata": {},
   "outputs": [],
   "source": []
  },
  {
   "cell_type": "code",
   "execution_count": null,
   "metadata": {},
   "outputs": [],
   "source": [
    "league = 'english-premier-league'\n",
    "fn = str('football-data-' + league + '.csv')\n",
    "df = pd.read_csv(INTERIM_DATA_DIR / league / fn, parse_dates=['date'], index_col=None)\n",
    "df.head()"
   ]
  },
  {
   "cell_type": "code",
   "execution_count": null,
   "metadata": {},
   "outputs": [],
   "source": [
    "save_file_name =  str('merge-1-' + league + '.csv')"
   ]
  },
  {
   "cell_type": "markdown",
   "metadata": {},
   "source": [
    "## Standardize Team Names"
   ]
  },
  {
   "cell_type": "code",
   "execution_count": null,
   "metadata": {},
   "outputs": [],
   "source": [
    "epl_names_d = {'villa': 'aston-villa',\n",
    "              'blackburn': 'blackburn-rovers',\n",
    "              'birmingham': 'birmingham-city',\n",
    "              'bolton': 'bolton-wanderers',\n",
    "              'brighton': 'brighton-and-hove-albion',\n",
    "              'brighton-&-Hove Albion': ' brighton-and-hove-albion',\n",
    "              'cardiff': 'cardiff-city',\n",
    "              'huddersfield': 'huddersfield-town',\n",
    "              'hull': 'hull-city',\n",
    "              'leicester': 'leicester-city',\n",
    "              'leicester-cty': 'leicester-city',\n",
    "              'man-city': 'manchester-city',\n",
    "              'man-u': 'manchester-united',\n",
    "              'man-utd': 'manchester-united',\n",
    "              'manchester-utd': 'manchester-united',\n",
    "              'man-united': 'manchester-united',\n",
    "              'boro': 'middlesborough',\n",
    "              'newcastle': 'newcastle-united',\n",
    "              'newcastle-utd': 'newcastle-united',\n",
    "              'norwich': 'norwich-city',\n",
    "              'qpr': 'queens-park-rangers',\n",
    "              'stoke': 'stoke-city',\n",
    "              'swansea': 'swansea-city',\n",
    "              'tottenham': 'tottenham-hotspur',\n",
    "              'west-brom': 'west-bromwich-albion',\n",
    "              'west-ham': 'west-ham-united',\n",
    "              'wigan': 'wigan-athletic',\n",
    "              'wolves': 'wolverhampton-wanderers'}"
   ]
  },
  {
   "cell_type": "code",
   "execution_count": null,
   "metadata": {},
   "outputs": [],
   "source": [
    "fn = 'english-premier-league_std_name_dict.pkl'\n",
    "\n",
    "with open(REF_DATA_DIR / fn, 'wb') as handle:\n",
    "    pickle.dump(epl_names_d, handle, protocol=pickle.HIGHEST_PROTOCOL)\n",
    "    "
   ]
  },
  {
   "cell_type": "code",
   "execution_count": null,
   "metadata": {},
   "outputs": [],
   "source": [
    "with open(REF_DATA_DIR / fn, 'rb') as handle:\n",
    "    std_names_d = pickle.load(handle)"
   ]
  },
  {
   "cell_type": "code",
   "execution_count": null,
   "metadata": {},
   "outputs": [],
   "source": [
    "# Standardize the team names\n",
    "df['h'] = df['h'].str.strip().str.lower().str.replace(' ', '-')\n",
    "df.loc[df['h'].isin(std_names_d.keys()), 'h'] = df['h'].map(std_names_d)\n",
    "df['a'] = df['a'].str.strip().str.lower().str.replace(' ', '-')\n",
    "df.loc[df['a'].isin(std_names_d.keys()), 'a'] = df['a'].map(std_names_d)"
   ]
  },
  {
   "cell_type": "code",
   "execution_count": null,
   "metadata": {},
   "outputs": [],
   "source": [
    "df.head()"
   ]
  },
  {
   "cell_type": "code",
   "execution_count": null,
   "metadata": {},
   "outputs": [],
   "source": [
    "df.set_index(['season', 'date'], inplace=True)\n",
    "df.head()"
   ]
  },
  {
   "cell_type": "code",
   "execution_count": null,
   "metadata": {},
   "outputs": [],
   "source": [
    "### Name and Copy Heatmaps and Shotmaps"
   ]
  },
  {
   "cell_type": "code",
   "execution_count": null,
   "metadata": {},
   "outputs": [],
   "source": [
    "country = 'england'\n",
    "league_dir = 'premier'"
   ]
  },
  {
   "cell_type": "code",
   "execution_count": null,
   "metadata": {
    "scrolled": false
   },
   "outputs": [],
   "source": [
    "heatmap_fps = []\n",
    "heatmap_dirs = [d for d in pathlib.Path(RAW_DATA_DIR /'soccer' / country / league_dir).rglob('**/*')\n",
    "               if d.is_dir() and str(d).split('/')[-1] =='heatmaps']\n",
    "for heatmap_dir in heatmap_dirs:\n",
    "    heatmaps = [fp for fp in heatmap_dir.iterdir() if fp.is_file()]\n",
    "    heatmap_fps.extend(heatmaps)"
   ]
  },
  {
   "cell_type": "code",
   "execution_count": null,
   "metadata": {
    "scrolled": false
   },
   "outputs": [],
   "source": [
    "shotmap_fps = []\n",
    "shotmap_dirs = [d for d in pathlib.Path(RAW_DATA_DIR /'soccer'/ country / league_dir).rglob('**/*')\n",
    "               if d.is_dir() and str(d).split('/')[-1] =='shotmaps']\n",
    "for shotmap_dir in shotmap_dirs:\n",
    "    shotmaps = [fp for fp in shotmap_dir.iterdir() if fp.is_file()]\n",
    "    shotmap_fps.extend(shotmaps)"
   ]
  },
  {
   "cell_type": "code",
   "execution_count": null,
   "metadata": {},
   "outputs": [],
   "source": [
    "fps = {}\n",
    "for heatmap_fp in heatmap_fps:\n",
    "#     print(heatmap_fp)\n",
    "    h = str(heatmap_fp).split('__')[0].split('/')[-1].lower().replace(' ', '-')\n",
    "    a = str(heatmap_fp).split('__')[1].split('/')[0].split('.')[0].lower().replace(' ', '-')\n",
    "    if h in std_names_d.keys():\n",
    "        h = std_names_d[h]\n",
    "    if a in std_names_d.keys():\n",
    "        a = std_names_d[a]\n",
    "    season = str(heatmap_fp.parent.parent).split('/')[-1] \n",
    "    fps[season + '__' + 'date' + '__' + h + '__' + a] = heatmap_fp\n",
    "for k in list(fps.keys())[0:5]:\n",
    "    print(f'{k} : {fps[k]}')\n",
    "#print(fps.items()[0:5])"
   ]
  },
  {
   "cell_type": "code",
   "execution_count": null,
   "metadata": {},
   "outputs": [],
   "source": [
    "fpss = {}\n",
    "for shotmap_fp in shotmap_fps:\n",
    "#     print(heatmap_fp)\n",
    "    h = str(shotmap_fp).split('__')[0].split('/')[-1].lower().replace(' ', '-')\n",
    "    a = str(shotmap_fp).split('__')[1].split('/')[0].split('.')[0].lower().replace(' ', '-')\n",
    "    if h in std_names_d.keys():\n",
    "        h = std_names_d[h]\n",
    "    if a in std_names_d.keys():\n",
    "        a = std_names_d[a]\n",
    "    season = str(shotmap_fp.parent.parent).split('/')[-1] \n",
    "    fpss[season + '__' + 'date' + '__' + h + '__' + a] = shotmap_fp\n",
    "\n",
    "    # Take a peek at the original shotmap filepaths \n",
    "for k in list(fpss.keys())[0:5]:\n",
    "    print(f'{k} : {fpss[k]}')"
   ]
  },
  {
   "cell_type": "markdown",
   "metadata": {},
   "source": [
    "## Merge - Get Image Paths into DataFrame"
   ]
  },
  {
   "cell_type": "code",
   "execution_count": null,
   "metadata": {},
   "outputs": [],
   "source": [
    "df1 = df.copy(deep=True)\n",
    "\n",
    "def copy_src_to_dest(src_fp, dest_fp):\n",
    "    if not dest_fp.exists():\n",
    "        dest_fp.parent.mkdir(parents=True, exist_ok=True)\n",
    "        # Copy the original files without touching them\n",
    "        dest_fp.write_bytes(src_fp.read_bytes())\n",
    "\n",
    "def form_image_fp(row, league=None, image_type=None):\n",
    "    row = row.copy(deep=True)\n",
    "    season = row.name[0]\n",
    "    date = str(row.name[1].date())\n",
    "    h = row['h']\n",
    "    a = row['a']\n",
    "    key = season + '__' + 'date' + '__' + h + '__' + a\n",
    "    src_fp = fps[key]\n",
    "    ext = src_fp.suffix\n",
    "    dest_fp = INTERIM_DATA_DIR / league/ 'heatmaps' / str(key.replace('date', date) + src_fp.suffix) \n",
    "    copy_src_to_dest(src_fp, dest_fp)\n",
    "    rel_path = str(dest_fp).replace(str(PROJECT_DIR), '')\n",
    "    return rel_path\n",
    "    \n",
    "df1.loc[:, 'heatmap_path'] = df1.apply(form_image_fp,\n",
    "                                       league=league,\n",
    "                                       image_type='heatmaps', axis=1)\n",
    "df1.head()\n"
   ]
  },
  {
   "cell_type": "code",
   "execution_count": null,
   "metadata": {},
   "outputs": [],
   "source": [
    "def form_image_fp(row, league=None, image_type=None):\n",
    "    row = row.copy(deep=True)\n",
    "    season = row.name[0]\n",
    "    date = str(row.name[1].date())\n",
    "    h = row['h']\n",
    "    a = row['a']\n",
    "    key = season + '__' + 'date' + '__' + h + '__' + a\n",
    "    src_fp = fpss[key]\n",
    "    ext = src_fp.suffix\n",
    "    dest_fp = INTERIM_DATA_DIR / league/ 'shotmaps' / str(key.replace('date', date) + src_fp.suffix) \n",
    "    copy_src_to_dest(src_fp, dest_fp)\n",
    "    rel_path = str(dest_fp).replace(str(PROJECT_DIR), '')\n",
    "    return rel_path\n",
    "    \n",
    "df1.loc[:, 'shotmap_path'] = df1.apply(form_image_fp,\n",
    "                                       league=league,\n",
    "                                       image_type='shotmaps', axis=1)\n",
    "df1.head()\n"
   ]
  },
  {
   "cell_type": "code",
   "execution_count": null,
   "metadata": {},
   "outputs": [],
   "source": [
    "df1.iloc[0].loc['heatmap_path']"
   ]
  },
  {
   "cell_type": "code",
   "execution_count": null,
   "metadata": {},
   "outputs": [],
   "source": [
    "df1.iloc[0].loc['shotmap_path']"
   ]
  },
  {
   "cell_type": "code",
   "execution_count": null,
   "metadata": {},
   "outputs": [],
   "source": [
    "df1.to_csv(INTERIM_DATA_DIR / league / save_file_name, index=True)"
   ]
  },
  {
   "cell_type": "code",
   "execution_count": null,
   "metadata": {},
   "outputs": [],
   "source": [
    "## Tidy up code - leave image paths as relative to project dir"
   ]
  },
  {
   "cell_type": "code",
   "execution_count": null,
   "metadata": {},
   "outputs": [],
   "source": []
  },
  {
   "cell_type": "code",
   "execution_count": null,
   "metadata": {},
   "outputs": [],
   "source": []
  },
  {
   "cell_type": "code",
   "execution_count": null,
   "metadata": {},
   "outputs": [],
   "source": []
  },
  {
   "cell_type": "code",
   "execution_count": null,
   "metadata": {},
   "outputs": [],
   "source": []
  }
 ],
 "metadata": {
  "kernelspec": {
   "display_name": "Python 3",
   "language": "python",
   "name": "python3"
  },
  "language_info": {
   "codemirror_mode": {
    "name": "ipython",
    "version": 3
   },
   "file_extension": ".py",
   "mimetype": "text/x-python",
   "name": "python",
   "nbconvert_exporter": "python",
   "pygments_lexer": "ipython3",
   "version": "3.7.3"
  }
 },
 "nbformat": 4,
 "nbformat_minor": 2
}
