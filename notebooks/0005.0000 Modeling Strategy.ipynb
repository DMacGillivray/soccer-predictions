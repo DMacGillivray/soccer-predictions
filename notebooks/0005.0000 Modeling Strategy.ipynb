{
 "cells": [
  {
   "cell_type": "markdown",
   "metadata": {},
   "source": [
    "# 0005.0000 Modeling Strategy"
   ]
  },
  {
   "cell_type": "code",
   "execution_count": 1,
   "metadata": {},
   "outputs": [],
   "source": [
    "import itertools\n",
    "import numpy as np\n",
    "import pandas as pd\n",
    "\n",
    "np.set_printoptions(precision=2)\n",
    "\n",
    "import matplotlib.pyplot as plt\n",
    "%matplotlib inline"
   ]
  },
  {
   "cell_type": "markdown",
   "metadata": {},
   "source": [
    "Feature Nomenclature & Time Series to Supervised\n",
    "\n",
    "https://machinelearningmastery.com/convert-time-series-supervised-learning-problem-python/\n",
    "\n",
    "https://machinelearningmastery.com/time-series-forecasting-supervised-learning/"
   ]
  },
  {
   "cell_type": "markdown",
   "metadata": {},
   "source": [
    "DataFrame in time sequence where index 0 is the earliest game, and index max is the latest game\n",
    "\n",
    "There are 2 teams per game `h` and `a`, where h indicates the team played at home, and a - away.\n",
    "\n",
    "Each team has generated a feature by the end of the game - `h_feat`, and `a_feat`\n",
    "\n",
    "There could be multiple features, meaning a double  set for each feature\n",
    "\n",
    "Each team has a home game record and an away game record\n",
    "\n",
    "So, there are 4 records to get for each feature\n",
    "+ home team home record `h_h`\n",
    "+ home team away record `h_a`\n",
    "+ away team home record `a_h`\n",
    "+ away team away record `a_a`\n",
    "\n",
    "Results presented as 0, -1, -2 ... -n where 0 referes to the current game. This column can be used as a predictor variable for classification, or used as a classification response, or dropped and just the previous game features used for prediction\n"
   ]
  },
  {
   "cell_type": "markdown",
   "metadata": {},
   "source": [
    "### Interpretation Note\n",
    "\n",
    "`h_h_feat_-1` means:\n",
    "+ (`h`) home team \n",
    "+ (`h`) home game records \n",
    "+ (`feat`) feature value in \n",
    "+ (`-1`) last game"
   ]
  },
  {
   "cell_type": "code",
   "execution_count": null,
   "metadata": {},
   "outputs": [],
   "source": [
    "df = pd.DataFrame({'h':['A','C','B','E','A','B','L','M','B'],\n",
    "                  'a':['B','D','A','F','J','K','B','A','S'],\n",
    "                  'h_firstfeat':[0,1,2,3,4,5,6,7,8],\n",
    "                  'a_firstfeat':[9,10,11,12,13,14,15,16,17],\n",
    "                  'h_secondfeat':[18,19,20,21,22,23,24,25,26],\n",
    "                  'a_secondfeat':[27,28,29,30,31,32,33,34,35]})\n",
    "df"
   ]
  },
  {
   "cell_type": "code",
   "execution_count": null,
   "metadata": {},
   "outputs": [],
   "source": []
  },
  {
   "cell_type": "code",
   "execution_count": null,
   "metadata": {},
   "outputs": [],
   "source": []
  },
  {
   "cell_type": "code",
   "execution_count": null,
   "metadata": {},
   "outputs": [],
   "source": []
  },
  {
   "cell_type": "code",
   "execution_count": null,
   "metadata": {},
   "outputs": [],
   "source": []
  },
  {
   "cell_type": "code",
   "execution_count": null,
   "metadata": {},
   "outputs": [],
   "source": []
  },
  {
   "cell_type": "code",
   "execution_count": null,
   "metadata": {},
   "outputs": [],
   "source": []
  },
  {
   "cell_type": "code",
   "execution_count": null,
   "metadata": {},
   "outputs": [],
   "source": []
  },
  {
   "cell_type": "code",
   "execution_count": null,
   "metadata": {},
   "outputs": [],
   "source": []
  },
  {
   "cell_type": "code",
   "execution_count": null,
   "metadata": {},
   "outputs": [],
   "source": []
  },
  {
   "cell_type": "code",
   "execution_count": null,
   "metadata": {},
   "outputs": [],
   "source": []
  },
  {
   "cell_type": "code",
   "execution_count": null,
   "metadata": {},
   "outputs": [],
   "source": []
  },
  {
   "cell_type": "code",
   "execution_count": null,
   "metadata": {},
   "outputs": [],
   "source": []
  },
  {
   "cell_type": "code",
   "execution_count": null,
   "metadata": {},
   "outputs": [],
   "source": []
  },
  {
   "cell_type": "code",
   "execution_count": null,
   "metadata": {},
   "outputs": [],
   "source": []
  }
 ],
 "metadata": {
  "kernelspec": {
   "display_name": "Python 3",
   "language": "python",
   "name": "python3"
  },
  "language_info": {
   "codemirror_mode": {
    "name": "ipython",
    "version": 3
   },
   "file_extension": ".py",
   "mimetype": "text/x-python",
   "name": "python",
   "nbconvert_exporter": "python",
   "pygments_lexer": "ipython3",
   "version": "3.7.3"
  }
 },
 "nbformat": 4,
 "nbformat_minor": 2
}
