{
 "cells": [
  {
   "cell_type": "markdown",
   "metadata": {},
   "source": [
    "# 0003.001 Data Wrangling - Scope Decision & Impact"
   ]
  },
  {
   "cell_type": "code",
   "execution_count": 1,
   "metadata": {},
   "outputs": [],
   "source": [
    "import pathlib\n",
    "import os\n",
    "import sys\n",
    "import pickle\n",
    "\n",
    "import numpy as np\n",
    "\n",
    "# Load the \"autoreload\" extension\n",
    "%load_ext autoreload\n",
    "# always reload modules marked with \"%aimport\"\n",
    "%autoreload 1\n",
    "#add the 'src' directory to path to import modules\n",
    "PROJECT_DIR = pathlib.Path.cwd().resolve().parent\n",
    "sys.path.append(str(PROJECT_DIR))\n",
    "\n",
    "from src.utilities.utilities import DisplayablePath\n",
    "from src.data.pfuncs import (load_pickle,\n",
    "                             get_filepaths,\n",
    "                             read_csvs_to_dfs,\n",
    "                             get_actual_scope_dict)\n",
    "\n",
    "DATA_DIR = PROJECT_DIR / 'data'\n",
    "REF_DIR = DATA_DIR / 'reference'\n",
    "SCOPED_DIR = DATA_DIR / '02-scoped'\n",
    "STACKED_DIR = DATA_DIR / '06-stacked-seasons'"
   ]
  },
  {
   "cell_type": "markdown",
   "metadata": {},
   "source": [
    "## Specified Scope Data"
   ]
  },
  {
   "cell_type": "code",
   "execution_count": 2,
   "metadata": {},
   "outputs": [
    {
     "name": "stdout",
     "output_type": "stream",
     "text": [
      "nations\n",
      "['germany', 'england', 'spain', 'italy', 'france', 'england', 'germany', 'netherlands', 'russian-federation', 'scotland', 'portugal', 'switzerland', 'belgium', 'turkey', 'poland', 'england'] \n",
      "\n",
      "leagues\n",
      "['bundesliga', 'english-premier-league', 'la-liga', 'serie-a', 'ligue-1', 'english-championship', 'bundesliga-2', 'eredivisie', 'premier-league', 'premiership', 'primeira-liga', 'super-league', 'first-division-a', 'super-lig', 'ekstraklasa', 'one'] \n",
      "\n",
      "seasons\n",
      "['2000-2001', '2001-2002', '2002-2003', '2003-2004', '2004-2005', '2005-2006', '2006-2007', '2007-2008', '2008-2009', '2009-2010', '2010-2011', '2011-2012', '2012-2013', '2013-2014', '2014-2015', '2015-2016', '2016-2017', '2017-2018'] \n",
      "\n"
     ]
    }
   ],
   "source": [
    "scope_dict = load_pickle(REF_DIR / 'scope-dict')\n",
    "for k, v in scope_dict.items():\n",
    "    print(k)\n",
    "    print(v , '\\n')"
   ]
  },
  {
   "cell_type": "markdown",
   "metadata": {},
   "source": [
    "## Scope of Data at Start of Data Wrangling and Cleaning Process"
   ]
  },
  {
   "cell_type": "code",
   "execution_count": 3,
   "metadata": {},
   "outputs": [],
   "source": [
    "def display_scope_dict(scope_dict):\n",
    "    print('\\nNation-League Combo:')\n",
    "    for nation, league in zip(scope_dict_start['nations'], scope_dict_start['leagues']):\n",
    "\n",
    "        print(f'{nation}:    {league}')\n",
    "    print('\\nSeasons:')\n",
    "    print(scope_dict_start['seasons'])\n",
    "    print('Note: All seasons may not be avaialable for all leagues')"
   ]
  },
  {
   "cell_type": "code",
   "execution_count": 4,
   "metadata": {},
   "outputs": [
    {
     "name": "stdout",
     "output_type": "stream",
     "text": [
      "\n",
      "Nation-League Combo:\n",
      "belgium:    first-division-a\n",
      "england:    english-championship\n",
      "england:    english-premier-league\n",
      "england:    one\n",
      "france:    ligue-1\n",
      "germany:    bundesliga\n",
      "germany:    bundesliga-2\n",
      "italy:    serie-a\n",
      "netherlands:    eredivisie\n",
      "poland:    ekstraklasa\n",
      "portugal:    primeira-liga\n",
      "russian-federation:    premier-league\n",
      "scotland:    premiership\n",
      "spain:    la-liga\n",
      "switzerland:    super-league\n",
      "turkey:    super-lig\n",
      "\n",
      "Seasons:\n",
      "['2000-2001', '2001-2002', '2003-2004', '2004-2005', '2005-2006', '2006-2007', '2007-2008', '2008-2009', '2009-2010', '2010-2011', '2011-2012', '2012-2013', '2013-2014', '2014-2015', '2015-2016', '2016-2017', '2017-2018']\n",
      "Note: All seasons may not be avaialable for all leagues\n"
     ]
    }
   ],
   "source": [
    "scoped_fps = get_filepaths(SCOPED_DIR)\n",
    "scope_dict_start = get_actual_scope_dict(scoped_fps)\n",
    "display_scope_dict(scope_dict)"
   ]
  },
  {
   "cell_type": "markdown",
   "metadata": {},
   "source": [
    "## Scope of Data at End of Data Wrangling & Cleaning - Before Feature Engineering"
   ]
  },
  {
   "cell_type": "code",
   "execution_count": 5,
   "metadata": {},
   "outputs": [
    {
     "name": "stdout",
     "output_type": "stream",
     "text": [
      "/media/david/5C14F53A14F517AA/code/ana_py37/projects/soccer-predictions/data/06-stacked-seasons\r\n",
      "└── england\r\n",
      "    └── english-premier-league\r\n",
      "        └── 2007-2008__2017-2018.csv\r\n",
      "\r\n",
      "2 directories, 1 file\r\n"
     ]
    }
   ],
   "source": [
    "!tree $STACKED_DIR --filelimit 100 -n"
   ]
  },
  {
   "cell_type": "code",
   "execution_count": null,
   "metadata": {},
   "outputs": [],
   "source": []
  }
 ],
 "metadata": {
  "kernelspec": {
   "display_name": "Python 3",
   "language": "python",
   "name": "python3"
  },
  "language_info": {
   "codemirror_mode": {
    "name": "ipython",
    "version": 3
   },
   "file_extension": ".py",
   "mimetype": "text/x-python",
   "name": "python",
   "nbconvert_exporter": "python",
   "pygments_lexer": "ipython3",
   "version": "3.7.3"
  }
 },
 "nbformat": 4,
 "nbformat_minor": 2
}
