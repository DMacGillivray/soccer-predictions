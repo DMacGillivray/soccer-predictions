{
 "cells": [
  {
   "cell_type": "markdown",
   "metadata": {},
   "source": [
    "# Copy Whoscored Images"
   ]
  },
  {
   "cell_type": "code",
   "execution_count": 1,
   "metadata": {},
   "outputs": [],
   "source": [
    "import pathlib\n",
    "import sys\n",
    "import pickle\n",
    "\n",
    "from typing import List\n",
    "\n",
    "import numpy as np\n",
    "import pandas as pd\n",
    "\n",
    "# Load the \"autoreload\" extension\n",
    "%load_ext autoreload\n",
    "# always reload modules marked with \"%aimport\"\n",
    "%autoreload 1\n",
    "# add the 'src' directory to path to import modules\n",
    "src_dir = pathlib.Path().cwd().resolve().parent / 'src'\n",
    "#src_dir = os.path.join(os.getcwd(), os.pardir, 'src')\n",
    "sys.path.append(src_dir)\n",
    "# import my class code from the source\n",
    "# %aimport src-dir.filename\n",
    "\n",
    "pd.set_option('display.max_columns', 500)\n",
    "pd.set_option('display.width', 1000)\n",
    "\n",
    "PROJECT_DIR = pathlib.Path.cwd().resolve().parent\n",
    "#DATA_DIR = PROJECT_DIR / 'data'\n",
    "RAW_DATA_DIR = PROJECT_DIR / 'data' / '01-raw'\n",
    "SCOPED_DATA_DIR = PROJECT_DIR / 'data' / '02-scoped'\n",
    "#INTERIM_DATA_DIR = DATA_DIR / '02-interim' / 'football-data'\n",
    "#REF_DATA_DIR = DATA_DIR / 'reference'"
   ]
  },
  {
   "cell_type": "raw",
   "metadata": {},
   "source": [
    "## Select League Data"
   ]
  },
  {
   "cell_type": "code",
   "execution_count": 2,
   "metadata": {},
   "outputs": [],
   "source": [
    "scope_data = {'nations': ['germany', 'england', 'spain', 'italy',\n",
    "          'france', 'england', 'germany', 'netherlands',\n",
    "          'russian-federation', 'scotland', 'portugal', 'switzerland',\n",
    "          'belgium', 'turkey', 'poland', 'england'],\n",
    "              'leagues': ['bundesliga', 'english-premier-league', 'la-liga', 'serie-a',\n",
    "           'ligue-1', 'english-championship', 'bundesliga-2', 'eredivisie',\n",
    "           'premier-league', 'premiership', 'primeira-liga', 'super-league',\n",
    "           'first-division-a', 'super-lig', 'ekstraklasa', 'one'],\n",
    "              'seasons': ['2000-2001', '2001-2002', '2002-2003', '2003-2004',\n",
    "           '2004-2005', '2005-2006', '2006-2007', '2007-2008',\n",
    "           '2008-2009', '2009-2010', '2010-2011', '2011-2012',\n",
    "           '2012-2013', '2013-2014', '2014-2015', '2015-2016',\n",
    "           '2016-2017', '2017-2018']}"
   ]
  },
  {
   "cell_type": "code",
   "execution_count": 3,
   "metadata": {},
   "outputs": [],
   "source": [
    "def make_whoscored_image_src_fps(top_level_dir, scope_data, image_type='game-heatmaps'):\n",
    "    \n",
    "    src_fps = []\n",
    "    for nation, league in zip(scope_data['nations'], scope_data['leagues']):\n",
    "        for season in scope_data['seasons']:\n",
    "            src_stub = top_level_dir / 'football-data' / nation / league / season / 'who-scored-com'\n",
    "            src_dir = src_stub / image_type\n",
    "            src_fp_sublist = list(src_dir.glob('*.png'))\n",
    "            if src_dir.exists() and len(src_fp_sublist) > 0:\n",
    "                src_fps.extend(src_fp_sublist)\n",
    "   \n",
    "    return src_fps\n",
    "            \n",
    "def make_whoscored_image_dest_fps(src_top_level_dir, dest_top_level_dir, src_fps, image_type='game-heatmaps'):\n",
    "    # src looks like\n",
    "    # /media/david/5C14F53A14F517AA/code/ana_py37/projects/soccer-predictions/data\n",
    "    #/01-raw/football-data/germany/bundesliga/2009-2010/who-scored-com/game-heatmaps/Bayern__Bochum.png\n",
    "    \n",
    "    # dest shoulkd look like\n",
    "    #'/media/david/5C14F53A14F517AA/code/ana_py37/projects/soccer-predictions/data\n",
    "    #/02-scoped/whoscored-com-heatmaps/germany/bundesliga/2009-2010/Bayern__Bochum.png'\n",
    "   \n",
    "    dest_fps = []\n",
    "    for src_fp in src_fps:\n",
    "        src_fp_parts = str(src_fp).split('/')\n",
    "        source_parts = src_fp_parts[-3].split('-')\n",
    "        source = source_parts[0] + source_parts[1] + '-' + source_parts[-1] + '-' + image_type.split('-')[-1]\n",
    "        nation = src_fp_parts[-6]\n",
    "        league = src_fp_parts[-5]\n",
    "        season = src_fp_parts[-4]\n",
    "        dest_fp = dest_top_level_dir /source / nation / league / season / src_fp.name\n",
    "        dest_fps.append(dest_fp)\n",
    "        \n",
    "    return dest_fps\n",
    "\n",
    "def copy_data(src_fps, dest_fps):\n",
    "    \"\"\"\n",
    "    Accepts a list of strings representing filepaths\n",
    "    Copies the files if they do not exist, otherwise counts if already there\n",
    "    Returns the number of files copied, and number of files already existing\n",
    "    \"\"\"\n",
    "    n_copied = 0\n",
    "    n_exist = 0\n",
    "    for src_fp, dest_fp in zip(src_fps, dest_fps):\n",
    "        if not dest_fp.exists():\n",
    "            dest_fp.parent.mkdir(parents=True, exist_ok=True)\n",
    "            # Copy the original files without touching them\n",
    "            dest_fp.write_bytes(src_fp.read_bytes())\n",
    "            n_copied += 1\n",
    "        else:\n",
    "            n_exist += 1\n",
    "    return n_copied, n_exist\n",
    "\n",
    "\n",
    "for image_type in ['game-heatmaps', 'game-shotmaps']:\n",
    "    src_fps = make_whoscored_image_src_fps(RAW_DATA_DIR,\n",
    "                                           scope_data,\n",
    "                                           image_type=image_type)\n",
    "\n",
    "    dest_fps = make_whoscored_image_dest_fps(RAW_DATA_DIR,\n",
    "                                             SCOPED_DATA_DIR,\n",
    "                                             src_fps,\n",
    "                                             image_type=image_type)\n",
    "    n_copied, n_exist = copy_data(src_fps, dest_fps)\n"
   ]
  },
  {
   "cell_type": "code",
   "execution_count": 4,
   "metadata": {},
   "outputs": [
    {
     "ename": "NameError",
     "evalue": "name 'stop' is not defined",
     "output_type": "error",
     "traceback": [
      "\u001b[0;31m---------------------------------------------------------------------------\u001b[0m",
      "\u001b[0;31mNameError\u001b[0m                                 Traceback (most recent call last)",
      "\u001b[0;32m<ipython-input-4-4f76a9dad686>\u001b[0m in \u001b[0;36m<module>\u001b[0;34m\u001b[0m\n\u001b[0;32m----> 1\u001b[0;31m \u001b[0mstop\u001b[0m\u001b[0;34m\u001b[0m\u001b[0;34m\u001b[0m\u001b[0m\n\u001b[0m",
      "\u001b[0;31mNameError\u001b[0m: name 'stop' is not defined"
     ]
    }
   ],
   "source": [
    "stop"
   ]
  },
  {
   "cell_type": "code",
   "execution_count": null,
   "metadata": {},
   "outputs": [],
   "source": []
  },
  {
   "cell_type": "code",
   "execution_count": null,
   "metadata": {},
   "outputs": [],
   "source": []
  },
  {
   "cell_type": "code",
   "execution_count": null,
   "metadata": {},
   "outputs": [],
   "source": []
  },
  {
   "cell_type": "code",
   "execution_count": null,
   "metadata": {
    "scrolled": false
   },
   "outputs": [],
   "source": [
    "hm_src_fps = [] ; hm_dest_fps = []\n",
    "sm_src_fps = [] ; sm_dest_fps = []\n",
    "for nation, league in zip(nations, leagues):\n",
    "    print(nation, league)\n",
    "    for season in seasons:\n",
    "        src_stub = RAW_DATA_DIR / 'football-data' / nation / league / season / 'who-scored-com'\n",
    "        dest_stub = CLEANED_DATA_DIR / 'whoscored-com' / nation / league / season \n",
    "#         print(stub)\n",
    "        hm_src_dir = src_stub / 'game-heatmaps'\n",
    "        sm_src_dir = src_stub / 'game-shotmaps'\n",
    "        if hm_src_dir.exists() and len(list(hm_src_dir.glob('*.png'))) > 0:\n",
    "            hm_src_fps_sublist = list(hm_src_dir.glob('*.png'))\n",
    "            hm_src_fps.append(hm_src_fps_sublist)\n",
    "            hm_src_fps.append(list(hm_src_dir.glob('*.png')))\n",
    "            #print(hm_src_fps[0:3], '\\n')\n",
    "            hm_dest_fps.append([dest_stub / 'heatmaps' / fp.name for fp in hm_src_fps_sublist])\n",
    "            \n",
    "        if sm_src_dir.exists() and len(list(sm_src_dir.glob('*.png'))) > 0:\n",
    "            sm_src_fps_sublist = list(sm_src_dir.glob('*.png'))\n",
    "            sm_src_fps.append(sm_src_fps_sublist)\n",
    "            sm_src_fps.append(list(sm_src_dir.glob('*.png')))\n",
    "            #print(hm_src_fps[0:3], '\\n')\n",
    "            sm_dest_fps.append([dest_stub / 'shotmaps' / fp.name for fp in sm_src_fps_sublist])\n",
    "        \n",
    "# hm_dest_fps[0:3]"
   ]
  },
  {
   "cell_type": "code",
   "execution_count": null,
   "metadata": {},
   "outputs": [],
   "source": [
    "def copy_data(src_fps, dest_fps):\n",
    "    \"\"\"\n",
    "    Accepts a list of strings representing filepaths\n",
    "    Copies the files if they do not exist, otherwise counts if already there\n",
    "    Returns the number of files copied, and number of files already existing\n",
    "    \"\"\"\n",
    "#     dest_fps = []\n",
    "#     for src_fp in src_fps:\n",
    "#         #dest_fps.append(src_fp.replace(str(env_dir), str(project_dir)))\n",
    "    n_copied = 0\n",
    "    n_exist = 0\n",
    "    for src_fp, dest_fp in zip(src_fps, dest_fps):\n",
    "#         src_fp = pathlib.Path(src_fp)\n",
    "#         dest_fp = pathlib.Path(dest_fp)\n",
    "        if not dest_fp.exists():\n",
    "            dest_fp.parent.mkdir(parents=True, exist_ok=True)\n",
    "            # Copy the original files without touching them\n",
    "            dest_fp.write_bytes(src_fp.read_bytes())\n",
    "            n_copied += 1\n",
    "        else:\n",
    "            n_exist += 1\n",
    "    return n_copied, n_exist"
   ]
  },
  {
   "cell_type": "code",
   "execution_count": null,
   "metadata": {},
   "outputs": [],
   "source": [
    "hm_src_flatlist = [item for sublist in hm_src_fps for item in sublist]\n",
    "hm_dest_flatlist = [item for sublist in hm_dest_fps for item in sublist]\n",
    "n_copied, n_exist = copy_data(hm_src_flatlist, hm_dest_flatlist)\n",
    "print(n_copied, n_exist)"
   ]
  },
  {
   "cell_type": "code",
   "execution_count": null,
   "metadata": {},
   "outputs": [],
   "source": [
    "sm_src_flatlist = [item for sublist in sm_src_fps for item in sublist]\n",
    "sm_dest_flatlist = [item for sublist in sm_dest_fps for item in sublist]\n",
    "n_copied, n_exist = copy_data(sm_src_flatlist, sm_dest_flatlist)\n",
    "print(n_copied, n_exist)"
   ]
  },
  {
   "cell_type": "code",
   "execution_count": null,
   "metadata": {},
   "outputs": [],
   "source": []
  },
  {
   "cell_type": "code",
   "execution_count": null,
   "metadata": {},
   "outputs": [],
   "source": [
    "stop"
   ]
  },
  {
   "cell_type": "code",
   "execution_count": null,
   "metadata": {},
   "outputs": [],
   "source": []
  },
  {
   "cell_type": "code",
   "execution_count": null,
   "metadata": {},
   "outputs": [],
   "source": []
  },
  {
   "cell_type": "code",
   "execution_count": null,
   "metadata": {},
   "outputs": [],
   "source": []
  },
  {
   "cell_type": "code",
   "execution_count": null,
   "metadata": {},
   "outputs": [],
   "source": [
    "league = 'english-premier-league'\n",
    "fn = str('football-data-' + league + '.csv')\n",
    "df = pd.read_csv(INTERIM_DATA_DIR / league / fn, parse_dates=['date'], index_col=None)\n",
    "df.head()"
   ]
  },
  {
   "cell_type": "code",
   "execution_count": null,
   "metadata": {},
   "outputs": [],
   "source": [
    "save_file_name =  str('merge-1-' + league + '.csv')"
   ]
  },
  {
   "cell_type": "markdown",
   "metadata": {},
   "source": [
    "## Standardize Team Names"
   ]
  },
  {
   "cell_type": "code",
   "execution_count": null,
   "metadata": {},
   "outputs": [],
   "source": [
    "epl_names_d = {'villa': 'aston-villa',\n",
    "              'blackburn': 'blackburn-rovers',\n",
    "              'birmingham': 'birmingham-city',\n",
    "              'bolton': 'bolton-wanderers',\n",
    "              'brighton': 'brighton-and-hove-albion',\n",
    "              'brighton-&-Hove Albion': ' brighton-and-hove-albion',\n",
    "              'cardiff': 'cardiff-city',\n",
    "              'huddersfield': 'huddersfield-town',\n",
    "              'hull': 'hull-city',\n",
    "              'leicester': 'leicester-city',\n",
    "              'leicester-cty': 'leicester-city',\n",
    "              'man-city': 'manchester-city',\n",
    "              'man-u': 'manchester-united',\n",
    "              'man-utd': 'manchester-united',\n",
    "              'manchester-utd': 'manchester-united',\n",
    "              'man-united': 'manchester-united',\n",
    "              'boro': 'middlesborough',\n",
    "              'newcastle': 'newcastle-united',\n",
    "              'newcastle-utd': 'newcastle-united',\n",
    "              'norwich': 'norwich-city',\n",
    "              'qpr': 'queens-park-rangers',\n",
    "              'stoke': 'stoke-city',\n",
    "              'swansea': 'swansea-city',\n",
    "              'tottenham': 'tottenham-hotspur',\n",
    "              'west-brom': 'west-bromwich-albion',\n",
    "              'west-ham': 'west-ham-united',\n",
    "              'wigan': 'wigan-athletic',\n",
    "              'wolves': 'wolverhampton-wanderers'}"
   ]
  },
  {
   "cell_type": "code",
   "execution_count": null,
   "metadata": {},
   "outputs": [],
   "source": [
    "fn = 'english-premier-league_std_name_dict.pkl'\n",
    "\n",
    "with open(REF_DATA_DIR / fn, 'wb') as handle:\n",
    "    pickle.dump(epl_names_d, handle, protocol=pickle.HIGHEST_PROTOCOL)\n",
    "    "
   ]
  },
  {
   "cell_type": "code",
   "execution_count": null,
   "metadata": {},
   "outputs": [],
   "source": [
    "with open(REF_DATA_DIR / fn, 'rb') as handle:\n",
    "    std_names_d = pickle.load(handle)"
   ]
  },
  {
   "cell_type": "code",
   "execution_count": null,
   "metadata": {},
   "outputs": [],
   "source": [
    "# Standardize the team names\n",
    "df['h'] = df['h'].str.strip().str.lower().str.replace(' ', '-')\n",
    "df.loc[df['h'].isin(std_names_d.keys()), 'h'] = df['h'].map(std_names_d)\n",
    "df['a'] = df['a'].str.strip().str.lower().str.replace(' ', '-')\n",
    "df.loc[df['a'].isin(std_names_d.keys()), 'a'] = df['a'].map(std_names_d)"
   ]
  },
  {
   "cell_type": "code",
   "execution_count": null,
   "metadata": {},
   "outputs": [],
   "source": [
    "df.head()"
   ]
  },
  {
   "cell_type": "code",
   "execution_count": null,
   "metadata": {},
   "outputs": [],
   "source": [
    "df.set_index(['season', 'date'], inplace=True)\n",
    "df.head()"
   ]
  },
  {
   "cell_type": "code",
   "execution_count": null,
   "metadata": {},
   "outputs": [],
   "source": [
    "### Name and Copy Heatmaps and Shotmaps"
   ]
  },
  {
   "cell_type": "code",
   "execution_count": null,
   "metadata": {},
   "outputs": [],
   "source": [
    "country = 'england'\n",
    "league_dir = 'premier'"
   ]
  },
  {
   "cell_type": "code",
   "execution_count": null,
   "metadata": {
    "scrolled": false
   },
   "outputs": [],
   "source": [
    "heatmap_fps = []\n",
    "heatmap_dirs = [d for d in pathlib.Path(RAW_DATA_DIR /'soccer' / country / league_dir).rglob('**/*')\n",
    "               if d.is_dir() and str(d).split('/')[-1] =='heatmaps']\n",
    "for heatmap_dir in heatmap_dirs:\n",
    "    heatmaps = [fp for fp in heatmap_dir.iterdir() if fp.is_file()]\n",
    "    heatmap_fps.extend(heatmaps)"
   ]
  },
  {
   "cell_type": "code",
   "execution_count": null,
   "metadata": {
    "scrolled": false
   },
   "outputs": [],
   "source": [
    "shotmap_fps = []\n",
    "shotmap_dirs = [d for d in pathlib.Path(RAW_DATA_DIR /'soccer'/ country / league_dir).rglob('**/*')\n",
    "               if d.is_dir() and str(d).split('/')[-1] =='shotmaps']\n",
    "for shotmap_dir in shotmap_dirs:\n",
    "    shotmaps = [fp for fp in shotmap_dir.iterdir() if fp.is_file()]\n",
    "    shotmap_fps.extend(shotmaps)"
   ]
  },
  {
   "cell_type": "code",
   "execution_count": null,
   "metadata": {},
   "outputs": [],
   "source": [
    "fps = {}\n",
    "for heatmap_fp in heatmap_fps:\n",
    "#     print(heatmap_fp)\n",
    "    h = str(heatmap_fp).split('__')[0].split('/')[-1].lower().replace(' ', '-')\n",
    "    a = str(heatmap_fp).split('__')[1].split('/')[0].split('.')[0].lower().replace(' ', '-')\n",
    "    if h in std_names_d.keys():\n",
    "        h = std_names_d[h]\n",
    "    if a in std_names_d.keys():\n",
    "        a = std_names_d[a]\n",
    "    season = str(heatmap_fp.parent.parent).split('/')[-1] \n",
    "    fps[season + '__' + 'date' + '__' + h + '__' + a] = heatmap_fp\n",
    "for k in list(fps.keys())[0:5]:\n",
    "    print(f'{k} : {fps[k]}')\n",
    "#print(fps.items()[0:5])"
   ]
  },
  {
   "cell_type": "code",
   "execution_count": null,
   "metadata": {},
   "outputs": [],
   "source": [
    "fpss = {}\n",
    "for shotmap_fp in shotmap_fps:\n",
    "#     print(heatmap_fp)\n",
    "    h = str(shotmap_fp).split('__')[0].split('/')[-1].lower().replace(' ', '-')\n",
    "    a = str(shotmap_fp).split('__')[1].split('/')[0].split('.')[0].lower().replace(' ', '-')\n",
    "    if h in std_names_d.keys():\n",
    "        h = std_names_d[h]\n",
    "    if a in std_names_d.keys():\n",
    "        a = std_names_d[a]\n",
    "    season = str(shotmap_fp.parent.parent).split('/')[-1] \n",
    "    fpss[season + '__' + 'date' + '__' + h + '__' + a] = shotmap_fp\n",
    "\n",
    "    # Take a peek at the original shotmap filepaths \n",
    "for k in list(fpss.keys())[0:5]:\n",
    "    print(f'{k} : {fpss[k]}')"
   ]
  },
  {
   "cell_type": "code",
   "execution_count": null,
   "metadata": {},
   "outputs": [],
   "source": [
    "df1 = df.copy(deep=True)\n",
    "\n",
    "def copy_src_to_dest(src_fp, dest_fp):\n",
    "    if not dest_fp.exists():\n",
    "        dest_fp.parent.mkdir(parents=True, exist_ok=True)\n",
    "        # Copy the original files without touching them\n",
    "        dest_fp.write_bytes(src_fp.read_bytes())\n",
    "\n",
    "def form_image_fp(row, league=None, image_type=None):\n",
    "    row = row.copy(deep=True)\n",
    "    season = row.name[0]\n",
    "    date = str(row.name[1].date())\n",
    "    h = row['h']\n",
    "    a = row['a']\n",
    "    key = season + '__' + 'date' + '__' + h + '__' + a\n",
    "    src_fp = fps[key]\n",
    "    ext = src_fp.suffix\n",
    "    dest_fp = INTERIM_DATA_DIR / league/ 'heatmaps' / str(key.replace('date', date) + src_fp.suffix) \n",
    "    copy_src_to_dest(src_fp, dest_fp)\n",
    "    rel_path = str(dest_fp).replace(str(PROJECT_DIR), '')\n",
    "    return rel_path\n",
    "    \n",
    "df1.loc[:, 'heatmap_path'] = df1.apply(form_image_fp,\n",
    "                                       league=league,\n",
    "                                       image_type='heatmaps', axis=1)\n",
    "df1.head()\n"
   ]
  },
  {
   "cell_type": "code",
   "execution_count": null,
   "metadata": {},
   "outputs": [],
   "source": [
    "def form_image_fp(row, league=None, image_type=None):\n",
    "    row = row.copy(deep=True)\n",
    "    season = row.name[0]\n",
    "    date = str(row.name[1].date())\n",
    "    h = row['h']\n",
    "    a = row['a']\n",
    "    key = season + '__' + 'date' + '__' + h + '__' + a\n",
    "    src_fp = fpss[key]\n",
    "    ext = src_fp.suffix\n",
    "    dest_fp = INTERIM_DATA_DIR / league/ 'shotmaps' / str(key.replace('date', date) + src_fp.suffix) \n",
    "    copy_src_to_dest(src_fp, dest_fp)\n",
    "    rel_path = str(dest_fp).replace(str(PROJECT_DIR), '')\n",
    "    return rel_path\n",
    "    \n",
    "df1.loc[:, 'shotmap_path'] = df1.apply(form_image_fp,\n",
    "                                       league=league,\n",
    "                                       image_type='shotmaps', axis=1)\n",
    "df1.head()\n"
   ]
  },
  {
   "cell_type": "code",
   "execution_count": null,
   "metadata": {},
   "outputs": [],
   "source": [
    "df1.iloc[0].loc['heatmap_path']"
   ]
  },
  {
   "cell_type": "code",
   "execution_count": null,
   "metadata": {},
   "outputs": [],
   "source": [
    "df1.iloc[0].loc['shotmap_path']"
   ]
  },
  {
   "cell_type": "code",
   "execution_count": null,
   "metadata": {},
   "outputs": [],
   "source": [
    "df1.to_csv(INTERIM_DATA_DIR / league / save_file_name, index=True)"
   ]
  },
  {
   "cell_type": "code",
   "execution_count": null,
   "metadata": {},
   "outputs": [],
   "source": [
    "## Tidy up code - leave image paths as relative to project dir"
   ]
  },
  {
   "cell_type": "code",
   "execution_count": null,
   "metadata": {},
   "outputs": [],
   "source": []
  },
  {
   "cell_type": "code",
   "execution_count": null,
   "metadata": {},
   "outputs": [],
   "source": []
  },
  {
   "cell_type": "code",
   "execution_count": null,
   "metadata": {},
   "outputs": [],
   "source": []
  },
  {
   "cell_type": "code",
   "execution_count": null,
   "metadata": {},
   "outputs": [],
   "source": []
  }
 ],
 "metadata": {
  "kernelspec": {
   "display_name": "Python 3",
   "language": "python",
   "name": "python3"
  },
  "language_info": {
   "codemirror_mode": {
    "name": "ipython",
    "version": 3
   },
   "file_extension": ".py",
   "mimetype": "text/x-python",
   "name": "python",
   "nbconvert_exporter": "python",
   "pygments_lexer": "ipython3",
   "version": "3.7.3"
  }
 },
 "nbformat": 4,
 "nbformat_minor": 2
}
