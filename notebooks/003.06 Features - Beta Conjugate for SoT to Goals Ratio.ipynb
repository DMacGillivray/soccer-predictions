{
 "cells": [
  {
   "cell_type": "markdown",
   "metadata": {},
   "source": [
    "# Season Progression"
   ]
  },
  {
   "cell_type": "code",
   "execution_count": 1,
   "metadata": {},
   "outputs": [],
   "source": [
    "import pandas as pd\n",
    "import numpy as np\n",
    "\n",
    "import matplotlib.pyplot as plt\n",
    "%matplotlib inline\n",
    "\n",
    "from scipy.stats import beta\n",
    "# import seaborn\n",
    "# from scipy.stats import poisson,skellam\n",
    "# import statsmodels.api as sm\n",
    "# import statsmodels.formula.api as smf\n",
    "# import statsmodels.tools.sm_exceptions as sm_exceptions\n",
    "# from patsy import dmatrix, dmatrices"
   ]
  },
  {
   "cell_type": "code",
   "execution_count": 2,
   "metadata": {},
   "outputs": [],
   "source": [
    "def insert_game_day(df_orig):\n",
    "    df = df_orig.copy(deep=True)\n",
    "    df['game_day'] = df.groupby(by='date').ngroup(ascending=True)\n",
    "    return df"
   ]
  },
  {
   "cell_type": "code",
   "execution_count": 3,
   "metadata": {},
   "outputs": [
    {
     "data": {
      "text/html": [
       "<div>\n",
       "<style scoped>\n",
       "    .dataframe tbody tr th:only-of-type {\n",
       "        vertical-align: middle;\n",
       "    }\n",
       "\n",
       "    .dataframe tbody tr th {\n",
       "        vertical-align: top;\n",
       "    }\n",
       "\n",
       "    .dataframe thead th {\n",
       "        text-align: right;\n",
       "    }\n",
       "</style>\n",
       "<table border=\"1\" class=\"dataframe\">\n",
       "  <thead>\n",
       "    <tr style=\"text-align: right;\">\n",
       "      <th></th>\n",
       "      <th>a</th>\n",
       "      <th>a_ftGoals</th>\n",
       "      <th>a_shotsOnTarget</th>\n",
       "      <th>date</th>\n",
       "      <th>game_day</th>\n",
       "      <th>h</th>\n",
       "      <th>h_ftGoals</th>\n",
       "      <th>h_shotsOnTarget</th>\n",
       "    </tr>\n",
       "  </thead>\n",
       "  <tbody>\n",
       "    <tr>\n",
       "      <th>0</th>\n",
       "      <td>Aston Villa</td>\n",
       "      <td>1</td>\n",
       "      <td>3</td>\n",
       "      <td>2015-08-08</td>\n",
       "      <td>0</td>\n",
       "      <td>Bournemouth</td>\n",
       "      <td>0</td>\n",
       "      <td>2</td>\n",
       "    </tr>\n",
       "    <tr>\n",
       "      <th>1</th>\n",
       "      <td>Swansea</td>\n",
       "      <td>2</td>\n",
       "      <td>10</td>\n",
       "      <td>2015-08-08</td>\n",
       "      <td>0</td>\n",
       "      <td>Chelsea</td>\n",
       "      <td>2</td>\n",
       "      <td>3</td>\n",
       "    </tr>\n",
       "    <tr>\n",
       "      <th>2</th>\n",
       "      <td>Watford</td>\n",
       "      <td>2</td>\n",
       "      <td>5</td>\n",
       "      <td>2015-08-08</td>\n",
       "      <td>0</td>\n",
       "      <td>Everton</td>\n",
       "      <td>2</td>\n",
       "      <td>5</td>\n",
       "    </tr>\n",
       "    <tr>\n",
       "      <th>3</th>\n",
       "      <td>Sunderland</td>\n",
       "      <td>2</td>\n",
       "      <td>5</td>\n",
       "      <td>2015-08-08</td>\n",
       "      <td>0</td>\n",
       "      <td>Leicester</td>\n",
       "      <td>4</td>\n",
       "      <td>8</td>\n",
       "    </tr>\n",
       "    <tr>\n",
       "      <th>4</th>\n",
       "      <td>Tottenham</td>\n",
       "      <td>0</td>\n",
       "      <td>4</td>\n",
       "      <td>2015-08-08</td>\n",
       "      <td>0</td>\n",
       "      <td>Man United</td>\n",
       "      <td>1</td>\n",
       "      <td>1</td>\n",
       "    </tr>\n",
       "  </tbody>\n",
       "</table>\n",
       "</div>"
      ],
      "text/plain": [
       "             a  a_ftGoals  a_shotsOnTarget       date  game_day            h  \\\n",
       "0  Aston Villa          1                3 2015-08-08         0  Bournemouth   \n",
       "1      Swansea          2               10 2015-08-08         0      Chelsea   \n",
       "2      Watford          2                5 2015-08-08         0      Everton   \n",
       "3   Sunderland          2                5 2015-08-08         0    Leicester   \n",
       "4    Tottenham          0                4 2015-08-08         0   Man United   \n",
       "\n",
       "   h_ftGoals  h_shotsOnTarget  \n",
       "0          0                2  \n",
       "1          2                3  \n",
       "2          2                5  \n",
       "3          4                8  \n",
       "4          1                1  "
      ]
     },
     "execution_count": 3,
     "metadata": {},
     "output_type": "execute_result"
    }
   ],
   "source": [
    "season_dfs = []\n",
    "season_dfs.append(pd.read_csv(\"http://www.football-data.co.uk/mmz4281/1516/E0.csv\", parse_dates=['Date'],\n",
    "                              dayfirst=True))\n",
    "season_dfs.append(pd.read_csv(\"http://www.football-data.co.uk/mmz4281/1617/E0.csv\", parse_dates=['Date'],\n",
    "                              dayfirst=True))\n",
    "season_dfs.append(pd.read_csv(\"http://www.football-data.co.uk/mmz4281/1718/E0.csv\", parse_dates=['Date'],\n",
    "                              dayfirst=True))\n",
    "clean_season_dfs = []\n",
    "for season_df in season_dfs:\n",
    "    season_df = season_df[['Date','HST', 'AST', 'HomeTeam','AwayTeam','FTHG','FTAG']].copy(deep=True)\n",
    "    season_df.rename(columns={'Date': 'date','HomeTeam': 'h', 'AwayTeam': 'a',\n",
    "                              'FTHG': 'h_ftGoals', 'FTAG': 'a_ftGoals',\n",
    "                              'HST': 'h_shotsOnTarget', 'AST': 'a_shotsOnTarget'}, inplace=True)\n",
    "    season_df.sort_values(by='date', inplace=True)\n",
    "    season_df = insert_game_day(season_df)\n",
    "    clean_season_dfs.append(season_df)\n",
    "full_df = pd.concat(clean_season_dfs, axis=0, sort=True)\n",
    "full_df.head()"
   ]
  },
  {
   "cell_type": "code",
   "execution_count": 4,
   "metadata": {},
   "outputs": [
    {
     "data": {
      "text/html": [
       "<div>\n",
       "<style scoped>\n",
       "    .dataframe tbody tr th:only-of-type {\n",
       "        vertical-align: middle;\n",
       "    }\n",
       "\n",
       "    .dataframe tbody tr th {\n",
       "        vertical-align: top;\n",
       "    }\n",
       "\n",
       "    .dataframe thead th {\n",
       "        text-align: right;\n",
       "    }\n",
       "</style>\n",
       "<table border=\"1\" class=\"dataframe\">\n",
       "  <thead>\n",
       "    <tr style=\"text-align: right;\">\n",
       "      <th></th>\n",
       "      <th>a</th>\n",
       "      <th>a_ftGoals</th>\n",
       "      <th>a_shotsOnTarget</th>\n",
       "      <th>date</th>\n",
       "      <th>game_day</th>\n",
       "      <th>h</th>\n",
       "      <th>h_ftGoals</th>\n",
       "      <th>h_shotsOnTarget</th>\n",
       "    </tr>\n",
       "  </thead>\n",
       "  <tbody>\n",
       "    <tr>\n",
       "      <th>372</th>\n",
       "      <td>Arsenal</td>\n",
       "      <td>1</td>\n",
       "      <td>4</td>\n",
       "      <td>2018-05-13</td>\n",
       "      <td>104</td>\n",
       "      <td>Huddersfield</td>\n",
       "      <td>0</td>\n",
       "      <td>3</td>\n",
       "    </tr>\n",
       "    <tr>\n",
       "      <th>371</th>\n",
       "      <td>West Brom</td>\n",
       "      <td>0</td>\n",
       "      <td>1</td>\n",
       "      <td>2018-05-13</td>\n",
       "      <td>104</td>\n",
       "      <td>Crystal Palace</td>\n",
       "      <td>2</td>\n",
       "      <td>5</td>\n",
       "    </tr>\n",
       "    <tr>\n",
       "      <th>370</th>\n",
       "      <td>Bournemouth</td>\n",
       "      <td>2</td>\n",
       "      <td>5</td>\n",
       "      <td>2018-05-13</td>\n",
       "      <td>104</td>\n",
       "      <td>Burnley</td>\n",
       "      <td>1</td>\n",
       "      <td>4</td>\n",
       "    </tr>\n",
       "    <tr>\n",
       "      <th>373</th>\n",
       "      <td>Brighton</td>\n",
       "      <td>0</td>\n",
       "      <td>1</td>\n",
       "      <td>2018-05-13</td>\n",
       "      <td>104</td>\n",
       "      <td>Liverpool</td>\n",
       "      <td>4</td>\n",
       "      <td>11</td>\n",
       "    </tr>\n",
       "    <tr>\n",
       "      <th>379</th>\n",
       "      <td>Everton</td>\n",
       "      <td>1</td>\n",
       "      <td>7</td>\n",
       "      <td>2018-05-13</td>\n",
       "      <td>104</td>\n",
       "      <td>West Ham</td>\n",
       "      <td>3</td>\n",
       "      <td>4</td>\n",
       "    </tr>\n",
       "  </tbody>\n",
       "</table>\n",
       "</div>"
      ],
      "text/plain": [
       "               a  a_ftGoals  a_shotsOnTarget       date  game_day  \\\n",
       "372      Arsenal          1                4 2018-05-13       104   \n",
       "371    West Brom          0                1 2018-05-13       104   \n",
       "370  Bournemouth          2                5 2018-05-13       104   \n",
       "373     Brighton          0                1 2018-05-13       104   \n",
       "379      Everton          1                7 2018-05-13       104   \n",
       "\n",
       "                  h  h_ftGoals  h_shotsOnTarget  \n",
       "372    Huddersfield          0                3  \n",
       "371  Crystal Palace          2                5  \n",
       "370         Burnley          1                4  \n",
       "373       Liverpool          4               11  \n",
       "379        West Ham          3                4  "
      ]
     },
     "execution_count": 4,
     "metadata": {},
     "output_type": "execute_result"
    }
   ],
   "source": [
    "full_df.tail()"
   ]
  },
  {
   "cell_type": "markdown",
   "metadata": {},
   "source": [
    "### Explore Shots on Target to Goals Ratio"
   ]
  },
  {
   "cell_type": "code",
   "execution_count": 5,
   "metadata": {},
   "outputs": [
    {
     "data": {
      "text/html": [
       "<div>\n",
       "<style scoped>\n",
       "    .dataframe tbody tr th:only-of-type {\n",
       "        vertical-align: middle;\n",
       "    }\n",
       "\n",
       "    .dataframe tbody tr th {\n",
       "        vertical-align: top;\n",
       "    }\n",
       "\n",
       "    .dataframe thead th {\n",
       "        text-align: right;\n",
       "    }\n",
       "</style>\n",
       "<table border=\"1\" class=\"dataframe\">\n",
       "  <thead>\n",
       "    <tr style=\"text-align: right;\">\n",
       "      <th></th>\n",
       "      <th>date</th>\n",
       "      <th>h_shotsOnTarget</th>\n",
       "      <th>a_shotsOnTarget</th>\n",
       "      <th>h</th>\n",
       "      <th>a</th>\n",
       "      <th>h_ftGoals</th>\n",
       "      <th>a_ftGoals</th>\n",
       "      <th>game_day</th>\n",
       "      <th>ratio</th>\n",
       "    </tr>\n",
       "  </thead>\n",
       "  <tbody>\n",
       "    <tr>\n",
       "      <th>0</th>\n",
       "      <td>2015-08-08</td>\n",
       "      <td>2</td>\n",
       "      <td>3</td>\n",
       "      <td>Bournemouth</td>\n",
       "      <td>Aston Villa</td>\n",
       "      <td>0</td>\n",
       "      <td>1</td>\n",
       "      <td>0</td>\n",
       "      <td>0.000000</td>\n",
       "    </tr>\n",
       "    <tr>\n",
       "      <th>1</th>\n",
       "      <td>2015-08-08</td>\n",
       "      <td>3</td>\n",
       "      <td>10</td>\n",
       "      <td>Chelsea</td>\n",
       "      <td>Swansea</td>\n",
       "      <td>2</td>\n",
       "      <td>2</td>\n",
       "      <td>0</td>\n",
       "      <td>0.666667</td>\n",
       "    </tr>\n",
       "    <tr>\n",
       "      <th>2</th>\n",
       "      <td>2015-08-08</td>\n",
       "      <td>5</td>\n",
       "      <td>5</td>\n",
       "      <td>Everton</td>\n",
       "      <td>Watford</td>\n",
       "      <td>2</td>\n",
       "      <td>2</td>\n",
       "      <td>0</td>\n",
       "      <td>0.400000</td>\n",
       "    </tr>\n",
       "    <tr>\n",
       "      <th>3</th>\n",
       "      <td>2015-08-08</td>\n",
       "      <td>8</td>\n",
       "      <td>5</td>\n",
       "      <td>Leicester</td>\n",
       "      <td>Sunderland</td>\n",
       "      <td>4</td>\n",
       "      <td>2</td>\n",
       "      <td>0</td>\n",
       "      <td>0.500000</td>\n",
       "    </tr>\n",
       "    <tr>\n",
       "      <th>4</th>\n",
       "      <td>2015-08-08</td>\n",
       "      <td>1</td>\n",
       "      <td>4</td>\n",
       "      <td>Man United</td>\n",
       "      <td>Tottenham</td>\n",
       "      <td>1</td>\n",
       "      <td>0</td>\n",
       "      <td>0</td>\n",
       "      <td>1.000000</td>\n",
       "    </tr>\n",
       "  </tbody>\n",
       "</table>\n",
       "</div>"
      ],
      "text/plain": [
       "        date  h_shotsOnTarget  a_shotsOnTarget            h            a  \\\n",
       "0 2015-08-08                2                3  Bournemouth  Aston Villa   \n",
       "1 2015-08-08                3               10      Chelsea      Swansea   \n",
       "2 2015-08-08                5                5      Everton      Watford   \n",
       "3 2015-08-08                8                5    Leicester   Sunderland   \n",
       "4 2015-08-08                1                4   Man United    Tottenham   \n",
       "\n",
       "   h_ftGoals  a_ftGoals  game_day     ratio  \n",
       "0          0          1         0  0.000000  \n",
       "1          2          2         0  0.666667  \n",
       "2          2          2         0  0.400000  \n",
       "3          4          2         0  0.500000  \n",
       "4          1          0         0  1.000000  "
      ]
     },
     "execution_count": 5,
     "metadata": {},
     "output_type": "execute_result"
    }
   ],
   "source": [
    "clean_season_dfs[0]['ratio'] = clean_season_dfs[0]['h_ftGoals'] / clean_season_dfs[0]['h_shotsOnTarget']\n",
    "clean_season_dfs[0].head()"
   ]
  },
  {
   "cell_type": "code",
   "execution_count": 6,
   "metadata": {},
   "outputs": [
    {
     "data": {
      "text/plain": [
       "0.3223422399090392"
      ]
     },
     "execution_count": 6,
     "metadata": {},
     "output_type": "execute_result"
    }
   ],
   "source": [
    "clean_season_dfs[0]['h_ftGoals'].sum() / clean_season_dfs[0]['h_shotsOnTarget'].sum()"
   ]
  },
  {
   "cell_type": "markdown",
   "metadata": {},
   "source": [
    "32% of shots on target were goals - binomial prob"
   ]
  },
  {
   "cell_type": "code",
   "execution_count": 7,
   "metadata": {},
   "outputs": [
    {
     "name": "stdout",
     "output_type": "stream",
     "text": [
      "0.0\n",
      "2.0\n",
      "0.34079208697171165\n"
     ]
    }
   ],
   "source": [
    "ratios = clean_season_dfs[0]['h_ftGoals'] / clean_season_dfs[0]['h_shotsOnTarget']\n",
    "print(np.min(ratios))\n",
    "print(np.max(ratios))\n",
    "print(np.mean(ratios))"
   ]
  },
  {
   "cell_type": "code",
   "execution_count": 8,
   "metadata": {},
   "outputs": [
    {
     "data": {
      "image/png": "[encoded data removed]",
      "text/plain": [
       "<Figure size 720x432 with 1 Axes>"
      ]
     },
     "metadata": {
      "needs_background": "light"
     },
     "output_type": "display_data"
    }
   ],
   "source": [
    "fig, ax = plt.subplots(figsize=(10,6))\n",
    "ax.plot(ratios)\n",
    "plt.show();"
   ]
  },
  {
   "cell_type": "code",
   "execution_count": 9,
   "metadata": {},
   "outputs": [
    {
     "data": {
      "text/html": [
       "<div>\n",
       "<style scoped>\n",
       "    .dataframe tbody tr th:only-of-type {\n",
       "        vertical-align: middle;\n",
       "    }\n",
       "\n",
       "    .dataframe tbody tr th {\n",
       "        vertical-align: top;\n",
       "    }\n",
       "\n",
       "    .dataframe thead th {\n",
       "        text-align: right;\n",
       "    }\n",
       "</style>\n",
       "<table border=\"1\" class=\"dataframe\">\n",
       "  <thead>\n",
       "    <tr style=\"text-align: right;\">\n",
       "      <th></th>\n",
       "      <th>date</th>\n",
       "      <th>h_shotsOnTarget</th>\n",
       "      <th>a_shotsOnTarget</th>\n",
       "      <th>h</th>\n",
       "      <th>a</th>\n",
       "      <th>h_ftGoals</th>\n",
       "      <th>a_ftGoals</th>\n",
       "      <th>game_day</th>\n",
       "      <th>ratio</th>\n",
       "    </tr>\n",
       "  </thead>\n",
       "  <tbody>\n",
       "    <tr>\n",
       "      <th>127</th>\n",
       "      <td>2015-11-21</td>\n",
       "      <td>1</td>\n",
       "      <td>3</td>\n",
       "      <td>West Brom</td>\n",
       "      <td>Arsenal</td>\n",
       "      <td>2</td>\n",
       "      <td>1</td>\n",
       "      <td>32</td>\n",
       "      <td>2.0</td>\n",
       "    </tr>\n",
       "  </tbody>\n",
       "</table>\n",
       "</div>"
      ],
      "text/plain": [
       "          date  h_shotsOnTarget  a_shotsOnTarget          h        a  \\\n",
       "127 2015-11-21                1                3  West Brom  Arsenal   \n",
       "\n",
       "     h_ftGoals  a_ftGoals  game_day  ratio  \n",
       "127          2          1        32    2.0  "
      ]
     },
     "execution_count": 9,
     "metadata": {},
     "output_type": "execute_result"
    }
   ],
   "source": [
    "clean_season_dfs[0].loc[127:127, :]"
   ]
  },
  {
   "cell_type": "markdown",
   "metadata": {},
   "source": [
    "https://www.whoscored.com/Matches/959687/Live/England-Premier-League-2015-2016-West-Bromwich-Albion-Arsenal\n",
    "\n",
    "Arsenal score at 27 minutes\n",
    "\n",
    "West Brom score at 34 minutes\n",
    "\n",
    "Arsenal score own goal at 39 minutes\n",
    "\n",
    "Hence, ratio > 1"
   ]
  },
  {
   "cell_type": "code",
   "execution_count": 10,
   "metadata": {},
   "outputs": [
    {
     "data": {
      "text/html": [
       "<div>\n",
       "<style scoped>\n",
       "    .dataframe tbody tr th:only-of-type {\n",
       "        vertical-align: middle;\n",
       "    }\n",
       "\n",
       "    .dataframe tbody tr th {\n",
       "        vertical-align: top;\n",
       "    }\n",
       "\n",
       "    .dataframe thead th {\n",
       "        text-align: right;\n",
       "    }\n",
       "</style>\n",
       "<table border=\"1\" class=\"dataframe\">\n",
       "  <thead>\n",
       "    <tr style=\"text-align: right;\">\n",
       "      <th></th>\n",
       "      <th>date</th>\n",
       "      <th>h_shotsOnTarget</th>\n",
       "      <th>a_shotsOnTarget</th>\n",
       "      <th>h</th>\n",
       "      <th>a</th>\n",
       "      <th>h_ftGoals</th>\n",
       "      <th>a_ftGoals</th>\n",
       "      <th>game_day</th>\n",
       "      <th>ratio</th>\n",
       "    </tr>\n",
       "  </thead>\n",
       "  <tbody>\n",
       "    <tr>\n",
       "      <th>148</th>\n",
       "      <td>2015-12-06</td>\n",
       "      <td>1</td>\n",
       "      <td>1</td>\n",
       "      <td>Newcastle</td>\n",
       "      <td>Liverpool</td>\n",
       "      <td>2</td>\n",
       "      <td>0</td>\n",
       "      <td>38</td>\n",
       "      <td>2.0</td>\n",
       "    </tr>\n",
       "  </tbody>\n",
       "</table>\n",
       "</div>"
      ],
      "text/plain": [
       "          date  h_shotsOnTarget  a_shotsOnTarget          h          a  \\\n",
       "148 2015-12-06                1                1  Newcastle  Liverpool   \n",
       "\n",
       "     h_ftGoals  a_ftGoals  game_day  ratio  \n",
       "148          2          0        38    2.0  "
      ]
     },
     "execution_count": 10,
     "metadata": {},
     "output_type": "execute_result"
    }
   ],
   "source": [
    "clean_season_dfs[0].loc[148:148, :]"
   ]
  },
  {
   "cell_type": "markdown",
   "metadata": {},
   "source": [
    "https://www.whoscored.com/Matches/959648/Live/England-Premier-League-2015-2016-Newcastle-United-Liverpool\n",
    "    \n",
    "At 68 minutes an own goal by Liverpool\n",
    "\n",
    "At 92 minutes Newcastle score\n",
    "\n",
    "Hence a ratio > 1"
   ]
  },
  {
   "cell_type": "code",
   "execution_count": 11,
   "metadata": {},
   "outputs": [
    {
     "data": {
      "text/html": [
       "<div>\n",
       "<style scoped>\n",
       "    .dataframe tbody tr th:only-of-type {\n",
       "        vertical-align: middle;\n",
       "    }\n",
       "\n",
       "    .dataframe tbody tr th {\n",
       "        vertical-align: top;\n",
       "    }\n",
       "\n",
       "    .dataframe thead th {\n",
       "        text-align: right;\n",
       "    }\n",
       "</style>\n",
       "<table border=\"1\" class=\"dataframe\">\n",
       "  <thead>\n",
       "    <tr style=\"text-align: right;\">\n",
       "      <th></th>\n",
       "      <th>date</th>\n",
       "      <th>h_shotsOnTarget</th>\n",
       "      <th>a_shotsOnTarget</th>\n",
       "      <th>h</th>\n",
       "      <th>a</th>\n",
       "      <th>h_ftGoals</th>\n",
       "      <th>a_ftGoals</th>\n",
       "      <th>game_day</th>\n",
       "      <th>ratio</th>\n",
       "    </tr>\n",
       "  </thead>\n",
       "  <tbody>\n",
       "    <tr>\n",
       "      <th>27</th>\n",
       "      <td>2015-08-23</td>\n",
       "      <td>0</td>\n",
       "      <td>5</td>\n",
       "      <td>Watford</td>\n",
       "      <td>Southampton</td>\n",
       "      <td>0</td>\n",
       "      <td>0</td>\n",
       "      <td>8</td>\n",
       "      <td>NaN</td>\n",
       "    </tr>\n",
       "    <tr>\n",
       "      <th>35</th>\n",
       "      <td>2015-08-29</td>\n",
       "      <td>0</td>\n",
       "      <td>9</td>\n",
       "      <td>Newcastle</td>\n",
       "      <td>Arsenal</td>\n",
       "      <td>0</td>\n",
       "      <td>1</td>\n",
       "      <td>10</td>\n",
       "      <td>NaN</td>\n",
       "    </tr>\n",
       "    <tr>\n",
       "      <th>118</th>\n",
       "      <td>2015-11-08</td>\n",
       "      <td>0</td>\n",
       "      <td>3</td>\n",
       "      <td>Aston Villa</td>\n",
       "      <td>Man City</td>\n",
       "      <td>0</td>\n",
       "      <td>0</td>\n",
       "      <td>31</td>\n",
       "      <td>NaN</td>\n",
       "    </tr>\n",
       "    <tr>\n",
       "      <th>226</th>\n",
       "      <td>2016-01-23</td>\n",
       "      <td>0</td>\n",
       "      <td>4</td>\n",
       "      <td>West Brom</td>\n",
       "      <td>Aston Villa</td>\n",
       "      <td>0</td>\n",
       "      <td>0</td>\n",
       "      <td>57</td>\n",
       "      <td>NaN</td>\n",
       "    </tr>\n",
       "    <tr>\n",
       "      <th>289</th>\n",
       "      <td>2016-03-12</td>\n",
       "      <td>0</td>\n",
       "      <td>3</td>\n",
       "      <td>Norwich</td>\n",
       "      <td>Man City</td>\n",
       "      <td>0</td>\n",
       "      <td>0</td>\n",
       "      <td>71</td>\n",
       "      <td>NaN</td>\n",
       "    </tr>\n",
       "    <tr>\n",
       "      <th>298</th>\n",
       "      <td>2016-03-19</td>\n",
       "      <td>0</td>\n",
       "      <td>1</td>\n",
       "      <td>West Brom</td>\n",
       "      <td>Norwich</td>\n",
       "      <td>0</td>\n",
       "      <td>1</td>\n",
       "      <td>74</td>\n",
       "      <td>NaN</td>\n",
       "    </tr>\n",
       "    <tr>\n",
       "      <th>356</th>\n",
       "      <td>2016-05-07</td>\n",
       "      <td>0</td>\n",
       "      <td>3</td>\n",
       "      <td>Aston Villa</td>\n",
       "      <td>Newcastle</td>\n",
       "      <td>0</td>\n",
       "      <td>0</td>\n",
       "      <td>93</td>\n",
       "      <td>NaN</td>\n",
       "    </tr>\n",
       "  </tbody>\n",
       "</table>\n",
       "</div>"
      ],
      "text/plain": [
       "          date  h_shotsOnTarget  a_shotsOnTarget            h            a  \\\n",
       "27  2015-08-23                0                5      Watford  Southampton   \n",
       "35  2015-08-29                0                9    Newcastle      Arsenal   \n",
       "118 2015-11-08                0                3  Aston Villa     Man City   \n",
       "226 2016-01-23                0                4    West Brom  Aston Villa   \n",
       "289 2016-03-12                0                3      Norwich     Man City   \n",
       "298 2016-03-19                0                1    West Brom      Norwich   \n",
       "356 2016-05-07                0                3  Aston Villa    Newcastle   \n",
       "\n",
       "     h_ftGoals  a_ftGoals  game_day  ratio  \n",
       "27           0          0         8    NaN  \n",
       "35           0          1        10    NaN  \n",
       "118          0          0        31    NaN  \n",
       "226          0          0        57    NaN  \n",
       "289          0          0        71    NaN  \n",
       "298          0          1        74    NaN  \n",
       "356          0          0        93    NaN  "
      ]
     },
     "execution_count": 11,
     "metadata": {},
     "output_type": "execute_result"
    }
   ],
   "source": [
    "clean_season_dfs[0][clean_season_dfs[0]['ratio'].isnull()]"
   ]
  },
  {
   "cell_type": "markdown",
   "metadata": {},
   "source": [
    "Quite a few matches where 0 shots on Target, and 0 Goals - How to deal with these?\n",
    "\n",
    "I guess ignore, or count as zeros ?\n",
    "\n",
    "Not sure - Will think about this problem - In the meantime, will go forward with following strategy\n",
    "\n",
    "+ Any ratios > 1 , set to 1\n",
    "+ Any np.NaNs, ignore\n",
    "\n",
    "\n",
    "### Clip the Ratios"
   ]
  },
  {
   "cell_type": "code",
   "execution_count": 12,
   "metadata": {},
   "outputs": [
    {
     "data": {
      "text/html": [
       "<div>\n",
       "<style scoped>\n",
       "    .dataframe tbody tr th:only-of-type {\n",
       "        vertical-align: middle;\n",
       "    }\n",
       "\n",
       "    .dataframe tbody tr th {\n",
       "        vertical-align: top;\n",
       "    }\n",
       "\n",
       "    .dataframe thead th {\n",
       "        text-align: right;\n",
       "    }\n",
       "</style>\n",
       "<table border=\"1\" class=\"dataframe\">\n",
       "  <thead>\n",
       "    <tr style=\"text-align: right;\">\n",
       "      <th></th>\n",
       "      <th>date</th>\n",
       "      <th>h_shotsOnTarget</th>\n",
       "      <th>a_shotsOnTarget</th>\n",
       "      <th>h</th>\n",
       "      <th>a</th>\n",
       "      <th>h_ftGoals</th>\n",
       "      <th>a_ftGoals</th>\n",
       "      <th>game_day</th>\n",
       "      <th>ratio</th>\n",
       "    </tr>\n",
       "  </thead>\n",
       "  <tbody>\n",
       "    <tr>\n",
       "      <th>0</th>\n",
       "      <td>2015-08-08</td>\n",
       "      <td>2</td>\n",
       "      <td>3</td>\n",
       "      <td>Bournemouth</td>\n",
       "      <td>Aston Villa</td>\n",
       "      <td>0</td>\n",
       "      <td>1</td>\n",
       "      <td>0</td>\n",
       "      <td>0.000000</td>\n",
       "    </tr>\n",
       "    <tr>\n",
       "      <th>1</th>\n",
       "      <td>2015-08-08</td>\n",
       "      <td>3</td>\n",
       "      <td>10</td>\n",
       "      <td>Chelsea</td>\n",
       "      <td>Swansea</td>\n",
       "      <td>2</td>\n",
       "      <td>2</td>\n",
       "      <td>0</td>\n",
       "      <td>0.666667</td>\n",
       "    </tr>\n",
       "    <tr>\n",
       "      <th>2</th>\n",
       "      <td>2015-08-08</td>\n",
       "      <td>5</td>\n",
       "      <td>5</td>\n",
       "      <td>Everton</td>\n",
       "      <td>Watford</td>\n",
       "      <td>2</td>\n",
       "      <td>2</td>\n",
       "      <td>0</td>\n",
       "      <td>0.400000</td>\n",
       "    </tr>\n",
       "    <tr>\n",
       "      <th>3</th>\n",
       "      <td>2015-08-08</td>\n",
       "      <td>8</td>\n",
       "      <td>5</td>\n",
       "      <td>Leicester</td>\n",
       "      <td>Sunderland</td>\n",
       "      <td>4</td>\n",
       "      <td>2</td>\n",
       "      <td>0</td>\n",
       "      <td>0.500000</td>\n",
       "    </tr>\n",
       "    <tr>\n",
       "      <th>4</th>\n",
       "      <td>2015-08-08</td>\n",
       "      <td>1</td>\n",
       "      <td>4</td>\n",
       "      <td>Man United</td>\n",
       "      <td>Tottenham</td>\n",
       "      <td>1</td>\n",
       "      <td>0</td>\n",
       "      <td>0</td>\n",
       "      <td>1.000000</td>\n",
       "    </tr>\n",
       "  </tbody>\n",
       "</table>\n",
       "</div>"
      ],
      "text/plain": [
       "        date  h_shotsOnTarget  a_shotsOnTarget            h            a  \\\n",
       "0 2015-08-08                2                3  Bournemouth  Aston Villa   \n",
       "1 2015-08-08                3               10      Chelsea      Swansea   \n",
       "2 2015-08-08                5                5      Everton      Watford   \n",
       "3 2015-08-08                8                5    Leicester   Sunderland   \n",
       "4 2015-08-08                1                4   Man United    Tottenham   \n",
       "\n",
       "   h_ftGoals  a_ftGoals  game_day     ratio  \n",
       "0          0          1         0  0.000000  \n",
       "1          2          2         0  0.666667  \n",
       "2          2          2         0  0.400000  \n",
       "3          4          2         0  0.500000  \n",
       "4          1          0         0  1.000000  "
      ]
     },
     "execution_count": 12,
     "metadata": {},
     "output_type": "execute_result"
    }
   ],
   "source": [
    "clean_season_dfs[0]['ratio'] = (clean_season_dfs[0]['h_ftGoals'] /\n",
    "                                clean_season_dfs[0]['h_shotsOnTarget']).clip(upper=1.0)\n",
    "clean_season_dfs[0].head()"
   ]
  },
  {
   "cell_type": "code",
   "execution_count": 13,
   "metadata": {},
   "outputs": [
    {
     "data": {
      "image/png": "[encoded data removed]",
      "text/plain": [
       "<Figure size 720x432 with 1 Axes>"
      ]
     },
     "metadata": {
      "needs_background": "light"
     },
     "output_type": "display_data"
    }
   ],
   "source": [
    "fig, ax = plt.subplots(figsize=(10,6))\n",
    "ax.plot(clean_season_dfs[0]['ratio'], 'o')\n",
    "plt.show();"
   ]
  },
  {
   "cell_type": "code",
   "execution_count": 14,
   "metadata": {},
   "outputs": [
    {
     "data": {
      "text/plain": [
       "0.000000    0.227882\n",
       "0.111111    0.008043\n",
       "0.125000    0.010724\n",
       "0.142857    0.026810\n",
       "0.166667    0.029491\n",
       "0.181818    0.002681\n",
       "0.200000    0.048257\n",
       "0.250000    0.067024\n",
       "0.285714    0.021448\n",
       "0.300000    0.005362\n",
       "0.307692    0.002681\n",
       "0.333333    0.117962\n",
       "0.363636    0.002681\n",
       "0.375000    0.021448\n",
       "0.400000    0.072386\n",
       "0.428571    0.026810\n",
       "0.444444    0.010724\n",
       "0.454545    0.002681\n",
       "0.500000    0.136729\n",
       "0.545455    0.002681\n",
       "0.571429    0.005362\n",
       "0.600000    0.024129\n",
       "0.625000    0.002681\n",
       "0.666667    0.037534\n",
       "0.750000    0.016086\n",
       "0.800000    0.008043\n",
       "1.000000    0.061662\n",
       "Name: ratio, dtype: float64"
      ]
     },
     "execution_count": 14,
     "metadata": {},
     "output_type": "execute_result"
    }
   ],
   "source": [
    "# % occurrence of each ratio\n",
    "clean_season_dfs[0]['ratio'].dropna().value_counts().sort_index() / clean_season_dfs[0]['ratio'].value_counts().sum()"
   ]
  },
  {
   "cell_type": "code",
   "execution_count": 15,
   "metadata": {},
   "outputs": [
    {
     "data": {
      "image/png": "[encoded data removed]",
      "text/plain": [
       "<Figure size 720x432 with 1 Axes>"
      ]
     },
     "metadata": {
      "needs_background": "light"
     },
     "output_type": "display_data"
    }
   ],
   "source": [
    "fig, ax = plt.subplots(figsize=(10,6))\n",
    "val_counts = clean_season_dfs[0]['ratio'].value_counts().sort_index()\n",
    "ax.hist(clean_season_dfs[0]['ratio'].dropna(), bins=30)\n",
    "plt.show();"
   ]
  },
  {
   "cell_type": "code",
   "execution_count": 16,
   "metadata": {},
   "outputs": [
    {
     "name": "stdout",
     "output_type": "stream",
     "text": [
      "0.5539997841886173\n",
      "4.584990930492928\n"
     ]
    },
    {
     "name": "stderr",
     "output_type": "stream",
     "text": [
      "/home/david/anaconda3/envs/ana_py37/lib/python3.7/site-packages/scipy/stats/_continuous_distns.py:515: RuntimeWarning: invalid value encountered in sqrt\n",
      "  sk = 2*(b-a)*np.sqrt(a + b + 1) / (a + b + 2) / np.sqrt(a*b)\n"
     ]
    }
   ],
   "source": [
    "# https://stackoverflow.com/questions/44592370/runtimewarning-when-using-scipy-stats-beta-fit\n",
    "ratios = clean_season_dfs[0]['ratio'].dropna()\n",
    "alpha_param, beta_param, _, _ = beta.fit(ratios, loc=0, scale=1)\n",
    "print(alpha_param)\n",
    "print(beta_param)"
   ]
  },
  {
   "cell_type": "code",
   "execution_count": 20,
   "metadata": {},
   "outputs": [],
   "source": [
    "# https://emredjan.github.io/blog/2017/07/19/plotting-distributions/?source=post_page-----c5ebaafdeedd----------------------\n",
    "def plot_beta(x_range, a, b, mu=0, sigma=1, cdf=False, **kwargs):\n",
    "    '''\n",
    "    Plots the f distribution function for a given x range, a and b\n",
    "    If mu and sigma are not provided, standard beta is plotted\n",
    "    If cdf=True cumulative distribution is plotted\n",
    "    Passes any keyword arguments to matplotlib plot function\n",
    "    '''\n",
    "    x = x_range\n",
    "    if cdf:\n",
    "        y = beta.cdf(x, a, b, mu, sigma)\n",
    "    else:\n",
    "        y = beta.pdf(x, a, b, mu, sigma)\n",
    "    plt.plot(x, y, **kwargs)"
   ]
  },
  {
   "cell_type": "code",
   "execution_count": 21,
   "metadata": {},
   "outputs": [
    {
     "data": {
      "image/png": "[encoded data removed]",
      "text/plain": [
       "<Figure size 432x288 with 1 Axes>"
      ]
     },
     "metadata": {
      "needs_background": "light"
     },
     "output_type": "display_data"
    }
   ],
   "source": [
    "x = np.linspace(0,1, len(ratios))\n",
    "plot_beta(x, alpha_param, beta_param, 0, 1, color='red', lw=2, ls='-', alpha=0.5, label='pdf')\n",
    "plot_beta(x, alpha_param, beta_param, 0, 1, cdf=True, color='blue', lw=2, ls='-', alpha=0.5, label='cdf')\n",
    "plt.legend();"
   ]
  },
  {
   "cell_type": "code",
   "execution_count": null,
   "metadata": {},
   "outputs": [],
   "source": []
  },
  {
   "cell_type": "code",
   "execution_count": 19,
   "metadata": {},
   "outputs": [
    {
     "ename": "NameError",
     "evalue": "name 'stop' is not defined",
     "output_type": "error",
     "traceback": [
      "\u001b[0;31m---------------------------------------------------------------------------\u001b[0m",
      "\u001b[0;31mNameError\u001b[0m                                 Traceback (most recent call last)",
      "\u001b[0;32m<ipython-input-19-4f76a9dad686>\u001b[0m in \u001b[0;36m<module>\u001b[0;34m\u001b[0m\n\u001b[0;32m----> 1\u001b[0;31m \u001b[0mstop\u001b[0m\u001b[0;34m\u001b[0m\u001b[0;34m\u001b[0m\u001b[0m\n\u001b[0m",
      "\u001b[0;31mNameError\u001b[0m: name 'stop' is not defined"
     ]
    }
   ],
   "source": [
    "stop"
   ]
  },
  {
   "cell_type": "code",
   "execution_count": null,
   "metadata": {},
   "outputs": [],
   "source": []
  },
  {
   "cell_type": "code",
   "execution_count": null,
   "metadata": {},
   "outputs": [],
   "source": []
  },
  {
   "cell_type": "code",
   "execution_count": null,
   "metadata": {},
   "outputs": [],
   "source": []
  },
  {
   "cell_type": "code",
   "execution_count": null,
   "metadata": {},
   "outputs": [],
   "source": [
    "def insert_game_day(df_orig):\n",
    "    df = df_orig.copy(deep=True)\n",
    "    df['game_day'] = df.groupby(by='date').ngroup(ascending=True)\n",
    "    return df"
   ]
  },
  {
   "cell_type": "code",
   "execution_count": null,
   "metadata": {},
   "outputs": [],
   "source": [
    "def get_game_day_change_indices(df):\n",
    "    return df['game_day'].diff()[df['game_day'].diff() != 0].index.values"
   ]
  },
  {
   "cell_type": "code",
   "execution_count": null,
   "metadata": {},
   "outputs": [],
   "source": [
    "def poiss_reshape_train_data(df):\n",
    "    return pd.concat([df[['h','a','h_ftGoals']].assign(home=1).rename(\n",
    "                     columns={'h':'team', 'a':'opponent','h_ftGoals':'goals'}),\n",
    "                     df[['a','h','a_ftGoals']].assign(home=0).rename(\n",
    "                     columns={'a':'team', 'h':'opponent','a_ftGoals':'goals'})])"
   ]
  },
  {
   "cell_type": "code",
   "execution_count": null,
   "metadata": {},
   "outputs": [],
   "source": [
    "def fit_poiss_model(train_data):\n",
    "    \"\"\"\n",
    "    For the first games of the season the model will not run\n",
    "    There is perfect sparation or not enough data\n",
    "    So catch the exceptions and explicitly return None\n",
    "    The function catching this data must deal with a none return value\n",
    "    \"\"\"\n",
    "    try:\n",
    "        return smf.glm(formula=\"goals ~ home + team + opponent\",\n",
    "                       data=train_data, \n",
    "                       family=sm.families.Poisson()).fit()\n",
    "    except sm_exceptions.PerfectSeparationError:\n",
    "        return None\n",
    "    except ValueError:\n",
    "        return None"
   ]
  },
  {
   "cell_type": "code",
   "execution_count": null,
   "metadata": {},
   "outputs": [],
   "source": [
    "def get_poiss_preds(model, predict_data):\n",
    "    \n",
    "    h_preds = model.predict(pd.DataFrame(data={'team': predict_data['h'].values,\n",
    "                                               'opponent': predict_data['a'].values,\n",
    "                                               'home':1}))\n",
    "    a_preds = model.predict(pd.DataFrame(data={'team': predict_data['a'].values,\n",
    "                                                  'opponent': predict_data['h'].values,\n",
    "                                                  'home':0}))\n",
    "    return h_preds.values, a_preds.values"
   ]
  },
  {
   "cell_type": "code",
   "execution_count": null,
   "metadata": {
    "scrolled": false
   },
   "outputs": [],
   "source": [
    "def run_model_predict_cycles(df_orig):\n",
    "    df = df_orig.copy(deep=True)\n",
    "    df = insert_game_day(df)\n",
    "    game_day_indices = get_game_day_change_indices(df)\n",
    "    \n",
    "    # We can only attempt to predict after the first game day so we start looping at 1\n",
    "    for gd_index in game_day_indices[1:]:\n",
    "        n_game_day = df.iloc[gd_index]['game_day']\n",
    "        train_data = df[df['game_day'] < n_game_day]\n",
    "        predict_data = df[df['game_day'] == n_game_day]\n",
    "    \n",
    "        # 3 functions below and the new column assignments are all coupled\n",
    "        # All must be changed for different model\n",
    "        # Should extract this block into a interchangable function\n",
    "        # for different models or write a class with\\\n",
    "        # reshape, fit, predict, insert methods\n",
    "        poiss_reshaped_train_data = poiss_reshape_train_data(train_data)\n",
    "        poiss_model = fit_poiss_model(poiss_reshaped_train_data)\n",
    "        if poiss_model is not None:\n",
    "            poiss_pred_h_coeffs, poiss_pred_a_coeffs = get_poiss_preds(poiss_model, predict_data)\n",
    "            df.loc[predict_data.index, 'h_poissPred'] = poiss_pred_h_coeffs\n",
    "            df.loc[predict_data.index, 'a_poissPred'] = poiss_pred_a_coeffs\n",
    "        else:\n",
    "            df.loc[predict_data.index, 'h_poissPred'] = np.NaN\n",
    "            df.loc[predict_data.index, 'a_poissPred'] = np.NaN  \n",
    "        # We can run this through a numpy matrix function to return\n",
    "        # - h_poissProbWin\n",
    "        # - h_poissProbDraw\n",
    "        # - a_poissProbWin\n",
    "        # - a_poissProbDraw\n",
    "        # End of coupled block of functions\n",
    "        \n",
    "    return df\n",
    "        \n",
    "        \n",
    "df = run_model_predict_cycles(season_df)\n",
    "df"
   ]
  },
  {
   "cell_type": "code",
   "execution_count": null,
   "metadata": {},
   "outputs": [],
   "source": []
  },
  {
   "cell_type": "code",
   "execution_count": null,
   "metadata": {},
   "outputs": [],
   "source": []
  },
  {
   "cell_type": "code",
   "execution_count": null,
   "metadata": {},
   "outputs": [],
   "source": []
  },
  {
   "cell_type": "code",
   "execution_count": null,
   "metadata": {},
   "outputs": [],
   "source": []
  },
  {
   "cell_type": "code",
   "execution_count": null,
   "metadata": {},
   "outputs": [],
   "source": []
  },
  {
   "cell_type": "code",
   "execution_count": null,
   "metadata": {},
   "outputs": [],
   "source": []
  },
  {
   "cell_type": "code",
   "execution_count": null,
   "metadata": {},
   "outputs": [],
   "source": []
  },
  {
   "cell_type": "code",
   "execution_count": null,
   "metadata": {},
   "outputs": [],
   "source": []
  },
  {
   "cell_type": "code",
   "execution_count": null,
   "metadata": {},
   "outputs": [],
   "source": []
  },
  {
   "cell_type": "code",
   "execution_count": null,
   "metadata": {},
   "outputs": [],
   "source": []
  },
  {
   "cell_type": "code",
   "execution_count": null,
   "metadata": {},
   "outputs": [],
   "source": [
    "stop"
   ]
  },
  {
   "cell_type": "code",
   "execution_count": null,
   "metadata": {},
   "outputs": [],
   "source": []
  },
  {
   "cell_type": "code",
   "execution_count": null,
   "metadata": {},
   "outputs": [],
   "source": []
  },
  {
   "cell_type": "code",
   "execution_count": null,
   "metadata": {},
   "outputs": [],
   "source": []
  },
  {
   "cell_type": "code",
   "execution_count": null,
   "metadata": {},
   "outputs": [],
   "source": []
  },
  {
   "cell_type": "code",
   "execution_count": null,
   "metadata": {},
   "outputs": [],
   "source": []
  },
  {
   "cell_type": "code",
   "execution_count": null,
   "metadata": {},
   "outputs": [],
   "source": []
  },
  {
   "cell_type": "code",
   "execution_count": null,
   "metadata": {},
   "outputs": [],
   "source": [
    "epl_1617['seasonPercentile'] = epl_1617['game_day'].rank(method='max', pct=True)\n",
    "epl_1617.head()"
   ]
  },
  {
   "cell_type": "code",
   "execution_count": null,
   "metadata": {},
   "outputs": [],
   "source": [
    "epl_1617.tail(15)"
   ]
  },
  {
   "cell_type": "code",
   "execution_count": null,
   "metadata": {},
   "outputs": [],
   "source": []
  },
  {
   "cell_type": "code",
   "execution_count": null,
   "metadata": {},
   "outputs": [],
   "source": []
  },
  {
   "cell_type": "code",
   "execution_count": null,
   "metadata": {},
   "outputs": [],
   "source": []
  },
  {
   "cell_type": "code",
   "execution_count": null,
   "metadata": {},
   "outputs": [],
   "source": []
  },
  {
   "cell_type": "code",
   "execution_count": null,
   "metadata": {},
   "outputs": [],
   "source": [
    "stop"
   ]
  },
  {
   "cell_type": "code",
   "execution_count": null,
   "metadata": {},
   "outputs": [],
   "source": [
    "epl_1617 = epl_1617[:-10]\n",
    "epl_1617.mean()\n"
   ]
  },
  {
   "cell_type": "code",
   "execution_count": null,
   "metadata": {},
   "outputs": [],
   "source": [
    "epl_1617.head()"
   ]
  },
  {
   "cell_type": "code",
   "execution_count": null,
   "metadata": {},
   "outputs": [],
   "source": [
    "epl_1617.tail()"
   ]
  },
  {
   "cell_type": "code",
   "execution_count": null,
   "metadata": {},
   "outputs": [],
   "source": [
    "epl_1617.shape"
   ]
  },
  {
   "cell_type": "code",
   "execution_count": null,
   "metadata": {},
   "outputs": [],
   "source": [
    "goal_model_data = pd.concat([epl_1617[['h','a','h_ftGoals']].assign(home=1).rename(\n",
    "            columns={'h':'team', 'a':'opponent','h_ftGoals':'goals'}),\n",
    "           epl_1617[['a','h','a_ftGoals']].assign(home=0).rename(\n",
    "            columns={'a':'team', 'h':'opponent','a_ftGoals':'goals'})])\n",
    "goal_model_data.head()"
   ]
  },
  {
   "cell_type": "code",
   "execution_count": null,
   "metadata": {},
   "outputs": [],
   "source": [
    "goal_model_data.iloc[365:374]"
   ]
  },
  {
   "cell_type": "code",
   "execution_count": null,
   "metadata": {},
   "outputs": [],
   "source": [
    "goal_model_data.tail()"
   ]
  },
  {
   "cell_type": "code",
   "execution_count": null,
   "metadata": {},
   "outputs": [],
   "source": [
    "goal_model_data.shape"
   ]
  },
  {
   "cell_type": "code",
   "execution_count": null,
   "metadata": {},
   "outputs": [],
   "source": [
    "poisson_model = smf.glm(formula=\"goals ~ home + team + opponent\", data=goal_model_data, \n",
    "                        family=sm.families.Poisson()).fit()\n",
    "poisson_model.summary()"
   ]
  },
  {
   "cell_type": "code",
   "execution_count": null,
   "metadata": {},
   "outputs": [],
   "source": [
    "poisson_model.predict(pd.DataFrame(data={'team': 'Chelsea', 'opponent': 'Sunderland',\n",
    "                                       'home':1},index=[1]))"
   ]
  },
  {
   "cell_type": "code",
   "execution_count": null,
   "metadata": {},
   "outputs": [],
   "source": [
    "poisson_model.predict(pd.DataFrame(data={'team': 'Sunderland', 'opponent': 'Chelsea',\n",
    "                                       'home':0},index=[1]))\n"
   ]
  },
  {
   "cell_type": "markdown",
   "metadata": {},
   "source": [
    "## Jordan Tigani Logistic Regression\n",
    "\n",
    "https://www.youtube.com/watch?v=m2rhRJkWOEI&list=PLatexvNeFffyzlyAtDiUffmokReDzTQk6\n",
    "\n",
    "https://github.com/GoogleCloudPlatform/ipython-soccer-predictions/blob/master/predict/wc-final.ipynb"
   ]
  },
  {
   "cell_type": "code",
   "execution_count": null,
   "metadata": {},
   "outputs": [],
   "source": [
    "# 1 is home team, -1 is away team\n",
    "cBr = [1,0,1,0,0,-1]\n",
    "cMe = [0,1,-1,0,-1,0]\n",
    "cCr = [-1,0,0,-1,1,0]\n",
    "cCa = [0,-1,0,1,0,1]\n",
    "h_ftGoals = [3,1,0,0,1,1]\n",
    "a_ftGoals = [1,0,0,4,3,4]\n",
    "df = pd.DataFrame({'brazil': cBr, 'mexico': cMe, 'croatia': cCr, 'camaroon': cCa,\n",
    "                   'h_ftGoals': h_ftGoals, 'a_ftGoals': a_ftGoals, 'intercept': [1]*6})\n",
    "df['goalDiff'] = df['h_ftGoals'].sub(df['a_ftGoals'])\n",
    "df.head(10)"
   ]
  },
  {
   "cell_type": "code",
   "execution_count": null,
   "metadata": {},
   "outputs": [],
   "source": [
    "def points_to_sgn(p):\n",
    "  if p > 0.1: return 1.0\n",
    "  elif p < -0.1: return -1.0\n",
    "  else: return 0.0\n",
    "\n",
    "df['points'] = df['goalDiff'].apply(points_to_sgn)\n",
    "df.head(10)"
   ]
  },
  {
   "cell_type": "code",
   "execution_count": null,
   "metadata": {},
   "outputs": [],
   "source": [
    "X = df[['brazil', 'mexico', 'croatia', 'camaroon']].values\n",
    "y = df['points'].values"
   ]
  },
  {
   "cell_type": "code",
   "execution_count": null,
   "metadata": {},
   "outputs": [],
   "source": [
    "X"
   ]
  },
  {
   "cell_type": "markdown",
   "metadata": {},
   "source": [
    "model = sm.Logit(y, X).fit_regularized(method='l1', alpha=1.5)"
   ]
  },
  {
   "cell_type": "markdown",
   "metadata": {},
   "source": [
    "---------------------------------------------------------------------------\n",
    "ValueError                                Traceback (most recent call last)\n",
    "<ipython-input-18-05366f0d4b80> in <module>\n",
    "----> 1 model = sm.Logit(y, X).fit_regularized(method='l1', alpha=1.5)\n",
    "\n",
    "~/anaconda3/envs/ana_py37/lib/python3.7/site-packages/statsmodels/discrete/discrete_model.py in __init__(self, endog, exog, **kwargs)\n",
    "    430         if (not issubclass(self.__class__, MultinomialModel) and\n",
    "    431                 not np.all((self.endog >= 0) & (self.endog <= 1))):\n",
    "--> 432             raise ValueError(\"endog must be in the unit interval.\")\n",
    "    433 \n",
    "    434 \n",
    "\n",
    "ValueError: endog must be in the unit interval.\n",
    "\n"
   ]
  },
  {
   "cell_type": "markdown",
   "metadata": {},
   "source": [
    "From Jordan's github ipython notebook\n",
    "\n",
    "power_data = power.add_power(club_data, game_summaries, power_cols)\n",
    "power_train = power_data.loc[power_data['points'] <> 1] ??? - What is he modeling here? Draws and Home Wins ?\n",
    "\n",
    "###### power_train = power_data\n",
    "(power_model, power_test) = world_cup.train_model(\n",
    "    power_train, match_stats.get_non_feature_columns())\n",
    "print \"\\nRsquared: %0.03g, Power Coef %0.03g\" % (\n",
    "    power_model.prsquared, \n",
    "    math.exp(power_model.params['power_points']))  \n",
    "    \n",
    "I think that Jordan's model is modeling win/lose - There are no draws in the world cup. This is why he is able to do\n",
    "a straight forward ROC Curve - he is modeling a binary outcome\n",
    "   "
   ]
  },
  {
   "cell_type": "markdown",
   "metadata": {},
   "source": [
    "## My Attempt"
   ]
  },
  {
   "cell_type": "code",
   "execution_count": null,
   "metadata": {},
   "outputs": [],
   "source": [
    "epl_1617 = pd.read_csv(\"http://www.football-data.co.uk/mmz4281/1617/E0.csv\")\n",
    "epl_1617 = epl_1617[['HomeTeam','AwayTeam','FTHG','FTAG']]\n",
    "epl_1617 = epl_1617.rename(columns={'HomeTeam': 'h', 'AwayTeam': 'a','FTHG': 'h_ftGoals', 'FTAG': 'a_ftGoals'})\n",
    "epl_1617 = epl_1617[:-10]\n",
    "epl_1617['goalDiff'] = epl_1617['h_ftGoals'] - epl_1617['a_ftGoals']\n",
    "epl_1617.head()"
   ]
  },
  {
   "cell_type": "code",
   "execution_count": null,
   "metadata": {},
   "outputs": [],
   "source": [
    "# Construct and print model matrix for color as categorical variable\n",
    "matrix= dmatrix('C(h)', data = epl_1617, return_type = 'dataframe')"
   ]
  },
  {
   "cell_type": "code",
   "execution_count": null,
   "metadata": {},
   "outputs": [],
   "source": [
    "matrix.head()"
   ]
  },
  {
   "cell_type": "code",
   "execution_count": null,
   "metadata": {},
   "outputs": [],
   "source": [
    "cols = [col for col in matrix.columns if col != 'Intercept']\n",
    "len(cols)"
   ]
  },
  {
   "cell_type": "markdown",
   "metadata": {},
   "source": [
    "19 columns for 20 teams"
   ]
  },
  {
   "cell_type": "code",
   "execution_count": null,
   "metadata": {},
   "outputs": [],
   "source": [
    "# Construct and print model matrix for color as categorical variable\n",
    "matrices= dmatrices('h_ftGoals ~ C(h) + C(a)', data = epl_1617, return_type = 'dataframe')"
   ]
  },
  {
   "cell_type": "code",
   "execution_count": null,
   "metadata": {},
   "outputs": [],
   "source": [
    "matrices[0].head()"
   ]
  },
  {
   "cell_type": "code",
   "execution_count": null,
   "metadata": {},
   "outputs": [],
   "source": [
    "matrices[1].head()"
   ]
  },
  {
   "cell_type": "code",
   "execution_count": null,
   "metadata": {
    "scrolled": false
   },
   "outputs": [],
   "source": [
    "h_ftGoals_model = smf.glm(formula=\"h_ftGoals ~ h + a\", data=epl_1617, \n",
    "                        family=sm.families.Poisson()).fit()\n",
    "h_ftGoals_model.summary()"
   ]
  },
  {
   "cell_type": "code",
   "execution_count": null,
   "metadata": {},
   "outputs": [],
   "source": [
    "a_ftGoals_model = smf.glm(formula=\"a_ftGoals ~ h + a\", data=epl_1617, \n",
    "                        family=sm.families.Poisson()).fit()\n",
    "a_ftGoals_model.summary()"
   ]
  },
  {
   "cell_type": "code",
   "execution_count": null,
   "metadata": {
    "scrolled": true
   },
   "outputs": [],
   "source": [
    "h_ftGoals_model.predict(pd.DataFrame(data={'h': 'Chelsea', 'a': 'Sunderland'},index=[1]))\n"
   ]
  },
  {
   "cell_type": "code",
   "execution_count": null,
   "metadata": {},
   "outputs": [],
   "source": [
    "a_ftGoals_model.predict(pd.DataFrame(data={'h': 'Chelsea', 'a': 'Sunderland'},index=[1]))\n"
   ]
  },
  {
   "cell_type": "code",
   "execution_count": null,
   "metadata": {},
   "outputs": [],
   "source": [
    "h_ftGoals_model.predict(pd.DataFrame(data={'a': 'Sunderland', 'h': 'Chelsea'},index=[1]))"
   ]
  },
  {
   "cell_type": "markdown",
   "metadata": {},
   "source": [
    "### This is just making things more complicated, and creating more work to get to the results - Abandon and use David Sheehan's Poisson Regression"
   ]
  },
  {
   "cell_type": "markdown",
   "metadata": {},
   "source": [
    "## Incorporating as a Feature - Draft"
   ]
  },
  {
   "cell_type": "code",
   "execution_count": null,
   "metadata": {},
   "outputs": [],
   "source": [
    "epl_1617 = pd.read_csv(\"http://www.football-data.co.uk/mmz4281/1617/E0.csv\", dayfirst=True, parse_dates=['Date'])\n",
    "epl_1617 = epl_1617[['Date', 'HomeTeam', 'AwayTeam', 'FTHG', 'FTAG']]\n",
    "epl_1617 = epl_1617.rename(columns={'Date': 'date', 'HomeTeam': 'h', 'AwayTeam': 'a',\n",
    "                                    'FTHG': 'h_ftGoals',\n",
    "                                    'FTAG': 'a_ftGoals'}).sort_values(by='date').reset_index(drop=True)\n",
    "epl_1617.head()"
   ]
  },
  {
   "cell_type": "code",
   "execution_count": null,
   "metadata": {},
   "outputs": [],
   "source": [
    "epl_1617.tail()"
   ]
  },
  {
   "cell_type": "code",
   "execution_count": null,
   "metadata": {},
   "outputs": [],
   "source": [
    "epl_1617['game_day'] = epl_1617.groupby(by='date').ngroup(ascending=True)\n",
    "epl_1617.head(20)"
   ]
  },
  {
   "cell_type": "code",
   "execution_count": null,
   "metadata": {},
   "outputs": [],
   "source": [
    "epl_1617.tail(20)"
   ]
  },
  {
   "cell_type": "code",
   "execution_count": null,
   "metadata": {},
   "outputs": [],
   "source": [
    "# We want to calculate the home and away coefficient for each team and set it as a feature\n",
    "# We need some built up history to make this work\n",
    "# Arbitrarily pick game day 50 - halway thorugh the season as an initial experiment\n",
    "# Calculate the coeeficients on each progressive match day and place them into the dataframe as a feature"
   ]
  },
  {
   "cell_type": "code",
   "execution_count": null,
   "metadata": {},
   "outputs": [],
   "source": [
    "epl_1617[epl_1617['game_day'] >= 50].head()"
   ]
  },
  {
   "cell_type": "code",
   "execution_count": null,
   "metadata": {},
   "outputs": [],
   "source": [
    "# Game Day 50 is 189 games into the season, so will have an adequate record of home and away wins by this time"
   ]
  },
  {
   "cell_type": "code",
   "execution_count": null,
   "metadata": {},
   "outputs": [],
   "source": [
    "# Indices where the game day changes\n",
    "# we will step through these from 188 and up (inclusive)\n",
    "change_indices = epl_1617['game_day'].diff()[epl_1617['game_day'].diff() != 0].index.values\n",
    "change_indices"
   ]
  },
  {
   "cell_type": "code",
   "execution_count": null,
   "metadata": {},
   "outputs": [],
   "source": [
    "# First add columns for each team, then run the regression at each change in the game day,\n",
    "# and fill the team column with the appropriate regression coefficients, \n",
    "# ? Fill h_h_coeff, h_a_coeff, a_a_coeff, a_h_coeff ? - Try this to start\n",
    "# Then can coefficients be calculated based on odds or implied probailities ?\n",
    "# Also in a seperate notebook, look at decile of season completed as a feature"
   ]
  },
  {
   "cell_type": "code",
   "execution_count": null,
   "metadata": {
    "scrolled": false
   },
   "outputs": [],
   "source": [
    "def h_coeff(h_val):\n",
    "    lookup = 'team[T.'+ h_val + ']'\n",
    "    if lookup in poisson_model.params.index.values:\n",
    "        return poisson_model.params[lookup]\n",
    "    else:\n",
    "        return 0\n",
    "    \n",
    "def a_coeff(a_val):\n",
    "    lookup = 'opponent[T.'+ a_val + ']'\n",
    "    if lookup in poisson_model.params.index.values:\n",
    "        return poisson_model.params[lookup]\n",
    "    else:\n",
    "        return 0\n",
    "\n",
    "n = 0\n",
    "for change_index in change_indices[50:]:\n",
    "    print(change_index)\n",
    "    n_game_day = epl_1617.iloc[change_index]['game_day']\n",
    "    print(n_game_day)\n",
    "    train_data = epl_1617[epl_1617['game_day'] < n_game_day]\n",
    "    #print(train_data.tail())\n",
    "    predict_data = epl_1617[epl_1617['game_day'] == n_game_day]\n",
    "    print(predict_data.head())\n",
    "    # print(predict_data.head(10))\n",
    "    reshaped_train_data = pd.concat([train_data[['h','a','h_ftGoals']].assign(home=1).rename(\n",
    "                                    columns={'h':'team', 'a':'opponent','h_ftGoals':'goals'}),\n",
    "                                     train_data[['a','h','a_ftGoals']].assign(home=0).rename(\n",
    "                                    columns={'a':'team', 'h':'opponent','a_ftGoals':'goals'})])\n",
    "    \n",
    "    poisson_model = smf.glm(formula=\"goals ~ home + team + opponent\", data=reshaped_train_data, \n",
    "                        family=sm.families.Poisson()).fit()\n",
    "\n",
    "   \n",
    "    predict_data['h_coeff'] = poisson_model.params[\"home\"] + predict_data['h'].apply(h_coeff)\n",
    "    predict_data['a_coeff'] = predict_data['a'].apply(a_coeff)\n",
    "    print(predict_data.head())\n",
    "    n += 1\n",
    "    if n == 3:\n",
    "        break\n",
    "\n"
   ]
  },
  {
   "cell_type": "code",
   "execution_count": null,
   "metadata": {},
   "outputs": [],
   "source": [
    "poisson_model.params[\"team[T.Stoke]\"]"
   ]
  },
  {
   "cell_type": "code",
   "execution_count": null,
   "metadata": {},
   "outputs": [],
   "source": [
    "poisson_model.params[\"home\"]"
   ]
  },
  {
   "cell_type": "code",
   "execution_count": null,
   "metadata": {},
   "outputs": [],
   "source": [
    "poisson_model.params[\"opponent[T.Watford]\"]"
   ]
  },
  {
   "cell_type": "code",
   "execution_count": null,
   "metadata": {},
   "outputs": [],
   "source": [
    "poisson_model.params"
   ]
  },
  {
   "cell_type": "code",
   "execution_count": null,
   "metadata": {},
   "outputs": [],
   "source": [
    "type(poisson_model.params)"
   ]
  },
  {
   "cell_type": "code",
   "execution_count": null,
   "metadata": {},
   "outputs": [],
   "source": [
    "poisson_model.params.index"
   ]
  },
  {
   "cell_type": "markdown",
   "metadata": {},
   "source": [
    "## Incorporating as a Feature"
   ]
  },
  {
   "cell_type": "code",
   "execution_count": null,
   "metadata": {},
   "outputs": [],
   "source": [
    "season_df = pd.read_csv(\"http://www.football-data.co.uk/mmz4281/1617/E0.csv\", dayfirst=True, parse_dates=['Date'])\n",
    "season_df = season_df[['Date', 'HomeTeam', 'AwayTeam', 'FTHG', 'FTAG']]\n",
    "season_df = season_df.rename(columns={'Date': 'date', 'HomeTeam': 'h', 'AwayTeam': 'a',\n",
    "                                    'FTHG': 'h_ftGoals',\n",
    "                                    'FTAG': 'a_ftGoals'}).sort_values(by='date').reset_index(drop=True)\n",
    "season_df.head()"
   ]
  },
  {
   "cell_type": "markdown",
   "metadata": {},
   "source": [
    "### This is very interesting - How does a team's poisson mu value change over time?"
   ]
  },
  {
   "cell_type": "code",
   "execution_count": null,
   "metadata": {},
   "outputs": [],
   "source": [
    "crit1 = df['h'] == 'Liverpool'\n",
    "crit2 = df['a'] == 'Liverpool'\n",
    "df_liverpool = df[crit1 | crit2]\n",
    "df_liverpool.head(30)"
   ]
  },
  {
   "cell_type": "markdown",
   "metadata": {},
   "source": [
    "## Evolution of Poisson Expected Goals over Season home and away - Top 3, Bottom 3 Teams\n",
    "\n",
    "https://en.wikipedia.org/wiki/2016%E2%80%9317_Premier_League"
   ]
  },
  {
   "cell_type": "code",
   "execution_count": null,
   "metadata": {},
   "outputs": [],
   "source": [
    "team = 'Chelsea'\n",
    "crit1 = df['h'] == team\n",
    "crit2 = df['a'] == team\n",
    "df_team = df[crit1 | crit2]\n",
    "\n",
    "fig, ax = plt.subplots(figsize=(10,7))\n",
    "ax.plot(df_team[df['h'] == team]['h_poissPred'].values, label='h')\n",
    "ax.plot(df_team[df['a'] == team]['a_poissPred'].values, label='a')\n",
    "ax.set_ylim((0,6))\n",
    "plt.legend()\n",
    "plt.show();"
   ]
  },
  {
   "cell_type": "code",
   "execution_count": null,
   "metadata": {},
   "outputs": [],
   "source": [
    "team = 'Tottenham'\n",
    "crit1 = df['h'] == team\n",
    "crit2 = df['a'] == team\n",
    "df_team = df[crit1 | crit2]\n",
    "\n",
    "fig, ax = plt.subplots(figsize=(10,7))\n",
    "ax.plot(df_team[df['h'] == team]['h_poissPred'].values, label='h')\n",
    "ax.plot(df_team[df['a'] == team]['a_poissPred'].values, label='a')\n",
    "ax.set_ylim((0,6))\n",
    "plt.legend()\n",
    "plt.show();"
   ]
  },
  {
   "cell_type": "code",
   "execution_count": null,
   "metadata": {},
   "outputs": [],
   "source": [
    "team = 'Man City'\n",
    "crit1 = df['h'] == team\n",
    "crit2 = df['a'] == team\n",
    "df_team = df[crit1 | crit2]\n",
    "\n",
    "fig, ax = plt.subplots(figsize=(10,7))\n",
    "ax.plot(df_team[df['h'] == team]['h_poissPred'].values, label='h')\n",
    "ax.plot(df_team[df['a'] == team]['a_poissPred'].values, label='a')\n",
    "ax.set_ylim((0,6))\n",
    "plt.legend()\n",
    "plt.show();"
   ]
  },
  {
   "cell_type": "code",
   "execution_count": null,
   "metadata": {},
   "outputs": [],
   "source": [
    "team = 'Hull'\n",
    "crit1 = df['h'] == team\n",
    "crit2 = df['a'] == team\n",
    "df_team = df[crit1 | crit2]\n",
    "\n",
    "fig, ax = plt.subplots(figsize=(10,7))\n",
    "ax.plot(df_team[df['h'] == team]['h_poissPred'].values, label='h')\n",
    "ax.plot(df_team[df['a'] == team]['a_poissPred'].values, label='a')\n",
    "ax.set_ylim((0,6))\n",
    "plt.legend()\n",
    "plt.show();"
   ]
  },
  {
   "cell_type": "code",
   "execution_count": null,
   "metadata": {},
   "outputs": [],
   "source": [
    "team = 'Middlesbrough'\n",
    "crit1 = df['h'] == team\n",
    "crit2 = df['a'] == team\n",
    "df_team = df[crit1 | crit2]\n",
    "\n",
    "fig, ax = plt.subplots(figsize=(10,7))\n",
    "ax.plot(df_team[df['h'] == team]['h_poissPred'].values, label='h')\n",
    "ax.plot(df_team[df['a'] == team]['a_poissPred'].values, label='a')\n",
    "ax.set_ylim((0,6))\n",
    "plt.legend()\n",
    "plt.show();"
   ]
  },
  {
   "cell_type": "code",
   "execution_count": null,
   "metadata": {},
   "outputs": [],
   "source": [
    "team = 'Sunderland'\n",
    "crit1 = df['h'] == team\n",
    "crit2 = df['a'] == team\n",
    "df_team = df[crit1 | crit2]\n",
    "\n",
    "fig, ax = plt.subplots(figsize=(10,7))\n",
    "ax.plot(df_team[df['h'] == team]['h_poissPred'].values, label='h')\n",
    "ax.plot(df_team[df['a'] == team]['a_poissPred'].values, label='a')\n",
    "ax.set_ylim((0,6))\n",
    "plt.legend()\n",
    "plt.show();"
   ]
  },
  {
   "cell_type": "code",
   "execution_count": null,
   "metadata": {},
   "outputs": [],
   "source": []
  },
  {
   "cell_type": "code",
   "execution_count": null,
   "metadata": {},
   "outputs": [],
   "source": []
  },
  {
   "cell_type": "code",
   "execution_count": null,
   "metadata": {},
   "outputs": [],
   "source": []
  },
  {
   "cell_type": "code",
   "execution_count": null,
   "metadata": {},
   "outputs": [],
   "source": []
  },
  {
   "cell_type": "code",
   "execution_count": null,
   "metadata": {},
   "outputs": [],
   "source": []
  },
  {
   "cell_type": "code",
   "execution_count": null,
   "metadata": {},
   "outputs": [],
   "source": []
  },
  {
   "cell_type": "code",
   "execution_count": null,
   "metadata": {},
   "outputs": [],
   "source": []
  },
  {
   "cell_type": "code",
   "execution_count": null,
   "metadata": {},
   "outputs": [],
   "source": []
  },
  {
   "cell_type": "code",
   "execution_count": null,
   "metadata": {},
   "outputs": [],
   "source": []
  },
  {
   "cell_type": "code",
   "execution_count": null,
   "metadata": {},
   "outputs": [],
   "source": []
  },
  {
   "cell_type": "code",
   "execution_count": null,
   "metadata": {},
   "outputs": [],
   "source": []
  },
  {
   "cell_type": "code",
   "execution_count": null,
   "metadata": {},
   "outputs": [],
   "source": []
  },
  {
   "cell_type": "code",
   "execution_count": null,
   "metadata": {},
   "outputs": [],
   "source": []
  },
  {
   "cell_type": "code",
   "execution_count": null,
   "metadata": {},
   "outputs": [],
   "source": []
  },
  {
   "cell_type": "code",
   "execution_count": null,
   "metadata": {},
   "outputs": [],
   "source": []
  },
  {
   "cell_type": "code",
   "execution_count": null,
   "metadata": {},
   "outputs": [],
   "source": []
  },
  {
   "cell_type": "code",
   "execution_count": null,
   "metadata": {},
   "outputs": [],
   "source": []
  },
  {
   "cell_type": "raw",
   "metadata": {},
   "source": []
  },
  {
   "cell_type": "raw",
   "metadata": {},
   "source": []
  }
 ],
 "metadata": {
  "_change_revision": 0,
  "_is_fork": false,
  "kernelspec": {
   "display_name": "Python 3",
   "language": "python",
   "name": "python3"
  },
  "language_info": {
   "codemirror_mode": {
    "name": "ipython",
    "version": 3
   },
   "file_extension": ".py",
   "mimetype": "text/x-python",
   "name": "python",
   "nbconvert_exporter": "python",
   "pygments_lexer": "ipython3",
   "version": "3.7.3"
  }
 },
 "nbformat": 4,
 "nbformat_minor": 1
}
