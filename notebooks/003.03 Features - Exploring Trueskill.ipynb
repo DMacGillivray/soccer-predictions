{
 "cells": [
  {
   "cell_type": "markdown",
   "metadata": {},
   "source": [
    "# Trueskill"
   ]
  },
  {
   "cell_type": "markdown",
   "metadata": {},
   "source": [
    "## Calculating Win, Draw probabilities"
   ]
  },
  {
   "cell_type": "code",
   "execution_count": 1,
   "metadata": {},
   "outputs": [],
   "source": [
    "import numpy as np\n",
    "\n",
    "from trueskill import Rating, BETA, rate_1vs1, quality_1vs1\n",
    "from trueskill.backends import cdf"
   ]
  },
  {
   "cell_type": "code",
   "execution_count": 2,
   "metadata": {},
   "outputs": [],
   "source": [
    "# Give A a rating of 25, and B a rating of 30, both with same standard deviation sigma=0.333\n",
    "A = Rating()\n",
    "B = Rating()"
   ]
  },
  {
   "cell_type": "code",
   "execution_count": 3,
   "metadata": {},
   "outputs": [],
   "source": [
    "# https://stackoverflow.com/questions/27372986/from-match-results-to-rating-using-trueskill-in-python\n",
    "# A plays B and A wins\n",
    "A, B = rate_1vs1(A, B)\n",
    "# A plays B and B wins\n",
    "B, A = rate_1vs1(B, A)\n",
    "# A plays B, and it is a Draw\n",
    "A,B = rate_1vs1(A, B, drawn=True)"
   ]
  },
  {
   "cell_type": "code",
   "execution_count": 4,
   "metadata": {},
   "outputs": [
    {
     "data": {
      "text/plain": [
       "0.8011765392965086"
      ]
     },
     "execution_count": 4,
     "metadata": {},
     "output_type": "execute_result"
    }
   ],
   "source": [
    "# https://stackoverflow.com/questions/28031698/with-the-trueskill-algorithm-given-two-players-ratings-how-can-i-calculate-th\n",
    "\n",
    "def win_probability(player_rating, opponent_rating):\n",
    "    delta_mu = player_rating.mu - opponent_rating.mu\n",
    "    denom = np.sqrt(2 * (BETA * BETA) + pow(player_rating.sigma, 2) + pow(opponent_rating.sigma, 2))\n",
    "    return cdf(delta_mu / denom)\n",
    "\n",
    "player_rating = Rating(mu=30, sigma=0.333)\n",
    "opponent_rating = Rating(mu=25, sigma=0.333)\n",
    "win_prob = win_probability(player_rating, opponent_rating)\n",
    "win_prob"
   ]
  },
  {
   "cell_type": "code",
   "execution_count": 5,
   "metadata": {},
   "outputs": [
    {
     "data": {
      "text/plain": [
       "0.9968216144748854"
      ]
     },
     "execution_count": 5,
     "metadata": {},
     "output_type": "execute_result"
    }
   ],
   "source": [
    "def draw_probability(player_rating, opponent_rating):\n",
    "    return quality_1vs1(player_rating, opponent_rating)\n",
    "\n",
    "player_rating = Rating(mu=25, sigma=0.333)\n",
    "opponent_rating = Rating(mu=25, sigma=0.333)\n",
    "draw_prob = draw_probability(player_rating, opponent_rating)\n",
    "draw_prob"
   ]
  },
  {
   "cell_type": "markdown",
   "metadata": {},
   "source": [
    "## Sample Implementation\n",
    "\n",
    "https://github.com/sublee/trueskill/issues/1#issuecomment-10491635"
   ]
  },
  {
   "cell_type": "code",
   "execution_count": 6,
   "metadata": {},
   "outputs": [],
   "source": [
    "import random\n",
    "from math import sqrt\n",
    "from trueskill import TrueSkill, Rating, quality_1vs1, rate_1vs1, BETA\n",
    "from trueskill.backends import cdf"
   ]
  },
  {
   "cell_type": "code",
   "execution_count": 7,
   "metadata": {
    "scrolled": false
   },
   "outputs": [
    {
     "name": "stdout",
     "output_type": "stream",
     "text": [
      "Matchup: Dave (0-0-0) at Emily (0-0-0)\n",
      "Rating Before: 250~83 / 250~83\n",
      "Match Quality: 0.45\n",
      "Dave odds winning: 50.0% [predict: TOSS-UP]\n",
      "Emily beats Dave (55 - 22)\n",
      "Prediction: TOSS-UP --> None\n",
      "Rating After: 206~72 / 294~72\n",
      "\n",
      "\n",
      "Matchup: Emily (1-0-0) at Felix (0-0-0)\n",
      "Rating Before: 294~72 / 250~83\n",
      "Match Quality: 0.44\n",
      "Emily odds winning: 63.8% [predict: TOSS-UP]\n",
      "Emily beats Felix (61 - 41)\n",
      "Prediction: TOSS-UP --> None\n",
      "Rating After: 320~65 / 215~72\n",
      "\n",
      "\n",
      "Matchup: Carol (0-0-0) at Emily (2-0-0)\n",
      "Rating Before: 250~83 / 320~65\n",
      "Match Quality: 0.41\n",
      "Carol odds winning: 28.2% [predict: LOSS]\n",
      "Carol beats Emily (66 - 53)\n",
      "Prediction: LOSS --> FAIL\n",
      "Rating After: 321~67 / 277~57\n",
      "\n",
      "\n",
      "Matchup: Carol (1-0-0) at Dave (0-1-0)\n",
      "Rating Before: 321~67 / 206~72\n",
      "Match Quality: 0.31\n",
      "Carol odds winning: 84.4% [predict: WIN]\n",
      "Dave beats Carol (34 - 12)\n",
      "Prediction: WIN --> FAIL\n",
      "Rating After: 260~57 / 277~59\n",
      "\n",
      "\n",
      "Matchup: Bob (0-0-0) at Felix (0-1-0)\n",
      "Rating Before: 250~83 / 215~72\n",
      "Match Quality: 0.45\n",
      "Bob odds winning: 60.9% [predict: TOSS-UP]\n",
      "Felix beats Bob (57 - 23)\n",
      "Prediction: TOSS-UP --> None\n",
      "Rating After: 193~69 / 258~63\n",
      "\n",
      "\n",
      "Player(Alice) 0-0-0 [250~83]\n",
      "Player(Bob) 0-1-0 [193~69]\n",
      "Player(Carol) 1-1-0 [260~57]\n",
      "Player(Dave) 1-1-0 [277~59]\n",
      "Player(Emily) 2-1-0 [277~57]\n",
      "Player(Felix) 1-1-0 [258~63]\n",
      "Predicted: 0 of 2 (0.0%)\n"
     ]
    }
   ],
   "source": [
    "\n",
    "def win_probability(team_rating, opponent_rating):\n",
    "    delta_mu = team_rating.mu - opponent_rating.mu\n",
    "    denom = sqrt(2 * (BETA * BETA) + pow(team_rating.sigma, 2) + pow(opponent_rating.sigma, 2))\n",
    "    win_prob = cdf(delta_mu / denom)\n",
    "    return win_prob\n",
    "\n",
    "NUM_MATCHES = 5\n",
    "\n",
    "total_predictions = 0\n",
    "correct_predictions = 0\n",
    "\n",
    "\n",
    "class Player:\n",
    "    def __init__(self, name, talent):\n",
    "        self.name = name\n",
    "        self.talent = talent\n",
    "        self.rating = Rating()\n",
    "        self.wins = 0\n",
    "        self.losses = 0\n",
    "        self.draws = 0\n",
    "\n",
    "    @property\n",
    "    def record(self):\n",
    "        return '%d-%d-%d' % (self.wins, self.losses, self.draws)\n",
    "\n",
    "    @property\n",
    "    def mu_sigma(self):\n",
    "        return '%d~%d' % (round(self.rating.mu * 10), round(self.rating.sigma * 10))\n",
    "\n",
    "    def __repr__(self):\n",
    "        return 'Player(%s) %s [%s]' % (self.name, self.record, self.mu_sigma)\n",
    "\n",
    "# Create players\n",
    "players = [\n",
    "    Player('Alice', 50),\n",
    "    Player('Bob', 60),\n",
    "    Player('Carol', 66),\n",
    "    Player('Dave', 67),\n",
    "    Player('Emily', 67),\n",
    "    Player('Felix', 75)\n",
    "]\n",
    "\n",
    "\n",
    "for n in range(NUM_MATCHES):\n",
    "    away, home = random.sample(players, 2)\n",
    "    match_quality = quality_1vs1(away.rating, home.rating)\n",
    "    away_win_prob = win_probability(away.rating, home.rating)\n",
    "\n",
    "    if away_win_prob < .33:\n",
    "        prediction = 'LOSS'\n",
    "    elif away_win_prob > .66:\n",
    "        prediction = 'WIN'\n",
    "    else:\n",
    "        prediction = 'TOSS-UP'\n",
    "\n",
    "    print('Matchup: %s (%s) at %s (%s)' % (\n",
    "        away.name, away.record, home.name, home.record,\n",
    "    ))\n",
    "    print('Rating Before: %s / %s' % (away.mu_sigma, home.mu_sigma))\n",
    "    print('Match Quality: %.2f' % (match_quality))\n",
    "    print('%s odds winning: %.1f%% [predict: %s]' % (\n",
    "        away.name,\n",
    "        away_win_prob * 100,\n",
    "        prediction\n",
    "    ))\n",
    "\n",
    "    away_score = random.randint(0, away.talent)\n",
    "    home_score = random.randint(0, home.talent)\n",
    "\n",
    "    is_draw = away_score == home_score\n",
    "\n",
    "    if is_draw:\n",
    "        away.draws += 1\n",
    "        home.draws += 1\n",
    "        away.rating, home.rating = rate_1vs1(away.rating, home.rating, drawn=True)\n",
    "        print('%s and %s tied at %d' % (away.name, home.name, away_score))\n",
    "    else:\n",
    "        winner = (away_score > home_score) and away or home\n",
    "        loser = (away_score < home_score) and away or home\n",
    "        winner.rating, loser.rating = rate_1vs1(winner.rating, loser.rating)\n",
    "        winner.wins += 1\n",
    "        loser.losses += 1\n",
    "        print('%s beats %s (%d - %d)' % (winner.name, loser.name,\n",
    "            max(away_score, home_score), min(away_score, home_score)))\n",
    "\n",
    "    # Update prediction\n",
    "    prediction_result = None\n",
    "    if prediction == 'WIN':\n",
    "        total_predictions += 1\n",
    "        if winner == away:\n",
    "            correct_predictions += 1\n",
    "            prediction_result = 'SUCCESS'\n",
    "        else:\n",
    "            prediction_result = 'FAIL'\n",
    "    elif prediction == 'LOSS':\n",
    "        total_predictions += 1\n",
    "        if loser == away:\n",
    "            correct_predictions += 1\n",
    "            prediction_result = 'SUCCESS'\n",
    "        else:\n",
    "            prediction_result = 'FAIL'\n",
    "\n",
    "    print('Prediction: %s --> %s' % (prediction, prediction_result))\n",
    "    print('Rating After: %s / %s' % (away.mu_sigma, home.mu_sigma))\n",
    "    print(\"\\n\")\n",
    "\n",
    "for player in players:\n",
    "    print(player)\n",
    "\n",
    "print(\"Predicted: %d of %d (%.1f%%)\" % (\n",
    "    correct_predictions,\n",
    "    total_predictions,\n",
    "    float(correct_predictions) /  total_predictions  * 100\n",
    "))"
   ]
  },
  {
   "cell_type": "markdown",
   "metadata": {},
   "source": [
    "### References"
   ]
  },
  {
   "cell_type": "markdown",
   "metadata": {},
   "source": [
    "https://gist.github.com/klenwell/3a15eca6b83ce575d0ca\n",
    "\n",
    "https://stackoverflow.com/questions/28031698/with-the-trueskill-algorithm-given-two-players-ratings-how-can-i-calculate-th\n",
    "\n",
    "https://stackoverflow.com/questions/27372986/from-match-results-to-rating-using-trueskill-in-python\n",
    "\n",
    "https://en.wikipedia.org/wiki/TrueSkill\n"
   ]
  },
  {
   "cell_type": "code",
   "execution_count": null,
   "metadata": {
    "_cell_guid": "63765a57-72ea-497c-9949-acb68e9f1e90",
    "_uuid": "7a466b5cea871a31087c6578a9df56370ee269c1"
   },
   "outputs": [],
   "source": []
  }
 ],
 "metadata": {
  "_change_revision": 0,
  "_is_fork": false,
  "kernelspec": {
   "display_name": "Python 3",
   "language": "python",
   "name": "python3"
  },
  "language_info": {
   "codemirror_mode": {
    "name": "ipython",
    "version": 3
   },
   "file_extension": ".py",
   "mimetype": "text/x-python",
   "name": "python",
   "nbconvert_exporter": "python",
   "pygments_lexer": "ipython3",
   "version": "3.7.3"
  }
 },
 "nbformat": 4,
 "nbformat_minor": 1
}
