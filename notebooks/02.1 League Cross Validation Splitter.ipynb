{
 "cells": [
  {
   "cell_type": "markdown",
   "metadata": {},
   "source": [
    "# 02.1 League Cross Validation Splitter "
   ]
  },
  {
   "cell_type": "markdown",
   "metadata": {},
   "source": [
    "## Now moved to src!"
   ]
  },
  {
   "cell_type": "markdown",
   "metadata": {},
   "source": [
    "1. Explanation\n",
    "2. Usage"
   ]
  },
  {
   "cell_type": "code",
   "execution_count": 1,
   "metadata": {},
   "outputs": [],
   "source": [
    "import os\n",
    "import sys\n",
    "import pickle\n",
    "\n",
    "import xarray as xr\n",
    "\n",
    "test_dir = '../data/test/'"
   ]
  },
  {
   "cell_type": "code",
   "execution_count": 2,
   "metadata": {},
   "outputs": [],
   "source": [
    "# Load the \"autoreload\" extension\n",
    "%load_ext autoreload\n",
    "\n",
    "# always reload modules marked with \"%aimport\"\n",
    "%autoreload 1\n",
    "\n",
    "# add the 'src' directory to path to import modules\n",
    "src_dir = os.path.join(os.getcwd(), os.pardir, 'src')\n",
    "sys.path.append(src_dir)\n",
    "\n",
    "# import my class code from the source\n",
    "%aimport cross_val.LeagueKFold\n",
    "\n",
    "from cross_val.LeagueKFold import LeagueKFold"
   ]
  },
  {
   "cell_type": "markdown",
   "metadata": {},
   "source": [
    "## Explanation"
   ]
  },
  {
   "cell_type": "markdown",
   "metadata": {},
   "source": [
    "The league fixture for the first three months of the 2017 season are shown. Note that these games are sorted by date, and then alpha sorted in ascending order based on the home team name. These games have an index number"
   ]
  },
  {
   "cell_type": "markdown",
   "metadata": {},
   "source": [
    "![Fixture List](figures/fixture_list.png \"Fixture List\")"
   ]
  },
  {
   "cell_type": "markdown",
   "metadata": {},
   "source": [
    "The cross validation scheme is designed with the following requirements:\n",
    "1. Models will be fitted/trained based on historical results. This means there is a \"Burn In\" period which is from the start of the season until each league team has played at least one home, and one away game\n",
    "2. The data from the burn-in period is used to develop the training features for the following games. This means that the set of games immediately following the burn-in, is the first data that can be used for model fitting. Call this Training Batch 1\n",
    "3. Every team plays most weeks, so the cross validator needs to identify each batch of games where no team plays twice within the batch. This is becasue we want to make use of all games that a team has previously played in order to fit a model. Tese batches are called prediction batches\n",
    "4. Once the prediction batches are identified, then the first feature extractor can decide how far back to go to develop features - See diagram below (toy data) "
   ]
  },
  {
   "cell_type": "markdown",
   "metadata": {},
   "source": [
    "![Cross Validation Layout](figures/cross_val_layout.png \"Cross Validation layout\")"
   ]
  },
  {
   "cell_type": "markdown",
   "metadata": {},
   "source": [
    "## Usage"
   ]
  },
  {
   "cell_type": "code",
   "execution_count": 3,
   "metadata": {
    "scrolled": false
   },
   "outputs": [
    {
     "data": {
      "text/html": [
       "<div>\n",
       "<style scoped>\n",
       "    .dataframe tbody tr th:only-of-type {\n",
       "        vertical-align: middle;\n",
       "    }\n",
       "\n",
       "    .dataframe tbody tr th {\n",
       "        vertical-align: top;\n",
       "    }\n",
       "\n",
       "    .dataframe thead th {\n",
       "        text-align: right;\n",
       "    }\n",
       "</style>\n",
       "<table border=\"1\" class=\"dataframe\">\n",
       "  <thead>\n",
       "    <tr style=\"text-align: right;\">\n",
       "      <th></th>\n",
       "      <th>h_team</th>\n",
       "      <th>a_team</th>\n",
       "    </tr>\n",
       "  </thead>\n",
       "  <tbody>\n",
       "    <tr>\n",
       "      <th>0</th>\n",
       "      <td>Arsenal</td>\n",
       "      <td>Leicester City</td>\n",
       "    </tr>\n",
       "    <tr>\n",
       "      <th>1</th>\n",
       "      <td>Brighton and Hove Albion</td>\n",
       "      <td>Manchester City</td>\n",
       "    </tr>\n",
       "    <tr>\n",
       "      <th>2</th>\n",
       "      <td>Chelsea</td>\n",
       "      <td>Burnley</td>\n",
       "    </tr>\n",
       "    <tr>\n",
       "      <th>3</th>\n",
       "      <td>Crystal Palace</td>\n",
       "      <td>Huddersfield Town</td>\n",
       "    </tr>\n",
       "    <tr>\n",
       "      <th>4</th>\n",
       "      <td>Everton</td>\n",
       "      <td>Stoke City</td>\n",
       "    </tr>\n",
       "  </tbody>\n",
       "</table>\n",
       "</div>"
      ],
      "text/plain": [
       "                     h_team             a_team\n",
       "0                   Arsenal     Leicester City\n",
       "1  Brighton and Hove Albion    Manchester City\n",
       "2                   Chelsea            Burnley\n",
       "3            Crystal Palace  Huddersfield Town\n",
       "4                   Everton         Stoke City"
      ]
     },
     "execution_count": 3,
     "metadata": {},
     "output_type": "execute_result"
    }
   ],
   "source": [
    "# Get a Fixture List\n",
    "# Load Data\n",
    "ds = xr.open_dataset(test_dir + 'XArrayDataSet_1.nc')\n",
    "#ds = xr.open_dataset(full_final_dir + 'XArrayDataSet_1.nc')\n",
    "# Select the game index numbers and drop the games that have not been played yet, and sort on index number\n",
    "df = ds['Idx'].to_dataframe().dropna().sort_values('Idx').reset_index().drop('Idx', axis=1)#.reset_index('Idx',drop=False)\n",
    "df.head()"
   ]
  },
  {
   "cell_type": "code",
   "execution_count": 4,
   "metadata": {},
   "outputs": [
    {
     "name": "stdout",
     "output_type": "stream",
     "text": [
      "['Arsenal', 'Bournemouth', 'Brighton and Hove Albion', 'Burnley', 'Chelsea', 'Crystal Palace', 'Everton', 'Huddersfield Town', 'Leicester City', 'Liverpool', 'Manchester City', 'Manchester United', 'Newcastle United', 'Southampton', 'Stoke City', 'Swansea City', 'Tottenham Hotspur', 'Watford', 'West Bromwich Albion', 'West Ham United']\n"
     ]
    }
   ],
   "source": [
    "# Get the team list\n",
    "pickle_in = open(test_dir + 'team_list.pickle', \"rb\")\n",
    "team_list = pickle.load(pickle_in)\n",
    "print(team_list)"
   ]
  },
  {
   "cell_type": "markdown",
   "metadata": {},
   "source": [
    "### Get the Splits"
   ]
  },
  {
   "cell_type": "code",
   "execution_count": 5,
   "metadata": {},
   "outputs": [
    {
     "name": "stdout",
     "output_type": "stream",
     "text": [
      "train [50 51 52 53 54 55 56 57 58 59] *TEST* [60 61 62 63 64 65 66 67 68 69] \n",
      "\n"
     ]
    }
   ],
   "source": [
    "lkf = LeagueKFold(df, team_list, pretrained=False)\n",
    "cv = lkf.split()\n",
    "for train, test in cv:\n",
    "    print('train', train, '*TEST*', test, '\\n')\n",
    "    break"
   ]
  },
  {
   "cell_type": "code",
   "execution_count": 6,
   "metadata": {},
   "outputs": [
    {
     "name": "stdout",
     "output_type": "stream",
     "text": [
      "train [40 41 42 43 44 45 46 47 48 49] *TEST* [50 51 52 53 54 55 56 57 58 59] \n",
      "\n"
     ]
    }
   ],
   "source": [
    "lkf = LeagueKFold(df, team_list, pretrained=True)\n",
    "cv = lkf.split()\n",
    "for train, test in cv:\n",
    "    print('train', train, '*TEST*', test, '\\n')\n",
    "    break"
   ]
  },
  {
   "cell_type": "code",
   "execution_count": 7,
   "metadata": {},
   "outputs": [
    {
     "name": "stdout",
     "output_type": "stream",
     "text": [
      "train [50 51 52 53 54 55 56 57 58 59] *TEST* [60 61 62 63 64 65 66 67 68 69] \n",
      "\n",
      "train [50 51 52 53 54 55 56 57 58 59 60 61 62 63 64 65 66 67 68 69] *TEST* [70 71 72 73 74 75 76 77 78 79] \n",
      "\n",
      "train [50 51 52 53 54 55 56 57 58 59 60 61 62 63 64 65 66 67 68 69 70 71 72 73 74\n",
      " 75 76 77 78 79] *TEST* [80 81 82 83 84 85 86 87 88 89] \n",
      "\n",
      "train [50 51 52 53 54 55 56 57 58 59 60 61 62 63 64 65 66 67 68 69 70 71 72 73 74\n",
      " 75 76 77 78 79 80 81 82 83 84 85 86 87 88 89] *TEST* [90 91 92 93 94 95 96 97 98 99] \n",
      "\n",
      "train [50 51 52 53 54 55 56 57 58 59 60 61 62 63 64 65 66 67 68 69 70 71 72 73 74\n",
      " 75 76 77 78 79 80 81 82 83 84 85 86 87 88 89 90 91 92 93 94 95 96 97 98 99] *TEST* [100 101 102 103 104 105 106 107 108 109] \n",
      "\n",
      "train [ 50  51  52  53  54  55  56  57  58  59  60  61  62  63  64  65  66  67\n",
      "  68  69  70  71  72  73  74  75  76  77  78  79  80  81  82  83  84  85\n",
      "  86  87  88  89  90  91  92  93  94  95  96  97  98  99 100 101 102 103\n",
      " 104 105 106 107 108 109] *TEST* [110 111 112 113 114 115 116 117 118 119] \n",
      "\n",
      "train [ 50  51  52  53  54  55  56  57  58  59  60  61  62  63  64  65  66  67\n",
      "  68  69  70  71  72  73  74  75  76  77  78  79  80  81  82  83  84  85\n",
      "  86  87  88  89  90  91  92  93  94  95  96  97  98  99 100 101 102 103\n",
      " 104 105 106 107 108 109 110 111 112 113 114 115 116 117 118 119] *TEST* [120 121 122 123 124 125 126 127 128 129] \n",
      "\n",
      "train [ 50  51  52  53  54  55  56  57  58  59  60  61  62  63  64  65  66  67\n",
      "  68  69  70  71  72  73  74  75  76  77  78  79  80  81  82  83  84  85\n",
      "  86  87  88  89  90  91  92  93  94  95  96  97  98  99 100 101 102 103\n",
      " 104 105 106 107 108 109 110 111 112 113 114 115 116 117 118 119 120 121\n",
      " 122 123 124 125 126 127 128 129] *TEST* [130 131 132 133 134 135 136 137 138 139] \n",
      "\n",
      "train [ 50  51  52  53  54  55  56  57  58  59  60  61  62  63  64  65  66  67\n",
      "  68  69  70  71  72  73  74  75  76  77  78  79  80  81  82  83  84  85\n",
      "  86  87  88  89  90  91  92  93  94  95  96  97  98  99 100 101 102 103\n",
      " 104 105 106 107 108 109 110 111 112 113 114 115 116 117 118 119 120 121\n",
      " 122 123 124 125 126 127 128 129 130 131 132 133 134 135 136 137 138 139] *TEST* [140 141 142 143 144 145 146 147 148 149] \n",
      "\n",
      "train [ 50  51  52  53  54  55  56  57  58  59  60  61  62  63  64  65  66  67\n",
      "  68  69  70  71  72  73  74  75  76  77  78  79  80  81  82  83  84  85\n",
      "  86  87  88  89  90  91  92  93  94  95  96  97  98  99 100 101 102 103\n",
      " 104 105 106 107 108 109 110 111 112 113 114 115 116 117 118 119 120 121\n",
      " 122 123 124 125 126 127 128 129 130 131 132 133 134 135 136 137 138 139\n",
      " 140 141 142 143 144 145 146 147 148 149] *TEST* [150 151 152 153 154 155 156 157 158 159] \n",
      "\n",
      "train [ 50  51  52  53  54  55  56  57  58  59  60  61  62  63  64  65  66  67\n",
      "  68  69  70  71  72  73  74  75  76  77  78  79  80  81  82  83  84  85\n",
      "  86  87  88  89  90  91  92  93  94  95  96  97  98  99 100 101 102 103\n",
      " 104 105 106 107 108 109 110 111 112 113 114 115 116 117 118 119 120 121\n",
      " 122 123 124 125 126 127 128 129 130 131 132 133 134 135 136 137 138 139\n",
      " 140 141 142 143 144 145 146 147 148 149 150 151 152 153 154 155 156 157\n",
      " 158 159] *TEST* [160 161 162 163 164 165 166 167 168 169] \n",
      "\n"
     ]
    }
   ],
   "source": [
    "lkf = LeagueKFold(df, team_list, pretrained=False)\n",
    "cv = lkf.split()\n",
    "for train, test in cv:\n",
    "    print('train', train, '*TEST*', test, '\\n')"
   ]
  },
  {
   "cell_type": "code",
   "execution_count": null,
   "metadata": {},
   "outputs": [],
   "source": []
  }
 ],
 "metadata": {
  "anaconda-cloud": {},
  "kernelspec": {
   "display_name": "Python 3",
   "language": "python",
   "name": "python3"
  },
  "language_info": {
   "codemirror_mode": {
    "name": "ipython",
    "version": 3
   },
   "file_extension": ".py",
   "mimetype": "text/x-python",
   "name": "python",
   "nbconvert_exporter": "python",
   "pygments_lexer": "ipython3",
   "version": "3.7.3"
  }
 },
 "nbformat": 4,
 "nbformat_minor": 2
}
